{
  "nbformat": 4,
  "nbformat_minor": 0,
  "metadata": {
    "colab": {
      "name": "pytho.ipynb",
      "provenance": [],
      "collapsed_sections": [],
      "include_colab_link": true
    },
    "kernelspec": {
      "display_name": "Python 3",
      "name": "python3"
    },
    "language_info": {
      "name": "python"
    }
  },
  "cells": [
    {
      "cell_type": "markdown",
      "metadata": {
        "id": "view-in-github",
        "colab_type": "text"
      },
      "source": [
        "<a href=\"https://colab.research.google.com/github/shruthi-jay/pandas/blob/main/pytho.ipynb\" target=\"_parent\"><img src=\"https://colab.research.google.com/assets/colab-badge.svg\" alt=\"Open In Colab\"/></a>"
      ]
    },
    {
      "cell_type": "markdown",
      "metadata": {
        "id": "hFC032sop1Zf"
      },
      "source": [
        "                                                  1. CREATING DATAFRAME  USING DIFFERENT METHODS"
      ]
    },
    {
      "cell_type": "markdown",
      "metadata": {
        "id": "zC6aFxnSxjmp"
      },
      "source": [
        "A Pandas DataFrame is a 2 dimensional data structure, like a 2 dimensional array, or a table with rows and columns.There are many ways of creating a dataframe. Few ways to create a dataframe are :"
      ]
    },
    {
      "cell_type": "markdown",
      "metadata": {
        "id": "q2i50PSIy9Jq"
      },
      "source": [
        "1.Create an empty DataFrame\n",
        "    \n",
        "       a) without any column name or indices and then appending columns one by one to it.\n",
        "    "
      ]
    },
    {
      "cell_type": "code",
      "metadata": {
        "colab": {
          "base_uri": "https://localhost:8080/",
          "height": 195
        },
        "id": "F59k1A6DxUKv",
        "outputId": "f3af88b4-3225-44ec-c70d-9382e07ff588"
      },
      "source": [
        "# importing the pandas library  \n",
        "import pandas as pd  \n",
        "df = pd.DataFrame()  \n",
        "print (df)  \n",
        "df['Pokemon'] = ['Charmander', 'Pikachu', 'Squirtle']\n",
        "df['Type'] = ['Fire','Electric','Water']\n",
        "df['Hp'] = [58, 35, 44]\n",
        "df"
      ],
      "execution_count": null,
      "outputs": [
        {
          "output_type": "stream",
          "text": [
            "Empty DataFrame\n",
            "Columns: []\n",
            "Index: []\n"
          ],
          "name": "stdout"
        },
        {
          "output_type": "execute_result",
          "data": {
            "text/html": [
              "<div>\n",
              "<style scoped>\n",
              "    .dataframe tbody tr th:only-of-type {\n",
              "        vertical-align: middle;\n",
              "    }\n",
              "\n",
              "    .dataframe tbody tr th {\n",
              "        vertical-align: top;\n",
              "    }\n",
              "\n",
              "    .dataframe thead th {\n",
              "        text-align: right;\n",
              "    }\n",
              "</style>\n",
              "<table border=\"1\" class=\"dataframe\">\n",
              "  <thead>\n",
              "    <tr style=\"text-align: right;\">\n",
              "      <th></th>\n",
              "      <th>Pokemon</th>\n",
              "      <th>Type</th>\n",
              "      <th>Hp</th>\n",
              "    </tr>\n",
              "  </thead>\n",
              "  <tbody>\n",
              "    <tr>\n",
              "      <th>0</th>\n",
              "      <td>Charmander</td>\n",
              "      <td>Fire</td>\n",
              "      <td>58</td>\n",
              "    </tr>\n",
              "    <tr>\n",
              "      <th>1</th>\n",
              "      <td>Pikachu</td>\n",
              "      <td>Electric</td>\n",
              "      <td>35</td>\n",
              "    </tr>\n",
              "    <tr>\n",
              "      <th>2</th>\n",
              "      <td>Squirtle</td>\n",
              "      <td>Water</td>\n",
              "      <td>44</td>\n",
              "    </tr>\n",
              "  </tbody>\n",
              "</table>\n",
              "</div>"
            ],
            "text/plain": [
              "      Pokemon      Type  Hp\n",
              "0  Charmander      Fire  58\n",
              "1     Pikachu  Electric  35\n",
              "2    Squirtle     Water  44"
            ]
          },
          "metadata": {
            "tags": []
          },
          "execution_count": 101
        }
      ]
    },
    {
      "cell_type": "markdown",
      "metadata": {
        "id": "mOdfe6eB3Vf8"
      },
      "source": [
        "        b) with columns name only then appending rows one by one to it using append() method."
      ]
    },
    {
      "cell_type": "code",
      "metadata": {
        "colab": {
          "base_uri": "https://localhost:8080/",
          "height": 195
        },
        "id": "VYDU91Hk4q2n",
        "outputId": "d4943370-8bcf-43b8-9873-23085b890f71"
      },
      "source": [
        "import pandas as pd\n",
        "# create an Empty DataFrame object With column names only\n",
        "df = pd.DataFrame(columns = ['Nam', 'Type', 'Total'])\n",
        "print(df)\n",
        "# append rows to an empty DataFrame\n",
        "df = df.append({'Nam':'Bulbasaur','Type':'Grass','Total':318},ignore_index = True)\n",
        "df = df.append({'Nam':'Ivysaur','Type':'Grass','Total':405},ignore_index = True)\n",
        "df = df.append({'Nam':' Venusaur','Type':'Grass','Total':525},ignore_index = True)\n",
        "df"
      ],
      "execution_count": null,
      "outputs": [
        {
          "output_type": "stream",
          "text": [
            "Empty DataFrame\n",
            "Columns: [Nam, Type, Total]\n",
            "Index: []\n"
          ],
          "name": "stdout"
        },
        {
          "output_type": "execute_result",
          "data": {
            "text/html": [
              "<div>\n",
              "<style scoped>\n",
              "    .dataframe tbody tr th:only-of-type {\n",
              "        vertical-align: middle;\n",
              "    }\n",
              "\n",
              "    .dataframe tbody tr th {\n",
              "        vertical-align: top;\n",
              "    }\n",
              "\n",
              "    .dataframe thead th {\n",
              "        text-align: right;\n",
              "    }\n",
              "</style>\n",
              "<table border=\"1\" class=\"dataframe\">\n",
              "  <thead>\n",
              "    <tr style=\"text-align: right;\">\n",
              "      <th></th>\n",
              "      <th>Nam</th>\n",
              "      <th>Type</th>\n",
              "      <th>Total</th>\n",
              "    </tr>\n",
              "  </thead>\n",
              "  <tbody>\n",
              "    <tr>\n",
              "      <th>0</th>\n",
              "      <td>Bulbasaur</td>\n",
              "      <td>Grass</td>\n",
              "      <td>318</td>\n",
              "    </tr>\n",
              "    <tr>\n",
              "      <th>1</th>\n",
              "      <td>Ivysaur</td>\n",
              "      <td>Grass</td>\n",
              "      <td>405</td>\n",
              "    </tr>\n",
              "    <tr>\n",
              "      <th>2</th>\n",
              "      <td>Venusaur</td>\n",
              "      <td>Grass</td>\n",
              "      <td>525</td>\n",
              "    </tr>\n",
              "  </tbody>\n",
              "</table>\n",
              "</div>"
            ],
            "text/plain": [
              "         Nam   Type Total\n",
              "0  Bulbasaur  Grass   318\n",
              "1    Ivysaur  Grass   405\n",
              "2   Venusaur  Grass   525"
            ]
          },
          "metadata": {
            "tags": []
          },
          "execution_count": 102
        }
      ]
    },
    {
      "cell_type": "markdown",
      "metadata": {
        "id": "QFMFoA2d6sec"
      },
      "source": [
        "      c) with a column name and indices and then appending rows one by one to it using loc[] method"
      ]
    },
    {
      "cell_type": "code",
      "metadata": {
        "colab": {
          "base_uri": "https://localhost:8080/",
          "height": 230
        },
        "id": "x-_1BFfq6rRt",
        "outputId": "f1dcca5b-00b6-4ca8-8207-72d76b337626"
      },
      "source": [
        "import pandas as pd\n",
        "# create an Empty DataFrame object With column names and indices \n",
        "df = pd.DataFrame(columns = ['Hero', 'Agility', 'Accelerated Healing'], index = ['a', 'b', 'c'])\n",
        "print(\"Empty DataFrame\\n\", df)\n",
        "# adding rows to an empty  dataframe at existing index\n",
        "df.loc['a'] = [' 3-D Man','True','False']\n",
        "df.loc['b'] = ['A-Bomb','False','True']\n",
        "df.loc['c'] = ['Abe Sapien','True','True']\n",
        "df\n"
      ],
      "execution_count": null,
      "outputs": [
        {
          "output_type": "stream",
          "text": [
            "Empty DataFrame\n",
            "   Hero Agility Accelerated Healing\n",
            "a  NaN     NaN                 NaN\n",
            "b  NaN     NaN                 NaN\n",
            "c  NaN     NaN                 NaN\n"
          ],
          "name": "stdout"
        },
        {
          "output_type": "execute_result",
          "data": {
            "text/html": [
              "<div>\n",
              "<style scoped>\n",
              "    .dataframe tbody tr th:only-of-type {\n",
              "        vertical-align: middle;\n",
              "    }\n",
              "\n",
              "    .dataframe tbody tr th {\n",
              "        vertical-align: top;\n",
              "    }\n",
              "\n",
              "    .dataframe thead th {\n",
              "        text-align: right;\n",
              "    }\n",
              "</style>\n",
              "<table border=\"1\" class=\"dataframe\">\n",
              "  <thead>\n",
              "    <tr style=\"text-align: right;\">\n",
              "      <th></th>\n",
              "      <th>Hero</th>\n",
              "      <th>Agility</th>\n",
              "      <th>Accelerated Healing</th>\n",
              "    </tr>\n",
              "  </thead>\n",
              "  <tbody>\n",
              "    <tr>\n",
              "      <th>a</th>\n",
              "      <td>3-D Man</td>\n",
              "      <td>True</td>\n",
              "      <td>False</td>\n",
              "    </tr>\n",
              "    <tr>\n",
              "      <th>b</th>\n",
              "      <td>A-Bomb</td>\n",
              "      <td>False</td>\n",
              "      <td>True</td>\n",
              "    </tr>\n",
              "    <tr>\n",
              "      <th>c</th>\n",
              "      <td>Abe Sapien</td>\n",
              "      <td>True</td>\n",
              "      <td>True</td>\n",
              "    </tr>\n",
              "  </tbody>\n",
              "</table>\n",
              "</div>"
            ],
            "text/plain": [
              "         Hero Agility Accelerated Healing\n",
              "a     3-D Man    True               False\n",
              "b      A-Bomb   False                True\n",
              "c  Abe Sapien    True                True"
            ]
          },
          "metadata": {
            "tags": []
          },
          "execution_count": 103
        }
      ]
    },
    {
      "cell_type": "markdown",
      "metadata": {
        "id": "ZeOCr2Fn_tB1"
      },
      "source": [
        "2) Create DataFrame using List"
      ]
    },
    {
      "cell_type": "markdown",
      "metadata": {
        "id": "hWlv6hBhBole"
      },
      "source": [
        "       a) with index and column names.\n",
        "\n",
        "\n"
      ]
    },
    {
      "cell_type": "code",
      "metadata": {
        "colab": {
          "base_uri": "https://localhost:8080/",
          "height": 143
        },
        "id": "HO1IKHdCDrAL",
        "outputId": "36d4fc01-721e-4db2-b725-8514a45956a8"
      },
      "source": [
        "import pandas as pd\n",
        "# list of strings\n",
        "lst = ['Snow White and the Seven Dwarfs','Pinocchio','Fantasia']\n",
        "# Calling DataFrame constructor on list  with indices and columns specified\n",
        "df = pd.DataFrame(lst, index =['1937-12-21', '1940-02-09',' 1940-11-13'],columns =['Movie'])\n",
        "df\n"
      ],
      "execution_count": null,
      "outputs": [
        {
          "output_type": "execute_result",
          "data": {
            "text/html": [
              "<div>\n",
              "<style scoped>\n",
              "    .dataframe tbody tr th:only-of-type {\n",
              "        vertical-align: middle;\n",
              "    }\n",
              "\n",
              "    .dataframe tbody tr th {\n",
              "        vertical-align: top;\n",
              "    }\n",
              "\n",
              "    .dataframe thead th {\n",
              "        text-align: right;\n",
              "    }\n",
              "</style>\n",
              "<table border=\"1\" class=\"dataframe\">\n",
              "  <thead>\n",
              "    <tr style=\"text-align: right;\">\n",
              "      <th></th>\n",
              "      <th>Movie</th>\n",
              "    </tr>\n",
              "  </thead>\n",
              "  <tbody>\n",
              "    <tr>\n",
              "      <th>1937-12-21</th>\n",
              "      <td>Snow White and the Seven Dwarfs</td>\n",
              "    </tr>\n",
              "    <tr>\n",
              "      <th>1940-02-09</th>\n",
              "      <td>Pinocchio</td>\n",
              "    </tr>\n",
              "    <tr>\n",
              "      <th>1940-11-13</th>\n",
              "      <td>Fantasia</td>\n",
              "    </tr>\n",
              "  </tbody>\n",
              "</table>\n",
              "</div>"
            ],
            "text/plain": [
              "                                       Movie\n",
              "1937-12-21   Snow White and the Seven Dwarfs\n",
              "1940-02-09                         Pinocchio\n",
              " 1940-11-13                         Fantasia"
            ]
          },
          "metadata": {
            "tags": []
          },
          "execution_count": 104
        }
      ]
    },
    {
      "cell_type": "markdown",
      "metadata": {
        "id": "w7Ajgu2fEI04"
      },
      "source": [
        "       b) using multi-dimensional list"
      ]
    },
    {
      "cell_type": "code",
      "metadata": {
        "colab": {
          "base_uri": "https://localhost:8080/",
          "height": 175
        },
        "id": "dEapd7pcFYhK",
        "outputId": "2e8c5854-32a1-464e-ed49-91bdb869a51c"
      },
      "source": [
        "import pandas as pd \n",
        "lst = [['The Light Between Oceans','Drama'], ['Queen of Katwe','Drama'],\n",
        "       ['Doctor Strange','Adventure'], ['Moana','Adventure']]\n",
        "    \n",
        "df = pd.DataFrame(lst, columns =['Movie', 'Type'])\n",
        "df\n"
      ],
      "execution_count": null,
      "outputs": [
        {
          "output_type": "execute_result",
          "data": {
            "text/html": [
              "<div>\n",
              "<style scoped>\n",
              "    .dataframe tbody tr th:only-of-type {\n",
              "        vertical-align: middle;\n",
              "    }\n",
              "\n",
              "    .dataframe tbody tr th {\n",
              "        vertical-align: top;\n",
              "    }\n",
              "\n",
              "    .dataframe thead th {\n",
              "        text-align: right;\n",
              "    }\n",
              "</style>\n",
              "<table border=\"1\" class=\"dataframe\">\n",
              "  <thead>\n",
              "    <tr style=\"text-align: right;\">\n",
              "      <th></th>\n",
              "      <th>Movie</th>\n",
              "      <th>Type</th>\n",
              "    </tr>\n",
              "  </thead>\n",
              "  <tbody>\n",
              "    <tr>\n",
              "      <th>0</th>\n",
              "      <td>The Light Between Oceans</td>\n",
              "      <td>Drama</td>\n",
              "    </tr>\n",
              "    <tr>\n",
              "      <th>1</th>\n",
              "      <td>Queen of Katwe</td>\n",
              "      <td>Drama</td>\n",
              "    </tr>\n",
              "    <tr>\n",
              "      <th>2</th>\n",
              "      <td>Doctor Strange</td>\n",
              "      <td>Adventure</td>\n",
              "    </tr>\n",
              "    <tr>\n",
              "      <th>3</th>\n",
              "      <td>Moana</td>\n",
              "      <td>Adventure</td>\n",
              "    </tr>\n",
              "  </tbody>\n",
              "</table>\n",
              "</div>"
            ],
            "text/plain": [
              "                      Movie       Type\n",
              "0  The Light Between Oceans      Drama\n",
              "1            Queen of Katwe      Drama\n",
              "2            Doctor Strange  Adventure\n",
              "3                     Moana  Adventure"
            ]
          },
          "metadata": {
            "tags": []
          },
          "execution_count": 105
        }
      ]
    },
    {
      "cell_type": "markdown",
      "metadata": {
        "id": "HoXNlhANGK5b"
      },
      "source": [
        "3) Create Dataframe from Numpy Array"
      ]
    },
    {
      "cell_type": "code",
      "metadata": {
        "colab": {
          "base_uri": "https://localhost:8080/"
        },
        "id": "aMnC7mLRGs6O",
        "outputId": "70d03efc-6781-41ad-c126-0f90e56d1f24"
      },
      "source": [
        "import pandas as pd\n",
        "import numpy as np\n",
        "# creating the Numpy array\n",
        "array = np.array([['Earth','Documentary'], ['Up','Adventure'],\n",
        "                  ['The Proposal','Romantic Comedy'], ['Toy Story 3D Double Feature','Adventure'], \n",
        "                  ['The Princess and the Frog','Adventure']])\n",
        "# creating a list of index names\n",
        "index_values = ['A', 'B', 'C', 'D', 'E']\n",
        "# creating a list of column names\n",
        "column_values = ['Movie', 'Age']\n",
        "# creating the dataframe\n",
        "df = pd.DataFrame(data = array, \n",
        "                  index = index_values, \n",
        "                  columns = column_values)\n",
        "# displaying the dataframe\n",
        "print(df)"
      ],
      "execution_count": null,
      "outputs": [
        {
          "output_type": "stream",
          "text": [
            "                         Movie              Age\n",
            "A                        Earth      Documentary\n",
            "B                           Up        Adventure\n",
            "C                 The Proposal  Romantic Comedy\n",
            "D  Toy Story 3D Double Feature        Adventure\n",
            "E    The Princess and the Frog        Adventure\n"
          ],
          "name": "stdout"
        }
      ]
    },
    {
      "cell_type": "code",
      "metadata": {
        "id": "2Gu8DiKYTPBV"
      },
      "source": [
        ""
      ],
      "execution_count": null,
      "outputs": []
    },
    {
      "cell_type": "markdown",
      "metadata": {
        "id": "haCGAHSEInDS"
      },
      "source": [
        "4)Create data frame using dictionary"
      ]
    },
    {
      "cell_type": "markdown",
      "metadata": {
        "id": "mxpQcgwfIx3J"
      },
      "source": [
        "       a) using default Constructor of pandas-Dataframe class"
      ]
    },
    {
      "cell_type": "code",
      "metadata": {
        "colab": {
          "base_uri": "https://localhost:8080/",
          "height": 143
        },
        "id": "D9QjFVWiI73D",
        "outputId": "463e8f8c-d7b0-4677-f802-e023336d966f"
      },
      "source": [
        "import pandas as pd\n",
        "# dictionary with list object in values\n",
        "details = {\n",
        "    'Title' : ['Fullmetal Alchemist: Brotherhood', 'your name', 'A Silent Voice'],\n",
        "    'Format' : ['Tv','Movie','Movie'],\n",
        "    'Episode' : [64,1,1],\n",
        "}\n",
        "# creating a Dataframe object \n",
        "df = pd.DataFrame(details,index = ['a', 'b', 'c'])\n",
        "df"
      ],
      "execution_count": null,
      "outputs": [
        {
          "output_type": "execute_result",
          "data": {
            "text/html": [
              "<div>\n",
              "<style scoped>\n",
              "    .dataframe tbody tr th:only-of-type {\n",
              "        vertical-align: middle;\n",
              "    }\n",
              "\n",
              "    .dataframe tbody tr th {\n",
              "        vertical-align: top;\n",
              "    }\n",
              "\n",
              "    .dataframe thead th {\n",
              "        text-align: right;\n",
              "    }\n",
              "</style>\n",
              "<table border=\"1\" class=\"dataframe\">\n",
              "  <thead>\n",
              "    <tr style=\"text-align: right;\">\n",
              "      <th></th>\n",
              "      <th>Title</th>\n",
              "      <th>Format</th>\n",
              "      <th>Episode</th>\n",
              "    </tr>\n",
              "  </thead>\n",
              "  <tbody>\n",
              "    <tr>\n",
              "      <th>a</th>\n",
              "      <td>Fullmetal Alchemist: Brotherhood</td>\n",
              "      <td>Tv</td>\n",
              "      <td>64</td>\n",
              "    </tr>\n",
              "    <tr>\n",
              "      <th>b</th>\n",
              "      <td>your name</td>\n",
              "      <td>Movie</td>\n",
              "      <td>1</td>\n",
              "    </tr>\n",
              "    <tr>\n",
              "      <th>c</th>\n",
              "      <td>A Silent Voice</td>\n",
              "      <td>Movie</td>\n",
              "      <td>1</td>\n",
              "    </tr>\n",
              "  </tbody>\n",
              "</table>\n",
              "</div>"
            ],
            "text/plain": [
              "                              Title Format  Episode\n",
              "a  Fullmetal Alchemist: Brotherhood     Tv       64\n",
              "b                         your name  Movie        1\n",
              "c                    A Silent Voice  Movie        1"
            ]
          },
          "metadata": {
            "tags": []
          },
          "execution_count": 107
        }
      ]
    },
    {
      "cell_type": "markdown",
      "metadata": {
        "id": "H7bnwnqJLkGz"
      },
      "source": [
        "  b) from Dictionary with required columns only."
      ]
    },
    {
      "cell_type": "code",
      "metadata": {
        "colab": {
          "base_uri": "https://localhost:8080/",
          "height": 143
        },
        "id": "5281OhdJLv1U",
        "outputId": "6099538d-9b12-4506-854f-cc4e740690ec"
      },
      "source": [
        "import pandas as pd\n",
        "# dictionary with list object in values\n",
        "details = {\n",
        "    'Title' : ['Fullmetal Alchemist: Brotherhood', 'your name', 'A Silent Voice'],\n",
        "    'Format' : ['Tv','Movie','Movie'],\n",
        "    'Episode' : [64,1,1],\n",
        "}\n",
        "# creating a Dataframe object \n",
        "df = pd.DataFrame(details,index = ['a', 'b', 'c'],columns = ['Title', 'Format'])\n",
        "df"
      ],
      "execution_count": null,
      "outputs": [
        {
          "output_type": "execute_result",
          "data": {
            "text/html": [
              "<div>\n",
              "<style scoped>\n",
              "    .dataframe tbody tr th:only-of-type {\n",
              "        vertical-align: middle;\n",
              "    }\n",
              "\n",
              "    .dataframe tbody tr th {\n",
              "        vertical-align: top;\n",
              "    }\n",
              "\n",
              "    .dataframe thead th {\n",
              "        text-align: right;\n",
              "    }\n",
              "</style>\n",
              "<table border=\"1\" class=\"dataframe\">\n",
              "  <thead>\n",
              "    <tr style=\"text-align: right;\">\n",
              "      <th></th>\n",
              "      <th>Title</th>\n",
              "      <th>Format</th>\n",
              "    </tr>\n",
              "  </thead>\n",
              "  <tbody>\n",
              "    <tr>\n",
              "      <th>a</th>\n",
              "      <td>Fullmetal Alchemist: Brotherhood</td>\n",
              "      <td>Tv</td>\n",
              "    </tr>\n",
              "    <tr>\n",
              "      <th>b</th>\n",
              "      <td>your name</td>\n",
              "      <td>Movie</td>\n",
              "    </tr>\n",
              "    <tr>\n",
              "      <th>c</th>\n",
              "      <td>A Silent Voice</td>\n",
              "      <td>Movie</td>\n",
              "    </tr>\n",
              "  </tbody>\n",
              "</table>\n",
              "</div>"
            ],
            "text/plain": [
              "                              Title Format\n",
              "a  Fullmetal Alchemist: Brotherhood     Tv\n",
              "b                         your name  Movie\n",
              "c                    A Silent Voice  Movie"
            ]
          },
          "metadata": {
            "tags": []
          },
          "execution_count": 108
        }
      ]
    },
    {
      "cell_type": "markdown",
      "metadata": {
        "id": "2CVIdWeuMH5j"
      },
      "source": [
        "        c) from dictionary with key and simple value"
      ]
    },
    {
      "cell_type": "code",
      "metadata": {
        "colab": {
          "base_uri": "https://localhost:8080/",
          "height": 175
        },
        "id": "A6I-0cZ9Mly1",
        "outputId": "53a4403f-6cd0-484b-82c3-32c781e1121f"
      },
      "source": [
        "import pandas as pd\n",
        "# dictionary\n",
        "details = {\n",
        "    'Inception' : 2010,\n",
        "    'Avengers: Infinity War' : 2018,\n",
        "    'Back to the Future' : 1985,\n",
        "    'Spider-Man: Into the Spider-Verse' :2018\n",
        "    }\n",
        "#creating a Dataframe object from a list of tuples of key, value pair\n",
        "df = pd.DataFrame(list(details.items()))  \n",
        "df"
      ],
      "execution_count": null,
      "outputs": [
        {
          "output_type": "execute_result",
          "data": {
            "text/html": [
              "<div>\n",
              "<style scoped>\n",
              "    .dataframe tbody tr th:only-of-type {\n",
              "        vertical-align: middle;\n",
              "    }\n",
              "\n",
              "    .dataframe tbody tr th {\n",
              "        vertical-align: top;\n",
              "    }\n",
              "\n",
              "    .dataframe thead th {\n",
              "        text-align: right;\n",
              "    }\n",
              "</style>\n",
              "<table border=\"1\" class=\"dataframe\">\n",
              "  <thead>\n",
              "    <tr style=\"text-align: right;\">\n",
              "      <th></th>\n",
              "      <th>0</th>\n",
              "      <th>1</th>\n",
              "    </tr>\n",
              "  </thead>\n",
              "  <tbody>\n",
              "    <tr>\n",
              "      <th>0</th>\n",
              "      <td>Inception</td>\n",
              "      <td>2010</td>\n",
              "    </tr>\n",
              "    <tr>\n",
              "      <th>1</th>\n",
              "      <td>Avengers: Infinity War</td>\n",
              "      <td>2018</td>\n",
              "    </tr>\n",
              "    <tr>\n",
              "      <th>2</th>\n",
              "      <td>Back to the Future</td>\n",
              "      <td>1985</td>\n",
              "    </tr>\n",
              "    <tr>\n",
              "      <th>3</th>\n",
              "      <td>Spider-Man: Into the Spider-Verse</td>\n",
              "      <td>2018</td>\n",
              "    </tr>\n",
              "  </tbody>\n",
              "</table>\n",
              "</div>"
            ],
            "text/plain": [
              "                                   0     1\n",
              "0                          Inception  2010\n",
              "1             Avengers: Infinity War  2018\n",
              "2                 Back to the Future  1985\n",
              "3  Spider-Man: Into the Spider-Verse  2018"
            ]
          },
          "metadata": {
            "tags": []
          },
          "execution_count": 109
        }
      ]
    },
    {
      "cell_type": "markdown",
      "metadata": {
        "id": "GROx3kZDNPNO"
      },
      "source": [
        "       d) from nested Dictionary."
      ]
    },
    {
      "cell_type": "code",
      "metadata": {
        "colab": {
          "base_uri": "https://localhost:8080/",
          "height": 269
        },
        "id": "6hvgO0n1NTyF",
        "outputId": "6bd12219-eaf9-4bd6-a95d-ebbf36504660"
      },
      "source": [
        "import pandas as pd\n",
        "# dictionary with dictionary object in values i.e. nested dictionary\n",
        "details = { \n",
        "    0 : {\n",
        "        'Title' :'Like Stars on Earth',\n",
        "        'Year' : 2007,\n",
        "        'IMDb rating' :8.4\n",
        "        },\n",
        "    1 : {\n",
        "       'Title' :'A Silent Voice',\n",
        "        'Year' :2016,\n",
        "        'IMDb rating' :8.2\n",
        "        },\n",
        "    2 : {\n",
        "         'Title' :'Bill Burr: Im Sorry You Feel That Way',\n",
        "        'Year' :2014 ,\n",
        "        'IMDb rating' :8.4\n",
        "        },\n",
        "    3:  {\n",
        "        'Title':'The Pianist'   ,\n",
        "         'Year' :2002   ,\n",
        "         'IMDb rating' : 8.5\n",
        "        },\n",
        "    4:  {\n",
        "        'Title':'Austin Powers: International Man of Mystery'    ,\n",
        "         'Year' : 1997   ,\n",
        "         'IMDb rating' : 7\n",
        "        },\n",
        "    5:  {\n",
        "        'Title':'Paper Tiger',\n",
        "         'Year' :2019,\n",
        "         'IMDb rating' : 8.2\n",
        "         },\n",
        "    6:  {\n",
        "        'Title':'Avengers: Infinity War',\n",
        "         'Year' : 2018   ,\n",
        "         'IMDb rating' : 8.5\n",
        "    },\n",
        "}\n",
        "  \n",
        "# creating a Dataframe object from nested dictionaryin which inside dictionary key is act as index valueand column value is 0, 1, 2...\n",
        "df = pd.DataFrame(details)\n",
        "# swap the columns with indexes\n",
        "df = df.transpose()\n",
        "df"
      ],
      "execution_count": null,
      "outputs": [
        {
          "output_type": "execute_result",
          "data": {
            "text/html": [
              "<div>\n",
              "<style scoped>\n",
              "    .dataframe tbody tr th:only-of-type {\n",
              "        vertical-align: middle;\n",
              "    }\n",
              "\n",
              "    .dataframe tbody tr th {\n",
              "        vertical-align: top;\n",
              "    }\n",
              "\n",
              "    .dataframe thead th {\n",
              "        text-align: right;\n",
              "    }\n",
              "</style>\n",
              "<table border=\"1\" class=\"dataframe\">\n",
              "  <thead>\n",
              "    <tr style=\"text-align: right;\">\n",
              "      <th></th>\n",
              "      <th>Title</th>\n",
              "      <th>Year</th>\n",
              "      <th>IMDb rating</th>\n",
              "    </tr>\n",
              "  </thead>\n",
              "  <tbody>\n",
              "    <tr>\n",
              "      <th>0</th>\n",
              "      <td>Like Stars on Earth</td>\n",
              "      <td>2007</td>\n",
              "      <td>8.4</td>\n",
              "    </tr>\n",
              "    <tr>\n",
              "      <th>1</th>\n",
              "      <td>A Silent Voice</td>\n",
              "      <td>2016</td>\n",
              "      <td>8.2</td>\n",
              "    </tr>\n",
              "    <tr>\n",
              "      <th>2</th>\n",
              "      <td>Bill Burr: Im Sorry You Feel That Way</td>\n",
              "      <td>2014</td>\n",
              "      <td>8.4</td>\n",
              "    </tr>\n",
              "    <tr>\n",
              "      <th>3</th>\n",
              "      <td>The Pianist</td>\n",
              "      <td>2002</td>\n",
              "      <td>8.5</td>\n",
              "    </tr>\n",
              "    <tr>\n",
              "      <th>4</th>\n",
              "      <td>Austin Powers: International Man of Mystery</td>\n",
              "      <td>1997</td>\n",
              "      <td>7</td>\n",
              "    </tr>\n",
              "    <tr>\n",
              "      <th>5</th>\n",
              "      <td>Paper Tiger</td>\n",
              "      <td>2019</td>\n",
              "      <td>8.2</td>\n",
              "    </tr>\n",
              "    <tr>\n",
              "      <th>6</th>\n",
              "      <td>Avengers: Infinity War</td>\n",
              "      <td>2018</td>\n",
              "      <td>8.5</td>\n",
              "    </tr>\n",
              "  </tbody>\n",
              "</table>\n",
              "</div>"
            ],
            "text/plain": [
              "                                         Title  Year IMDb rating\n",
              "0                          Like Stars on Earth  2007         8.4\n",
              "1                               A Silent Voice  2016         8.2\n",
              "2        Bill Burr: Im Sorry You Feel That Way  2014         8.4\n",
              "3                                  The Pianist  2002         8.5\n",
              "4  Austin Powers: International Man of Mystery  1997           7\n",
              "5                                  Paper Tiger  2019         8.2\n",
              "6                       Avengers: Infinity War  2018         8.5"
            ]
          },
          "metadata": {
            "tags": []
          },
          "execution_count": 110
        }
      ]
    },
    {
      "cell_type": "markdown",
      "metadata": {
        "id": "3NYGmFiUOi9D"
      },
      "source": [
        "5)  copying an existing dataframe"
      ]
    },
    {
      "cell_type": "code",
      "metadata": {
        "colab": {
          "base_uri": "https://localhost:8080/",
          "height": 143
        },
        "id": "fuXxO8AxOzQN",
        "outputId": "2a80fb55-9f32-4586-eccd-ba27063e6749"
      },
      "source": [
        "df1 = df.head(3).copy()\n",
        "df1\n"
      ],
      "execution_count": null,
      "outputs": [
        {
          "output_type": "execute_result",
          "data": {
            "text/html": [
              "<div>\n",
              "<style scoped>\n",
              "    .dataframe tbody tr th:only-of-type {\n",
              "        vertical-align: middle;\n",
              "    }\n",
              "\n",
              "    .dataframe tbody tr th {\n",
              "        vertical-align: top;\n",
              "    }\n",
              "\n",
              "    .dataframe thead th {\n",
              "        text-align: right;\n",
              "    }\n",
              "</style>\n",
              "<table border=\"1\" class=\"dataframe\">\n",
              "  <thead>\n",
              "    <tr style=\"text-align: right;\">\n",
              "      <th></th>\n",
              "      <th>Title</th>\n",
              "      <th>Year</th>\n",
              "      <th>IMDb rating</th>\n",
              "    </tr>\n",
              "  </thead>\n",
              "  <tbody>\n",
              "    <tr>\n",
              "      <th>0</th>\n",
              "      <td>Like Stars on Earth</td>\n",
              "      <td>2007</td>\n",
              "      <td>8.4</td>\n",
              "    </tr>\n",
              "    <tr>\n",
              "      <th>1</th>\n",
              "      <td>A Silent Voice</td>\n",
              "      <td>2016</td>\n",
              "      <td>8.2</td>\n",
              "    </tr>\n",
              "    <tr>\n",
              "      <th>2</th>\n",
              "      <td>Bill Burr: Im Sorry You Feel That Way</td>\n",
              "      <td>2014</td>\n",
              "      <td>8.4</td>\n",
              "    </tr>\n",
              "  </tbody>\n",
              "</table>\n",
              "</div>"
            ],
            "text/plain": [
              "                                   Title  Year IMDb rating\n",
              "0                    Like Stars on Earth  2007         8.4\n",
              "1                         A Silent Voice  2016         8.2\n",
              "2  Bill Burr: Im Sorry You Feel That Way  2014         8.4"
            ]
          },
          "metadata": {
            "tags": []
          },
          "execution_count": 111
        }
      ]
    },
    {
      "cell_type": "markdown",
      "metadata": {
        "id": "f8aeVkG_zfcb"
      },
      "source": [
        "\n",
        "\n",
        "---\n",
        "\n"
      ]
    },
    {
      "cell_type": "markdown",
      "metadata": {
        "id": "4EQxJFiGUp_7"
      },
      "source": [
        "                                                   2.  CREATE DATAFRAME FROM CSV FILE AND SAVE AS CSV FILE \n",
        "  "
      ]
    },
    {
      "cell_type": "markdown",
      "metadata": {
        "id": "i8HFji9BY59m"
      },
      "source": [
        "    a) Load data from local drive "
      ]
    },
    {
      "cell_type": "code",
      "metadata": {
        "colab": {
          "background_save": true,
          "resources": {
            "http://localhost:8080/nbextensions/google.colab/files.js": {
              "data": "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",
              "headers": [
                [
                  "content-type",
                  "application/javascript"
                ]
              ],
              "ok": true,
              "status": 200,
              "status_text": ""
            }
          },
          "base_uri": "https://localhost:8080/",
          "height": 39
        },
        "id": "dKXAU9CtWrdP",
        "outputId": "1a4666ad-20f3-4a4c-e96f-225016075cd8"
      },
      "source": [
        "import pandas as pd\n",
        "\n",
        "from google.colab import files\n",
        "uploaded = files.upload()\n",
        "\n",
        "\n"
      ],
      "execution_count": null,
      "outputs": [
        {
          "output_type": "display_data",
          "data": {
            "text/html": [
              "\n",
              "     <input type=\"file\" id=\"files-4a6491ba-d959-450b-9a8a-047ad145534f\" name=\"files[]\" multiple disabled\n",
              "        style=\"border:none\" />\n",
              "     <output id=\"result-4a6491ba-d959-450b-9a8a-047ad145534f\">\n",
              "      Upload widget is only available when the cell has been executed in the\n",
              "      current browser session. Please rerun this cell to enable.\n",
              "      </output>\n",
              "      <script src=\"/nbextensions/google.colab/files.js\"></script> "
            ],
            "text/plain": [
              "<IPython.core.display.HTML object>"
            ]
          },
          "metadata": {
            "tags": []
          }
        }
      ]
    },
    {
      "cell_type": "code",
      "metadata": {
        "id": "sHisAbZdXIdX"
      },
      "source": [
        "import io\n",
        "\n",
        "superheroes_df = pd.read_csv(io.BytesIO(uploaded['superheroes_power_matrix.csv']))\n",
        "superheroes_df.head(2)"
      ],
      "execution_count": null,
      "outputs": []
    },
    {
      "cell_type": "markdown",
      "metadata": {
        "id": "CxEeC97oZUPP"
      },
      "source": [
        "       b) From Github"
      ]
    },
    {
      "cell_type": "code",
      "metadata": {
        "id": "UK9-wrqVZ62h"
      },
      "source": [
        "path='https://raw.githubusercontent.com/shruthi-jay/pandas/main/Pokemon.csv'\n",
        "pokemon_df = pd.read_csv(path,sep = ',', header = 'infer', index_col =None, usecols = ['Name','Type 1','Attack','Defense','Speed'])\n",
        "pokemon_df.head(7)"
      ],
      "execution_count": null,
      "outputs": []
    },
    {
      "cell_type": "markdown",
      "metadata": {
        "id": "4QRlwAd5c0YK"
      },
      "source": [
        "2) Save Dataframe as CSV file using to_csv() method"
      ]
    },
    {
      "cell_type": "code",
      "metadata": {
        "id": "ygLvhkmsds02"
      },
      "source": [
        "data = {'Name':['Brad Pitt','Christopher Walken','Daniel Day-Lewis','Dustin Hoffman'],\n",
        "        'Oscar':[1,1,3,2],\n",
        "        'BAFTA':[1,1,4,4]}\n",
        "df = pd.DataFrame(data)\n",
        "df.to_csv('my_dataset.csv')"
      ],
      "execution_count": null,
      "outputs": []
    },
    {
      "cell_type": "markdown",
      "metadata": {
        "id": "_REMJYcGzkWn"
      },
      "source": [
        "\n",
        "\n",
        "---\n",
        "\n"
      ]
    },
    {
      "cell_type": "markdown",
      "metadata": {
        "id": "ofqTUzL6jKrT"
      },
      "source": [
        "                                                       3. GROUP BY OPERATIONS IN DATAFRAME"
      ]
    },
    {
      "cell_type": "markdown",
      "metadata": {
        "id": "tEZSE7oMkAsH"
      },
      "source": [
        "Pandas dataframe.groupby() function is used to split the data into groups based on some criteria. pandas objects can be split on any of their axes."
      ]
    },
    {
      "cell_type": "markdown",
      "metadata": {
        "id": "LGqXGGyE0Lxh"
      },
      "source": [
        "  1)   Splitting to groups "
      ]
    },
    {
      "cell_type": "code",
      "metadata": {
        "id": "fRPF7vfwkQXC"
      },
      "source": [
        "import pandas as pd \n",
        "df = pd.read_csv('https://raw.githubusercontent.com/shruthi-jay/pandas/main/Pokemon.csv')\n",
        "gk = df.groupby('Type 1')\n",
        "# Let's print the first entries in all the groups formed.\n",
        "gk.first()"
      ],
      "execution_count": null,
      "outputs": []
    },
    {
      "cell_type": "code",
      "metadata": {
        "id": "wDPhPbh00LJS"
      },
      "source": [
        "gk.last()"
      ],
      "execution_count": null,
      "outputs": []
    },
    {
      "cell_type": "markdown",
      "metadata": {
        "id": "qHENZDHl0d7H"
      },
      "source": [
        " 2) Select a Group\n",
        "\n"
      ]
    },
    {
      "cell_type": "code",
      "metadata": {
        "id": "ORTgYlWxl7lI"
      },
      "source": [
        "gk.get_group('Water').head(5)"
      ],
      "execution_count": null,
      "outputs": []
    },
    {
      "cell_type": "markdown",
      "metadata": {
        "id": "bzGS0yRhznGJ"
      },
      "source": [
        "\n",
        "\n",
        "---\n",
        "\n"
      ]
    },
    {
      "cell_type": "markdown",
      "metadata": {
        "id": "2-66peIInifJ"
      },
      "source": [
        "                                                         4.  COMBINING AND MERGING DATASETS"
      ]
    },
    {
      "cell_type": "markdown",
      "metadata": {
        "id": "19HCabkEs_ZN"
      },
      "source": [
        "a) Concatenating DataFrame"
      ]
    },
    {
      "cell_type": "markdown",
      "metadata": {
        "id": "ZKTxhrcayDkS"
      },
      "source": [
        "    1)  using concat() only"
      ]
    },
    {
      "cell_type": "code",
      "metadata": {
        "id": "R_90I1srpt0V"
      },
      "source": [
        "#to concat a dataframe, we use .concat() function .this function concat a dataframe and returns a new dataframe.\n",
        "import pandas as pd \n",
        "data1 = {'Movie':['Ice Princess', 'The Princess Diaries', 'Monsters, Inc.', 'The Jungle Book 2'], \n",
        "        'Year':[2005, 2001, 2001, 2003], \n",
        "        'Genre':['Comedy','Comedy', 'Adventure', 'Adventure']} \n",
        "   \n",
        "# Define dictionary \n",
        "data2 = {'Movie':['Monsters University', 'Frozen', 'Thor: The Dark World', 'Into the Woods'], \n",
        "        'Year':[2013,2013, 2013,2014], \n",
        "        'Genre':['Adventure', 'Adventure', 'Adventure', 'Musical']} \n",
        "\n",
        " \n",
        "# Convert the dictionarys into DataFrames  \n",
        "df1= pd.DataFrame(data1,index=[0, 1, 2, 3])\n",
        "df2 = pd.DataFrame(data2, index=[4, 5, 6, 7])\n",
        "frames = [df1, df2]\n",
        "final_1 = pd.concat(frames)\n",
        "final_1\n"
      ],
      "execution_count": null,
      "outputs": []
    },
    {
      "cell_type": "markdown",
      "metadata": {
        "id": "JLEoA0vlyPgK"
      },
      "source": [
        "    2)  Setting axis along with concat() to get intersection of dataframe"
      ]
    },
    {
      "cell_type": "code",
      "metadata": {
        "id": "HhvmV8cAsXq7"
      },
      "source": [
        "# set axes join = inner   to get the intersection of dataframe\n",
        "data3 = {'Movie':['Monsters, Inc.', 'The Jungle Book 2', 'Thor: The Dark World', 'Into the Woods'], \n",
        "        'Year':[2001, 2003, 2013,2014], \n",
        "        'Genre':['Adventure', 'Adventure', 'Adventure', 'Musical']} \n",
        "df3 = pd.DataFrame(data3,index=[2, 3, 6, 7]) \n",
        "#set axes join = inner for intersection of dataframe\n",
        "final_2 = pd.concat([df1, df3], axis=1, join='inner')\n",
        "final_2"
      ],
      "execution_count": null,
      "outputs": []
    },
    {
      "cell_type": "markdown",
      "metadata": {
        "id": "cuT6Ix1ZtOXk"
      },
      "source": [
        "b) Merging DataFrame"
      ]
    },
    {
      "cell_type": "markdown",
      "metadata": {
        "id": "wypfHPtYvs-2"
      },
      "source": [
        "    1)  Merge Two DataFrames on a Key"
      ]
    },
    {
      "cell_type": "code",
      "metadata": {
        "id": "yAlsRLv-uHxS"
      },
      "source": [
        "# import the pandas library\n",
        "import pandas as pd\n",
        "left = pd.DataFrame({\n",
        "   'id':[1,2,3,4,5],\n",
        "   'Name': ['Bulbasaur', 'Wartortle', 'Flareon', 'Kakuna', 'Pikachu'],\n",
        "   'type':['Grass','Water','Fire','Bug','Electric']})\n",
        "right = pd.DataFrame(\n",
        "   {'id':[1,2,3,4,5],\n",
        "   'Name': ['Lapras', 'Magmar', 'Arbok', 'Beedrill', 'Raichu'],\n",
        "   'type':['Water','Fire','Poison','Bug','Electric']})\n",
        "pd.merge(left,right,on='id')"
      ],
      "execution_count": null,
      "outputs": []
    },
    {
      "cell_type": "markdown",
      "metadata": {
        "id": "i4UBHVzyv0ow"
      },
      "source": [
        "    2)  Merge Two DataFrames on Multiple Keys"
      ]
    },
    {
      "cell_type": "code",
      "metadata": {
        "id": "NeDTHgduv_Ys"
      },
      "source": [
        "import pandas as pd\n",
        "left = pd.DataFrame({\n",
        "   'id':[1,2,3,4,5],\n",
        "   'Name': ['Bulbasaur', 'Wartortle', 'Flareon', 'Kakuna', 'Pikachu'],\n",
        "   'type':['Grass','Water','Fire','Bug','Electric']})\n",
        "right = pd.DataFrame(\n",
        "   {'id':[1,2,3,4,5],\n",
        "   'Name': ['Lapras', 'Magmar', 'Arbok', 'Beedrill', 'Raichu'],\n",
        "   'type':['Water','Fire','Poison','Bug','Electric']})\n",
        "pd.merge(left,right,on=['id','type'])"
      ],
      "execution_count": null,
      "outputs": []
    },
    {
      "cell_type": "markdown",
      "metadata": {
        "id": "UdPh7Aj0whO6"
      },
      "source": [
        "    3)  Merge Using 'how' Argument \n"
      ]
    },
    {
      "cell_type": "code",
      "metadata": {
        "id": "OkyYE1DUw0Tc"
      },
      "source": [
        "#left join\n",
        "pd.merge(left, right, on='type', how='left')"
      ],
      "execution_count": null,
      "outputs": []
    },
    {
      "cell_type": "code",
      "metadata": {
        "id": "m-46Gg_gxZqn"
      },
      "source": [
        "#right join\n",
        "pd.merge(left, right, on='type', how='right')"
      ],
      "execution_count": null,
      "outputs": []
    },
    {
      "cell_type": "code",
      "metadata": {
        "id": "sFY2IoxoxqNe"
      },
      "source": [
        "#outer join\n",
        "pd.merge(left, right, on='type', how='outer')"
      ],
      "execution_count": null,
      "outputs": []
    },
    {
      "cell_type": "code",
      "metadata": {
        "id": "zSue4W5Xxyew"
      },
      "source": [
        "#inner join\n",
        "pd.merge(left, right, on='type', how='inner')"
      ],
      "execution_count": null,
      "outputs": []
    },
    {
      "cell_type": "markdown",
      "metadata": {
        "id": "MWZefKV0zQEl"
      },
      "source": [
        "3)  Join\n",
        "  \n",
        "   Both join and merge can be used to combines two dataframes but the join method combines two dataframes on the basis of their indexes whereas the merge method is more versatile and allows us to specify columns beside the index to join on for both dataframes."
      ]
    },
    {
      "cell_type": "markdown",
      "metadata": {
        "id": "F0aT_6Qszuno"
      },
      "source": [
        "\n",
        "\n",
        "---\n",
        "\n"
      ]
    },
    {
      "cell_type": "markdown",
      "metadata": {
        "id": "OP_Nqyir4Yzb"
      },
      "source": [
        "                                                         5. TYPES  OF INDEXING IN DATA FRAME"
      ]
    },
    {
      "cell_type": "markdown",
      "metadata": {
        "id": "HeAGP9m94yoG"
      },
      "source": [
        "Indexing in pandas means simply selecting particular rows and columns of data from a DataFrame.Indexing can also be known as Subset Selection."
      ]
    },
    {
      "cell_type": "markdown",
      "metadata": {
        "id": "9HKnStXL-9Cf"
      },
      "source": [
        "    1)  Indexing a Dataframe using indexing operator [] :"
      ]
    },
    {
      "cell_type": "code",
      "metadata": {
        "id": "rcsqtNsM5ozw"
      },
      "source": [
        "# retrieving columns by indexing operator\n",
        "first = pokemon_df[\"Name\"]\n",
        "first.head(7)\n",
        " "
      ],
      "execution_count": null,
      "outputs": []
    },
    {
      "cell_type": "code",
      "metadata": {
        "id": "R2eAes1v9x6I"
      },
      "source": [
        "#In order to select multiple columns, we have to pass a list of columns in an indexing operator.\n",
        "first = pokemon_df[[\"Attack\", \"Speed\"]]\n",
        "first.head(6)"
      ],
      "execution_count": null,
      "outputs": []
    },
    {
      "cell_type": "markdown",
      "metadata": {
        "id": "y5B7TTOT_Anw"
      },
      "source": [
        "    2) indexing a DataFrame using .loc[ ] :"
      ]
    },
    {
      "cell_type": "code",
      "metadata": {
        "id": "eOhJ-yBe_XO4",
        "colab": {
          "base_uri": "https://localhost:8080/",
          "height": 235
        },
        "outputId": "9ec88fa4-55dc-4b7e-f4ba-abd777aae8b6"
      },
      "source": [
        "#In order to select a single row using .loc[], we put a single row label in a .loc function.\n",
        "first = data.loc[\"Pikachu\"]\n",
        "second = data.loc[\"Rattata\"]\n",
        "  \n",
        "  \n",
        "print(first, \"\\n\\n\\n\", second)"
      ],
      "execution_count": 25,
      "outputs": [
        {
          "output_type": "error",
          "ename": "AttributeError",
          "evalue": "ignored",
          "traceback": [
            "\u001b[0;31m---------------------------------------------------------------------------\u001b[0m",
            "\u001b[0;31mAttributeError\u001b[0m                            Traceback (most recent call last)",
            "\u001b[0;32m<ipython-input-25-8b220168f8b6>\u001b[0m in \u001b[0;36m<module>\u001b[0;34m()\u001b[0m\n\u001b[1;32m      1\u001b[0m \u001b[0;31m#In order to select a single row using .loc[], we put a single row label in a .loc function.\u001b[0m\u001b[0;34m\u001b[0m\u001b[0;34m\u001b[0m\u001b[0;34m\u001b[0m\u001b[0m\n\u001b[0;32m----> 2\u001b[0;31m \u001b[0mfirst\u001b[0m \u001b[0;34m=\u001b[0m \u001b[0mdata\u001b[0m\u001b[0;34m.\u001b[0m\u001b[0mloc\u001b[0m\u001b[0;34m[\u001b[0m\u001b[0;34m\"Pikachu\"\u001b[0m\u001b[0;34m]\u001b[0m\u001b[0;34m\u001b[0m\u001b[0;34m\u001b[0m\u001b[0m\n\u001b[0m\u001b[1;32m      3\u001b[0m \u001b[0msecond\u001b[0m \u001b[0;34m=\u001b[0m \u001b[0mdata\u001b[0m\u001b[0;34m.\u001b[0m\u001b[0mloc\u001b[0m\u001b[0;34m[\u001b[0m\u001b[0;34m\"Rattata\"\u001b[0m\u001b[0;34m]\u001b[0m\u001b[0;34m\u001b[0m\u001b[0;34m\u001b[0m\u001b[0m\n\u001b[1;32m      4\u001b[0m \u001b[0;34m\u001b[0m\u001b[0m\n\u001b[1;32m      5\u001b[0m \u001b[0;34m\u001b[0m\u001b[0m\n",
            "\u001b[0;31mAttributeError\u001b[0m: 'dict' object has no attribute 'loc'"
          ]
        }
      ]
    },
    {
      "cell_type": "code",
      "metadata": {
        "id": "-RndXJzv_oTv"
      },
      "source": [
        "#In order to select multiple rows, we put all the row labels in a list and pass that to .loc function.\n",
        "# retrieving multiple rows by loc method\n",
        "\n",
        "\n",
        "\n",
        "\n",
        "\n",
        "\n",
        "\n",
        "\n"
      ],
      "execution_count": null,
      "outputs": []
    },
    {
      "cell_type": "code",
      "metadata": {
        "id": "HU2A8X4KBv-D"
      },
      "source": [
        "#Selecting two rows and three columns"
      ],
      "execution_count": null,
      "outputs": []
    },
    {
      "cell_type": "code",
      "metadata": {
        "id": "6jHVf_zBAnGW"
      },
      "source": [
        "# retrieving all rows and some columns by loc method\n",
        "first = pokemon_df.loc[:, [\"Name\", \"Attack\"]]\n",
        "first.head(5)"
      ],
      "execution_count": null,
      "outputs": []
    },
    {
      "cell_type": "markdown",
      "metadata": {
        "id": "66jjmkwWCB_9"
      },
      "source": [
        "    3)  Indexing a DataFrame using .iloc[ ] :"
      ]
    },
    {
      "cell_type": "code",
      "metadata": {
        "id": "1iVulRr6CLbh"
      },
      "source": [
        "#Selecting a single row\n",
        "now = pokemon_df.iloc[3] \n",
        "print(now)"
      ],
      "execution_count": null,
      "outputs": []
    },
    {
      "cell_type": "code",
      "metadata": {
        "id": "xOpiD-k6CQOj"
      },
      "source": [
        "#Selecting multiple \n",
        "now= pokemon_df.iloc [[3, 5, 7]]\n",
        "now"
      ],
      "execution_count": null,
      "outputs": []
    },
    {
      "cell_type": "code",
      "metadata": {
        "id": "1b3guTysCUm4"
      },
      "source": [
        "#Selecting two rows and two \n",
        "now = data.iloc [[3, 4], [1, 2]]\n",
        "now"
      ],
      "execution_count": null,
      "outputs": []
    },
    {
      "cell_type": "code",
      "metadata": {
        "id": "xJai50IjCYha"
      },
      "source": [
        "#Selecting all the rows and a some columns\n",
        "now = pokemon_df.iloc [:, [1, 2]]\n",
        "now.head(5)"
      ],
      "execution_count": null,
      "outputs": []
    },
    {
      "cell_type": "markdown",
      "metadata": {
        "id": "utmKZInLEjrd"
      },
      "source": [
        ""
      ]
    },
    {
      "cell_type": "markdown",
      "metadata": {
        "id": "_s51LFCPEj3e"
      },
      "source": [
        "\n",
        "\n",
        "---\n",
        "\n"
      ]
    },
    {
      "cell_type": "markdown",
      "metadata": {
        "id": "BNZ_tYG7EkKN"
      },
      "source": [
        "                                                        6. AGGREGATION FUNCTION IN DATA FRAME\n",
        "\n"
      ]
    },
    {
      "cell_type": "code",
      "metadata": {
        "id": "PAKjHkgn3Oup",
        "colab": {
          "base_uri": "https://localhost:8080/",
          "height": 175
        },
        "outputId": "fe1e8ea1-6388-4095-fb17-7707400b34f2"
      },
      "source": [
        "#Pandas groupby: mean()\n",
        "#The aggregate function mean() computes mean values for each group. Here, pandas groupby followed by mean will compute mean population for each continent.\n",
        "path='https://raw.githubusercontent.com/shruthi-jay/pandas/main/Pokemon.csv'\n",
        "pokemon_df = pd.read_csv(path,sep = ',', header = 'infer', index_col =None, usecols = ['Name','Type 1','Attack','Defense','Speed'])\n",
        "pokemon_df.groupby(\"Speed\").mean().head(3)\n"
      ],
      "execution_count": 21,
      "outputs": [
        {
          "output_type": "execute_result",
          "data": {
            "text/html": [
              "<div>\n",
              "<style scoped>\n",
              "    .dataframe tbody tr th:only-of-type {\n",
              "        vertical-align: middle;\n",
              "    }\n",
              "\n",
              "    .dataframe tbody tr th {\n",
              "        vertical-align: top;\n",
              "    }\n",
              "\n",
              "    .dataframe thead th {\n",
              "        text-align: right;\n",
              "    }\n",
              "</style>\n",
              "<table border=\"1\" class=\"dataframe\">\n",
              "  <thead>\n",
              "    <tr style=\"text-align: right;\">\n",
              "      <th></th>\n",
              "      <th>Attack</th>\n",
              "      <th>Defense</th>\n",
              "    </tr>\n",
              "    <tr>\n",
              "      <th>Speed</th>\n",
              "      <th></th>\n",
              "      <th></th>\n",
              "    </tr>\n",
              "  </thead>\n",
              "  <tbody>\n",
              "    <tr>\n",
              "      <th>5</th>\n",
              "      <td>47.500000</td>\n",
              "      <td>135.000000</td>\n",
              "    </tr>\n",
              "    <tr>\n",
              "      <th>10</th>\n",
              "      <td>76.666667</td>\n",
              "      <td>77.000000</td>\n",
              "    </tr>\n",
              "    <tr>\n",
              "      <th>15</th>\n",
              "      <td>47.777778</td>\n",
              "      <td>53.666667</td>\n",
              "    </tr>\n",
              "  </tbody>\n",
              "</table>\n",
              "</div>"
            ],
            "text/plain": [
              "          Attack     Defense\n",
              "Speed                       \n",
              "5      47.500000  135.000000\n",
              "10     76.666667   77.000000\n",
              "15     47.777778   53.666667"
            ]
          },
          "metadata": {
            "tags": []
          },
          "execution_count": 21
        }
      ]
    },
    {
      "cell_type": "code",
      "metadata": {
        "id": "YZ_5_LQ03klH"
      },
      "source": [
        "#2. Pandas groupby: sum\n",
        "#The aggregating function sum() simply adds of values within each group.\n",
        "pokemon_df.groupby(\"Type 1\").sum().head(3)"
      ],
      "execution_count": null,
      "outputs": []
    },
    {
      "cell_type": "code",
      "metadata": {
        "id": "kUnnLhbG34AY"
      },
      "source": [
        "#3. Pandas groupby: size() The aggregating function size() computes the size per each group.\n",
        "pokemon_df.groupby(\"Type 1\").size()"
      ],
      "execution_count": null,
      "outputs": []
    },
    {
      "cell_type": "code",
      "metadata": {
        "id": "u5F1yLHP4JJp"
      },
      "source": [
        "# Pandas groupby: count()\n",
        "#The aggregating function count() computes the number of values with in each group.\n",
        "pokemon_df.groupby(\"Type 1\").count()"
      ],
      "execution_count": null,
      "outputs": []
    },
    {
      "cell_type": "code",
      "metadata": {
        "id": "baO5V7J74gli"
      },
      "source": [
        "# Pandas groupby: std()\n",
        "#The aggregating function std() computes standard deviation of the values within each group.\n",
        "pokemon_df.groupby(\"Type 1\").std()"
      ],
      "execution_count": null,
      "outputs": []
    },
    {
      "cell_type": "code",
      "metadata": {
        "id": "W3LzjpI85cye"
      },
      "source": [
        "#Pandas grouby: var()\n",
        "#The aggregating function var() computes variance, an estimate of variability, for each column per group.\n",
        "pokemon_df.groupby(\"Type 1\").var()"
      ],
      "execution_count": null,
      "outputs": []
    },
    {
      "cell_type": "code",
      "metadata": {
        "id": "pvbU9oqI5rpQ"
      },
      "source": [
        "#. Pandas describe():\n",
        "#The aggregating function describe() computes a quick summary of values per group. It computes the number of values, mean, std, the minimum value, maximum value and value at multiple percentiles.\n",
        "pokemon_df.groupby(\"Type 1\").describe()\n"
      ],
      "execution_count": null,
      "outputs": []
    },
    {
      "cell_type": "code",
      "metadata": {
        "id": "BCF3Bcjx6Bfh"
      },
      "source": [
        "#Pandas groupby: n()\n",
        "#The aggregating function nth(), gives nth value, in each group.\n",
        "pokemon_df.groupby(\"Type 1\").nth(10) \n"
      ],
      "execution_count": null,
      "outputs": []
    },
    {
      "cell_type": "code",
      "metadata": {
        "id": "PtKxGklS6Ysq"
      },
      "source": [
        "#Pandas groupby: min() and max()\n",
        "#min() and max() function are used to get minimum and maximum value per group respectively.\n",
        "pokemon_df.groupby(\"Type 1\").min().head(3)\n"
      ],
      "execution_count": null,
      "outputs": []
    },
    {
      "cell_type": "code",
      "metadata": {
        "id": "3GpsG_4e63NY"
      },
      "source": [
        "pokemon_df.groupby(\"Type 1\").max().head(2)"
      ],
      "execution_count": null,
      "outputs": []
    },
    {
      "cell_type": "markdown",
      "metadata": {
        "id": "UawUR4OI7f3K"
      },
      "source": [
        "\n",
        "\n",
        "---\n",
        "\n"
      ]
    },
    {
      "cell_type": "markdown",
      "metadata": {
        "id": "UEbn4aoi7Yiv"
      },
      "source": [
        "                                                     7. Appending rows and columns to the Data frame"
      ]
    },
    {
      "cell_type": "markdown",
      "metadata": {
        "id": "HhbBTwkb7vwp"
      },
      "source": [
        "dataframe.append() function is used to append rows of other dataframe to the end of the given dataframe, returning a new dataframe object. Columns not in the original dataframes are added as new columns and the new cells are populated with NaN value."
      ]
    },
    {
      "cell_type": "markdown",
      "metadata": {
        "id": "7iOzSCcq896n"
      },
      "source": [
        "    1)  appending one dataframe to another \n",
        "\n"
      ]
    },
    {
      "cell_type": "code",
      "metadata": {
        "id": "cDxr8g8x-TRw"
      },
      "source": [
        "# Creating the first Dataframe using dictionary\n",
        "df1 = pd.DataFrame({\"movie\":[ 'Inception', 'Avengers: Infinity War','Back to the Future','Spider-Man: Into the Spider-Verse'],\n",
        "                         \"year\":[2010,2018,1985, 2018]})\n",
        "# Creating the Second Dataframe using dictionary\n",
        "df2 = pd.DataFrame({\"movie\":[ 'Like Stars on Earth','A Silent Voice','Bill Burr: Im Sorry You Feel That Way','The Pianist' ],\n",
        "                    \"year\":[2007,2016,2014,2002]})\n",
        "## to append df2 at the end of df1 dataframe\n",
        "df1.append(df2)\n",
        "df1"
      ],
      "execution_count": null,
      "outputs": []
    },
    {
      "cell_type": "markdown",
      "metadata": {
        "id": "Jk9d_rVg_zYF"
      },
      "source": [
        "    2)   appending one dataframe to another with index value ignored"
      ]
    },
    {
      "cell_type": "code",
      "metadata": {
        "id": "GaQxoJXA_7d_"
      },
      "source": [
        "df1.append(df2, ignore_index = True)\n",
        "df1"
      ],
      "execution_count": null,
      "outputs": []
    },
    {
      "cell_type": "markdown",
      "metadata": {
        "id": "Yx5kBKGGAJrH"
      },
      "source": [
        "    3) Append dataframe of different shape"
      ]
    },
    {
      "cell_type": "code",
      "metadata": {
        "id": "YWzcKoGUAdlJ"
      },
      "source": [
        "left = pd.DataFrame({\n",
        "   'id':[1,2,3,4,5],\n",
        "   'Name': ['Bulbasaur', 'Wartortle', 'Flareon', 'Kakuna', 'Pikachu'],\n",
        "   'type':['Grass','Water','Fire','Bug','Electric']})\n",
        "right = pd.DataFrame(\n",
        "   {'id':[1,2,3,4,5],\n",
        "   'Name': ['Lapras', 'Magmar', 'Arbok', 'Beedrill', 'Raichu']})\n",
        "left.append(right, ignore_index = True)\n",
        "# the new cells are populated with NaN values."
      ],
      "execution_count": null,
      "outputs": []
    },
    {
      "cell_type": "markdown",
      "metadata": {
        "id": "Nnak1hmDBJlD"
      },
      "source": [
        "    3) Add a single row using DataFrame.loc "
      ]
    },
    {
      "cell_type": "code",
      "metadata": {
        "id": "zB-lB8_EBT-a"
      },
      "source": [
        "import pandas as pd\n",
        "from numpy.random import randint\n",
        "dict = {'Name': ['Bulbasaur', 'Wartortle', 'Flareon', 'Kakuna', 'Pikachu'],\n",
        "        'type':['Grass','Water','Fire','Bug','Electric']\n",
        "       }\n",
        "df = pd.DataFrame(dict)\n",
        "df.loc[len(df.index)] = ['Ratatta','Grass'] \n",
        "display(df)"
      ],
      "execution_count": null,
      "outputs": []
    },
    {
      "cell_type": "markdown",
      "metadata": {
        "id": "L3tjceXPEMlv"
      },
      "source": [
        "    4)  Adding new column to existing DataFrame  by declaring a new list as a column"
      ]
    },
    {
      "cell_type": "code",
      "metadata": {
        "id": "s9vP_aknFlE0"
      },
      "source": [
        "\n",
        "# Import pandas package \n",
        "import pandas as pd\n",
        "# Define a dictionary containing Students data\n",
        "movi= {'Name': ['Snow White and the Seven Dwarfs', 'Pinocchio', 'Cinderella', 'Born Yesterday'],\n",
        "        'Year': [1937,1940,1950,1993]}\n",
        "# Convert the dictionary into DataFrame\n",
        "df = pd.DataFrame(movi)\n",
        "# Declare a list that is to be converted into a column\n",
        "Genre = ['Musical', 'Adventure', 'Drama', 'Romantic Comedy']\n",
        "# Using 'Address' as the column name and equating it to the list\n",
        "df['Genre'] = Genre\n",
        "df"
      ],
      "execution_count": null,
      "outputs": []
    },
    {
      "cell_type": "markdown",
      "metadata": {
        "id": "Kcj-5H-rG84w"
      },
      "source": [
        "    5) Adding new column to existing DataFrame using DataFrame.insert()"
      ]
    },
    {
      "cell_type": "markdown",
      "metadata": {
        "id": "4FcZiZ-YHPZu"
      },
      "source": [
        "It gives the freedom to add a column at any position we like and not just at the end. It also provides different options for inserting the column values."
      ]
    },
    {
      "cell_type": "code",
      "metadata": {
        "id": "De5JzI5WH9v_"
      },
      "source": [
        "df.insert(2, \"Rating\", ['G','G','G','PG'], True)\n",
        "df"
      ],
      "execution_count": null,
      "outputs": []
    },
    {
      "cell_type": "markdown",
      "metadata": {
        "id": "NdReBKv5IUiN"
      },
      "source": [
        "    6)  Adding new column to existing DataFrame using  Dataframe.assign() method"
      ]
    },
    {
      "cell_type": "markdown",
      "metadata": {
        "id": "5slRuRSHIdTH"
      },
      "source": [
        "This method will create a new dataframe with new column added to the old dataframe.\n",
        "\n"
      ]
    },
    {
      "cell_type": "code",
      "metadata": {
        "id": "MWoUIi7ZIjqq"
      },
      "source": [
        "import pandas as pd\n",
        "movie= {'Name': ['Snow White and the Seven Dwarfs', 'Pinocchio', 'Cinderella', 'Born Yesterday'],\n",
        "        'Year': [1937,1940,1950,1993]}  \n",
        "df = pd.DataFrame(movie)\n",
        "# Using 'Genre' as the column name and equating it to the list\n",
        "df2 = df.assign(Genre = ['Musical', 'Adventure', 'Drama', 'Romantic Comedy'])\n",
        "   \n",
        "# Observe the result\n",
        "df2"
      ],
      "execution_count": null,
      "outputs": []
    },
    {
      "cell_type": "markdown",
      "metadata": {
        "id": "AZbhdCa8I_--"
      },
      "source": [
        "     7) Adding new column to existing DataFrame using Dictionary"
      ]
    },
    {
      "cell_type": "markdown",
      "metadata": {
        "id": "Jj9MFwm-JKTw"
      },
      "source": [
        "We can use a Python dictionary to add a new column in pandas DataFrame. Use an existing column as the key values and their respective values will be the values for new column."
      ]
    },
    {
      "cell_type": "code",
      "metadata": {
        "id": "f8kS1oXtK-iW"
      },
      "source": [
        "import pandas as pd\n",
        "  \n",
        "# Define a dictionary containing Students data\n",
        "\n",
        "  \n",
        "# Define a dictionary with key values of\n",
        "# an existing column and their respective\n",
        "# value pairs as the # values for our new column.\n",
        "\n",
        "# Convert the dictionary into DataFrame\n",
        "\n",
        "  \n",
        "# Provide 'Address' as the column name\n",
        "\n",
        "  \n",
        "# Observe the output\n",
        "df"
      ],
      "execution_count": null,
      "outputs": []
    },
    {
      "cell_type": "code",
      "metadata": {
        "id": "m0c5RggWLeen",
        "colab": {
          "base_uri": "https://localhost:8080/",
          "height": 175
        },
        "outputId": "7d4b54ca-3a5e-4861-ff13-b9b1cf230745"
      },
      "source": [
        "import pandas as pd\n",
        "data1 = {'Name': ['Abomination', 'AntMan', 'Aquaman', 'BlackFlash'],\n",
        "        'Weapon': ['False', 'False', 'False', 'False']}\n",
        "# Define a dictionary with key values of an existing column and their respective value pairs as the # values for our new column.\n",
        "# Convert the dictionary into DataFrame\n",
        "flight= {'False': 'Abomination', 'Falsel': 'AntMan','Falsej':'Aquaman', 'Trueo':'BlackFlash'} \n",
        "df = pd.DataFrame(data1)\n",
        "df['Flight'] =flight\n",
        "df\n"
      ],
      "execution_count": 17,
      "outputs": [
        {
          "output_type": "execute_result",
          "data": {
            "text/html": [
              "<div>\n",
              "<style scoped>\n",
              "    .dataframe tbody tr th:only-of-type {\n",
              "        vertical-align: middle;\n",
              "    }\n",
              "\n",
              "    .dataframe tbody tr th {\n",
              "        vertical-align: top;\n",
              "    }\n",
              "\n",
              "    .dataframe thead th {\n",
              "        text-align: right;\n",
              "    }\n",
              "</style>\n",
              "<table border=\"1\" class=\"dataframe\">\n",
              "  <thead>\n",
              "    <tr style=\"text-align: right;\">\n",
              "      <th></th>\n",
              "      <th>Name</th>\n",
              "      <th>Weapon</th>\n",
              "      <th>Flight</th>\n",
              "    </tr>\n",
              "  </thead>\n",
              "  <tbody>\n",
              "    <tr>\n",
              "      <th>0</th>\n",
              "      <td>Abomination</td>\n",
              "      <td>False</td>\n",
              "      <td>False</td>\n",
              "    </tr>\n",
              "    <tr>\n",
              "      <th>1</th>\n",
              "      <td>AntMan</td>\n",
              "      <td>False</td>\n",
              "      <td>Falsel</td>\n",
              "    </tr>\n",
              "    <tr>\n",
              "      <th>2</th>\n",
              "      <td>Aquaman</td>\n",
              "      <td>False</td>\n",
              "      <td>Falsej</td>\n",
              "    </tr>\n",
              "    <tr>\n",
              "      <th>3</th>\n",
              "      <td>BlackFlash</td>\n",
              "      <td>False</td>\n",
              "      <td>Trueo</td>\n",
              "    </tr>\n",
              "  </tbody>\n",
              "</table>\n",
              "</div>"
            ],
            "text/plain": [
              "          Name Weapon  Flight\n",
              "0  Abomination  False   False\n",
              "1       AntMan  False  Falsel\n",
              "2      Aquaman  False  Falsej\n",
              "3   BlackFlash  False   Trueo"
            ]
          },
          "metadata": {
            "tags": []
          },
          "execution_count": 17
        }
      ]
    },
    {
      "cell_type": "markdown",
      "metadata": {
        "id": "Ln2n4A82MnQk"
      },
      "source": [
        "                                                      8. Pivoting operations with Data Frame"
      ]
    },
    {
      "cell_type": "markdown",
      "metadata": {
        "id": "Glan1WhSOPrB"
      },
      "source": [
        "                                                       9.Different possible operations to a Data Frame\n"
      ]
    },
    {
      "cell_type": "markdown",
      "metadata": {
        "id": "XKPYCgrMPD7P"
      },
      "source": [
        "1)  Slicing of rows\n",
        "    "
      ]
    },
    {
      "cell_type": "markdown",
      "metadata": {
        "id": "eHNSipJOPVIE"
      },
      "source": [
        "We can perform slicing operations to get the desired number of rows from within a given range.\n",
        "With the help of slicing, we can perform various operations only on the specific subset of the data"
      ]
    },
    {
      "cell_type": "code",
      "metadata": {
        "id": "doKgn5gXO4Xx"
      },
      "source": [
        "\n",
        "# slicing the number of rows \n",
        "df1 = pokemon_df[10:15]\n",
        "df1"
      ],
      "execution_count": null,
      "outputs": []
    },
    {
      "cell_type": "markdown",
      "metadata": {
        "id": "6-BgmpeyPawQ"
      },
      "source": [
        "2) Selecting specific columns"
      ]
    },
    {
      "cell_type": "markdown",
      "metadata": {
        "id": "f63H5HtTPeqO"
      },
      "source": [
        "To select a particular column or to select number of columns from the dataframe for further processing of data."
      ]
    },
    {
      "cell_type": "code",
      "metadata": {
        "id": "RycjbHhnPkyL",
        "colab": {
          "base_uri": "https://localhost:8080/",
          "height": 206
        },
        "outputId": "74ddd4c0-9fc3-4f68-c769-2e70008f7795"
      },
      "source": [
        "df2 = pokemon_df.loc[:, ['Name','Type 1']]\n",
        "df2.head(5)"
      ],
      "execution_count": 23,
      "outputs": [
        {
          "output_type": "execute_result",
          "data": {
            "text/html": [
              "<div>\n",
              "<style scoped>\n",
              "    .dataframe tbody tr th:only-of-type {\n",
              "        vertical-align: middle;\n",
              "    }\n",
              "\n",
              "    .dataframe tbody tr th {\n",
              "        vertical-align: top;\n",
              "    }\n",
              "\n",
              "    .dataframe thead th {\n",
              "        text-align: right;\n",
              "    }\n",
              "</style>\n",
              "<table border=\"1\" class=\"dataframe\">\n",
              "  <thead>\n",
              "    <tr style=\"text-align: right;\">\n",
              "      <th></th>\n",
              "      <th>Name</th>\n",
              "      <th>Type 1</th>\n",
              "    </tr>\n",
              "  </thead>\n",
              "  <tbody>\n",
              "    <tr>\n",
              "      <th>0</th>\n",
              "      <td>Bulbasaur</td>\n",
              "      <td>Grass</td>\n",
              "    </tr>\n",
              "    <tr>\n",
              "      <th>1</th>\n",
              "      <td>Ivysaur</td>\n",
              "      <td>Grass</td>\n",
              "    </tr>\n",
              "    <tr>\n",
              "      <th>2</th>\n",
              "      <td>Venusaur</td>\n",
              "      <td>Grass</td>\n",
              "    </tr>\n",
              "    <tr>\n",
              "      <th>3</th>\n",
              "      <td>VenusaurMega Venusaur</td>\n",
              "      <td>Grass</td>\n",
              "    </tr>\n",
              "    <tr>\n",
              "      <th>4</th>\n",
              "      <td>Charmander</td>\n",
              "      <td>Fire</td>\n",
              "    </tr>\n",
              "  </tbody>\n",
              "</table>\n",
              "</div>"
            ],
            "text/plain": [
              "                    Name Type 1\n",
              "0              Bulbasaur  Grass\n",
              "1                Ivysaur  Grass\n",
              "2               Venusaur  Grass\n",
              "3  VenusaurMega Venusaur  Grass\n",
              "4             Charmander   Fire"
            ]
          },
          "metadata": {
            "tags": []
          },
          "execution_count": 23
        }
      ]
    },
    {
      "cell_type": "markdown",
      "metadata": {
        "id": "M3Dz1oMxP33i"
      },
      "source": [
        "3) Summarize the data"
      ]
    },
    {
      "cell_type": "markdown",
      "metadata": {
        "id": "NkZ-qZX4P95R"
      },
      "source": [
        "In order to get insights from data, we must have a statistical summary of data. To display a statistical summary of the data such as mean, median, mode, std etc."
      ]
    },
    {
      "cell_type": "code",
      "metadata": {
        "id": "6VAy_MMnQKEq"
      },
      "source": [
        "pokemon_df.describe()"
      ],
      "execution_count": null,
      "outputs": []
    },
    {
      "cell_type": "markdown",
      "metadata": {
        "id": "-89M9nwzQST-"
      },
      "source": [
        "4) Sort data with respect to a column"
      ]
    },
    {
      "cell_type": "code",
      "metadata": {
        "id": "DeI8Kd_fQXIn"
      },
      "source": [
        "pokemon_df.sort_values(by ='Speed').head()"
      ],
      "execution_count": null,
      "outputs": []
    },
    {
      "cell_type": "markdown",
      "metadata": {
        "id": "2HaTeaKmQh0e"
      },
      "source": [
        "5) Display mean of each column"
      ]
    },
    {
      "cell_type": "code",
      "metadata": {
        "id": "u2YUzQ01QoTb"
      },
      "source": [
        "pokemon_df.mean()"
      ],
      "execution_count": null,
      "outputs": []
    },
    {
      "cell_type": "markdown",
      "metadata": {
        "id": "Tl1Nw0v8Q1GY"
      },
      "source": [
        "                                                         10. String Manipulations."
      ]
    },
    {
      "cell_type": "markdown",
      "metadata": {
        "id": "-zCv9n-lQ_VR"
      },
      "source": [
        "String manipulation is the process of changing, parsing, splicing, pasting, or analyzing strings"
      ]
    },
    {
      "cell_type": "code",
      "metadata": {
        "id": "TBYAQBTORaV6"
      },
      "source": [
        "# python script for create a dataframe for string manipulations\n",
        "import pandas as pd\n",
        "import numpy as np\n",
        "  \n",
        "df = pd.Series(['A Far Off Place', ' Bound by Honor', ' The Three Musketeers','Cabin Boy'])\n",
        "df"
      ],
      "execution_count": null,
      "outputs": []
    },
    {
      "cell_type": "markdown",
      "metadata": {
        "id": "q-LBYZQaR4jU"
      },
      "source": [
        "1)lower()"
      ]
    },
    {
      "cell_type": "markdown",
      "metadata": {
        "id": "RmJrDkbjR8Ec"
      },
      "source": [
        " Converts all uppercase characters in strings in the DataFrame to lower case and returns the lowercase strings in the result."
      ]
    },
    {
      "cell_type": "code",
      "metadata": {
        "id": "R0Iv-Zv4R-2p"
      },
      "source": [
        "df.str.lower()"
      ],
      "execution_count": null,
      "outputs": []
    },
    {
      "cell_type": "markdown",
      "metadata": {
        "id": "gZYdkOgRSFQq"
      },
      "source": [
        "2) upper()"
      ]
    },
    {
      "cell_type": "markdown",
      "metadata": {
        "id": "qFIIGf5HSKZ4"
      },
      "source": [
        "Converts all lowercase characters in strings in the DataFrame to upper case and returns the uppercase strings in result."
      ]
    },
    {
      "cell_type": "code",
      "metadata": {
        "id": "RMregQaTSNj8"
      },
      "source": [
        "df.str.upper()"
      ],
      "execution_count": null,
      "outputs": []
    },
    {
      "cell_type": "markdown",
      "metadata": {
        "id": "mGXLNVydSTLc"
      },
      "source": [
        "3) strip()"
      ]
    },
    {
      "cell_type": "markdown",
      "metadata": {
        "id": "mBA15ocESVxw"
      },
      "source": [
        "If there are spaces at the beginning or end of a string, we should trim the strings to eliminate spaces using strip() or remove the extra spaces contained by a string in DataFrame"
      ]
    },
    {
      "cell_type": "code",
      "metadata": {
        "id": "b5YpcILcSaNl"
      },
      "source": [
        "df\n",
        "print('\\nAfter using the strip:')\n",
        "df.str.strip()"
      ],
      "execution_count": null,
      "outputs": []
    },
    {
      "cell_type": "markdown",
      "metadata": {
        "id": "NW8zUwzDSk8Y"
      },
      "source": [
        "4) split(‘ ‘)"
      ]
    },
    {
      "cell_type": "markdown",
      "metadata": {
        "id": "04RkVbMMSnzK"
      },
      "source": [
        "Splits each string with the given pattern. Strings are split and the new elements after the performed split operation, are stored in a list."
      ]
    },
    {
      "cell_type": "code",
      "metadata": {
        "id": "-cXbZbK_StIT"
      },
      "source": [
        "\n",
        "# split(pattern)\n",
        "print(df)\n",
        "print('\\nAfter using the strip:')\n",
        "print(df.str.split(','))\n",
        "  \n",
        "# now we can use [] or get() to fetch \n",
        "# the index values\n",
        "print('\\nusing []:')\n",
        "print(df.str.split(',').str[0])\n",
        "  \n",
        "print('\\nusing get():')\n",
        "print(df.str.split(',').str.get(1))"
      ],
      "execution_count": null,
      "outputs": []
    },
    {
      "cell_type": "markdown",
      "metadata": {
        "id": "RES2Hs3dS2pW"
      },
      "source": [
        "5) len()"
      ]
    },
    {
      "cell_type": "markdown",
      "metadata": {
        "id": "C4LXU3yDS7aF"
      },
      "source": [
        "With the help of len() we can compute the length of each string in DataFrame & if there is empty data in DataFrame, it returns NaN."
      ]
    },
    {
      "cell_type": "code",
      "metadata": {
        "id": "29Nr0JE4S_ly"
      },
      "source": [
        "print(\"length of the dataframe: \", len(df))\n",
        "print(\"length of each value of dataframe:\")\n",
        "df.str.len()"
      ],
      "execution_count": null,
      "outputs": []
    },
    {
      "cell_type": "markdown",
      "metadata": {
        "id": "kWasC0KuTIuK"
      },
      "source": [
        "6) cat(sep=’ ‘)\n"
      ]
    },
    {
      "cell_type": "markdown",
      "metadata": {
        "id": "rCM1M7W8TOC3"
      },
      "source": [
        " It concatenates the data-frame index elements or each string in DataFrame with given separator."
      ]
    },
    {
      "cell_type": "code",
      "metadata": {
        "id": "IOUjPJO3TQ1s"
      },
      "source": [
        "print(df)\n",
        "  \n",
        "print(\"\\nafter using cat:\")\n",
        "print(df.str.cat(sep='_'))\n",
        "  \n",
        "print(\"\\nworking with NaN using cat:\")\n",
        "print(df.str.cat(sep='_', na_rep='#'))"
      ],
      "execution_count": null,
      "outputs": []
    },
    {
      "cell_type": "markdown",
      "metadata": {
        "id": "Kxin5ApuTcgX"
      },
      "source": [
        "7) repeat(value)"
      ]
    },
    {
      "cell_type": "markdown",
      "metadata": {
        "id": "iO37MI0iTiJv"
      },
      "source": [
        "It repeats each element with a given number of times like below in example, there are two appearances of each string in DataFrame."
      ]
    },
    {
      "cell_type": "code",
      "metadata": {
        "id": "BHXf1CnpTmZZ"
      },
      "source": [
        "df.str.repeat(2)"
      ],
      "execution_count": null,
      "outputs": []
    },
    {
      "cell_type": "markdown",
      "metadata": {
        "id": "2CfYXs7yTteF"
      },
      "source": [
        "8) count(pattern)"
      ]
    },
    {
      "cell_type": "markdown",
      "metadata": {
        "id": "GXcHE6QqTyuR"
      },
      "source": [
        "It returns the count of the appearance of pattern in each element in Data-Frame like below in example it counts ‘n’ in each string of DataFrame and returns the total counts of ‘n’ in each string."
      ]
    },
    {
      "cell_type": "code",
      "metadata": {
        "id": "GEb3x7IJT2AX"
      },
      "source": [
        "print(df.str.count('o'))"
      ],
      "execution_count": null,
      "outputs": []
    },
    {
      "cell_type": "markdown",
      "metadata": {
        "id": "-WNceeeDT-pk"
      },
      "source": [
        "9) isupper() and isnumeric()"
      ]
    },
    {
      "cell_type": "markdown",
      "metadata": {
        "id": "oDESuevvUB_m"
      },
      "source": [
        "isupper() checks whether all characters in each string in the Index of the Data-Frame in upper case or not, and returns a Boolean value.isnumeric() checks whether all characters in each string in the Index of the Data-Frame are numeric or not, and returns a Boolean value."
      ]
    },
    {
      "cell_type": "code",
      "metadata": {
        "id": "OF9LoNcPUTbE"
      },
      "source": [
        "print(df.str.isupper()) \n",
        "print(\"\\n-----------\\n\")\n",
        "print(df.str.isnumeric())"
      ],
      "execution_count": null,
      "outputs": []
    },
    {
      "cell_type": "markdown",
      "metadata": {
        "id": "oOsMaQ1CUmQK"
      },
      "source": [
        "It swaps the case lower to upper and vice-versa"
      ]
    },
    {
      "cell_type": "code",
      "metadata": {
        "id": "tfmL1hdDUqf0"
      },
      "source": [
        "df.str.swapcase()"
      ],
      "execution_count": null,
      "outputs": []
    },
    {
      "cell_type": "markdown",
      "metadata": {
        "id": "YrvWdWwaU2l1"
      },
      "source": [
        "10) find(pattern) and findall(pattern)"
      ]
    },
    {
      "cell_type": "markdown",
      "metadata": {
        "id": "OSqtCu-EU-1t"
      },
      "source": [
        "find(pattern)returns first position of the first occurrence of the pattern.findall(pattern) returns a list of all occurrences of the pattern"
      ]
    },
    {
      "cell_type": "code",
      "metadata": {
        "id": "QLS9q5D1VaOW"
      },
      "source": [
        "# find(pattern) in result '-1' indicates there is no value matching with given pattern in particular row\n",
        "print(df.str.find('n'))\n",
        "print(\"\\n-----------\\n\")\n",
        "# findall(pattern) in result [] indicates null list as  there is no value matching with given pattern in particular row\n",
        "print(df.str.findall('n'))"
      ],
      "execution_count": null,
      "outputs": []
    }
  ]
}