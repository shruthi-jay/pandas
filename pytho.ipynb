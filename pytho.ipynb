{
  "nbformat": 4,
  "nbformat_minor": 0,
  "metadata": {
    "colab": {
      "name": "pytho.ipynb",
      "provenance": [],
      "authorship_tag": "ABX9TyNFze7tSassbdcW9Vgk95Mi",
      "include_colab_link": true
    },
    "kernelspec": {
      "name": "python3",
      "display_name": "Python 3"
    },
    "language_info": {
      "name": "python"
    }
  },
  "cells": [
    {
      "cell_type": "markdown",
      "metadata": {
        "id": "view-in-github",
        "colab_type": "text"
      },
      "source": [
        "<a href=\"https://colab.research.google.com/github/shruthi-jay/pandas/blob/main/pytho.ipynb\" target=\"_parent\"><img src=\"https://colab.research.google.com/assets/colab-badge.svg\" alt=\"Open In Colab\"/></a>"
      ]
    },
    {
      "cell_type": "markdown",
      "metadata": {
        "id": "hFC032sop1Zf"
      },
      "source": [
        "                                                     CREATING DATAFRAME USING DIFFERENT METHODS"
      ]
    },
    {
      "cell_type": "markdown",
      "metadata": {
        "id": "zC6aFxnSxjmp"
      },
      "source": [
        "A Pandas DataFrame is a 2 dimensional data structure, like a 2 dimensional array, or a table with rows and columns.There are many ways of creating a dataframe. Few ways to create a dataframe are :"
      ]
    },
    {
      "cell_type": "markdown",
      "metadata": {
        "id": "q2i50PSIy9Jq"
      },
      "source": [
        "1.Create an empty DataFrame\n",
        "    \n",
        "     a)without any column name or indices and then appending columns one by one to it.\n",
        "    "
      ]
    },
    {
      "cell_type": "code",
      "metadata": {
        "colab": {
          "base_uri": "https://localhost:8080/",
          "height": 195
        },
        "id": "F59k1A6DxUKv",
        "outputId": "bab97ba8-4b92-4399-969f-44e42665e95b"
      },
      "source": [
        "# importing the pandas library  \n",
        "import pandas as pd  \n",
        "df = pd.DataFrame()  \n",
        "print (df)  \n",
        "df['Pokemon'] = ['Charmander', 'Pikachu', 'Squirtle']\n",
        "df['Type'] = ['Fire','Electric','Water']\n",
        "df['Hp'] = [58, 35, 44]\n",
        "df"
      ],
      "execution_count": 5,
      "outputs": [
        {
          "output_type": "stream",
          "text": [
            "Empty DataFrame\n",
            "Columns: []\n",
            "Index: []\n"
          ],
          "name": "stdout"
        },
        {
          "output_type": "execute_result",
          "data": {
            "text/html": [
              "<div>\n",
              "<style scoped>\n",
              "    .dataframe tbody tr th:only-of-type {\n",
              "        vertical-align: middle;\n",
              "    }\n",
              "\n",
              "    .dataframe tbody tr th {\n",
              "        vertical-align: top;\n",
              "    }\n",
              "\n",
              "    .dataframe thead th {\n",
              "        text-align: right;\n",
              "    }\n",
              "</style>\n",
              "<table border=\"1\" class=\"dataframe\">\n",
              "  <thead>\n",
              "    <tr style=\"text-align: right;\">\n",
              "      <th></th>\n",
              "      <th>Pokemon</th>\n",
              "      <th>Type</th>\n",
              "      <th>Hp</th>\n",
              "    </tr>\n",
              "  </thead>\n",
              "  <tbody>\n",
              "    <tr>\n",
              "      <th>0</th>\n",
              "      <td>Charmander</td>\n",
              "      <td>Fire</td>\n",
              "      <td>58</td>\n",
              "    </tr>\n",
              "    <tr>\n",
              "      <th>1</th>\n",
              "      <td>Pikachu</td>\n",
              "      <td>Electric</td>\n",
              "      <td>35</td>\n",
              "    </tr>\n",
              "    <tr>\n",
              "      <th>2</th>\n",
              "      <td>Squirtle</td>\n",
              "      <td>Water</td>\n",
              "      <td>44</td>\n",
              "    </tr>\n",
              "  </tbody>\n",
              "</table>\n",
              "</div>"
            ],
            "text/plain": [
              "      Pokemon      Type  Hp\n",
              "0  Charmander      Fire  58\n",
              "1     Pikachu  Electric  35\n",
              "2    Squirtle     Water  44"
            ]
          },
          "metadata": {
            "tags": []
          },
          "execution_count": 5
        }
      ]
    },
    {
      "cell_type": "markdown",
      "metadata": {
        "id": "XC0QN_tt6c6M"
      },
      "source": [
        ""
      ]
    },
    {
      "cell_type": "markdown",
      "metadata": {
        "id": "mOdfe6eB3Vf8"
      },
      "source": [
        "        b) with columns name only then appending rows one by one to it using append() method."
      ]
    },
    {
      "cell_type": "code",
      "metadata": {
        "colab": {
          "base_uri": "https://localhost:8080/",
          "height": 195
        },
        "id": "VYDU91Hk4q2n",
        "outputId": "85cf29de-0f1b-41c0-e774-3d9c5aff6985"
      },
      "source": [
        "import pandas as pd\n",
        "  \n",
        "# create an Empty DataFrame\n",
        "# object With column names only\n",
        "df = pd.DataFrame(columns = ['Nam', 'Type', 'Total'])\n",
        "print(df)\n",
        "# append rows to an empty DataFrame\n",
        "df = df.append({'Nam':'Bulbasaur','Type':'Grass','Total':318},ignore_index = True)\n",
        "df = df.append({'Nam':'Ivysaur','Type':'Grass','Total':405},ignore_index = True)\n",
        "df = df.append({'Nam':' Venusaur','Type':'Grass','Total':525},ignore_index = True)\n",
        "df"
      ],
      "execution_count": 13,
      "outputs": [
        {
          "output_type": "stream",
          "text": [
            "Empty DataFrame\n",
            "Columns: [Nam, Type, Total]\n",
            "Index: []\n"
          ],
          "name": "stdout"
        },
        {
          "output_type": "execute_result",
          "data": {
            "text/html": [
              "<div>\n",
              "<style scoped>\n",
              "    .dataframe tbody tr th:only-of-type {\n",
              "        vertical-align: middle;\n",
              "    }\n",
              "\n",
              "    .dataframe tbody tr th {\n",
              "        vertical-align: top;\n",
              "    }\n",
              "\n",
              "    .dataframe thead th {\n",
              "        text-align: right;\n",
              "    }\n",
              "</style>\n",
              "<table border=\"1\" class=\"dataframe\">\n",
              "  <thead>\n",
              "    <tr style=\"text-align: right;\">\n",
              "      <th></th>\n",
              "      <th>Nam</th>\n",
              "      <th>Type</th>\n",
              "      <th>Total</th>\n",
              "    </tr>\n",
              "  </thead>\n",
              "  <tbody>\n",
              "    <tr>\n",
              "      <th>0</th>\n",
              "      <td>Bulbasaur</td>\n",
              "      <td>Grass</td>\n",
              "      <td>318</td>\n",
              "    </tr>\n",
              "    <tr>\n",
              "      <th>1</th>\n",
              "      <td>Ivysaur</td>\n",
              "      <td>Grass</td>\n",
              "      <td>405</td>\n",
              "    </tr>\n",
              "    <tr>\n",
              "      <th>2</th>\n",
              "      <td>Venusaur</td>\n",
              "      <td>Grass</td>\n",
              "      <td>525</td>\n",
              "    </tr>\n",
              "  </tbody>\n",
              "</table>\n",
              "</div>"
            ],
            "text/plain": [
              "         Nam   Type Total\n",
              "0  Bulbasaur  Grass   318\n",
              "1    Ivysaur  Grass   405\n",
              "2   Venusaur  Grass   525"
            ]
          },
          "metadata": {
            "tags": []
          },
          "execution_count": 13
        }
      ]
    },
    {
      "cell_type": "markdown",
      "metadata": {
        "id": "QFMFoA2d6sec"
      },
      "source": [
        "      c)with a column name and indices and then appending rows one by one to it using loc[] method"
      ]
    },
    {
      "cell_type": "code",
      "metadata": {
        "colab": {
          "base_uri": "https://localhost:8080/",
          "height": 230
        },
        "id": "x-_1BFfq6rRt",
        "outputId": "28c97239-ccf2-4723-9638-9f690faba8f8"
      },
      "source": [
        "import pandas as pd\n",
        "  \n",
        "# create an Empty DataFrame object With\n",
        "# column names and indices \n",
        "df = pd.DataFrame(columns = ['Hero', 'Agility', 'Accelerated Healing'], \n",
        "                   index = ['a', 'b', 'c'])\n",
        "  \n",
        "print(\"Empty DataFrame\\n\", df)\n",
        "  \n",
        "# adding rows to an empty \n",
        "# dataframe at existing index\n",
        "df.loc['a'] = [' 3-D Man','True','False']\n",
        "df.loc['b'] = ['A-Bomb','False','True']\n",
        "df.loc['c'] = ['Abe Sapien','True','True']\n",
        "df\n"
      ],
      "execution_count": 20,
      "outputs": [
        {
          "output_type": "stream",
          "text": [
            "Empty DataFrame\n",
            "   Hero Agility Accelerated Healing\n",
            "a  NaN     NaN                 NaN\n",
            "b  NaN     NaN                 NaN\n",
            "c  NaN     NaN                 NaN\n"
          ],
          "name": "stdout"
        },
        {
          "output_type": "execute_result",
          "data": {
            "text/html": [
              "<div>\n",
              "<style scoped>\n",
              "    .dataframe tbody tr th:only-of-type {\n",
              "        vertical-align: middle;\n",
              "    }\n",
              "\n",
              "    .dataframe tbody tr th {\n",
              "        vertical-align: top;\n",
              "    }\n",
              "\n",
              "    .dataframe thead th {\n",
              "        text-align: right;\n",
              "    }\n",
              "</style>\n",
              "<table border=\"1\" class=\"dataframe\">\n",
              "  <thead>\n",
              "    <tr style=\"text-align: right;\">\n",
              "      <th></th>\n",
              "      <th>Hero</th>\n",
              "      <th>Agility</th>\n",
              "      <th>Accelerated Healing</th>\n",
              "    </tr>\n",
              "  </thead>\n",
              "  <tbody>\n",
              "    <tr>\n",
              "      <th>a</th>\n",
              "      <td>3-D Man</td>\n",
              "      <td>True</td>\n",
              "      <td>False</td>\n",
              "    </tr>\n",
              "    <tr>\n",
              "      <th>b</th>\n",
              "      <td>A-Bomb</td>\n",
              "      <td>False</td>\n",
              "      <td>True</td>\n",
              "    </tr>\n",
              "    <tr>\n",
              "      <th>c</th>\n",
              "      <td>Abe Sapien</td>\n",
              "      <td>True</td>\n",
              "      <td>True</td>\n",
              "    </tr>\n",
              "  </tbody>\n",
              "</table>\n",
              "</div>"
            ],
            "text/plain": [
              "         Hero Agility Accelerated Healing\n",
              "a     3-D Man    True               False\n",
              "b      A-Bomb   False                True\n",
              "c  Abe Sapien    True                True"
            ]
          },
          "metadata": {
            "tags": []
          },
          "execution_count": 20
        }
      ]
    },
    {
      "cell_type": "markdown",
      "metadata": {
        "id": "ZeOCr2Fn_tB1"
      },
      "source": [
        "2) Create DataFrame using List"
      ]
    },
    {
      "cell_type": "markdown",
      "metadata": {
        "id": "hWlv6hBhBole"
      },
      "source": [
        "    a)with index and column names"
      ]
    }
  ]
}