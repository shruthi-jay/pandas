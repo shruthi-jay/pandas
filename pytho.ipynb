{
  "nbformat": 4,
  "nbformat_minor": 0,
  "metadata": {
    "colab": {
      "name": "pytho.ipynb",
      "provenance": [],
      "collapsed_sections": [],
      "include_colab_link": true
    },
    "kernelspec": {
      "display_name": "Python 3",
      "name": "python3"
    },
    "language_info": {
      "name": "python"
    }
  },
  "cells": [
    {
      "cell_type": "markdown",
      "metadata": {
        "id": "view-in-github",
        "colab_type": "text"
      },
      "source": [
        "<a href=\"https://colab.research.google.com/github/shruthi-jay/pandas/blob/main/pytho.ipynb\" target=\"_parent\"><img src=\"https://colab.research.google.com/assets/colab-badge.svg\" alt=\"Open In Colab\"/></a>"
      ]
    },
    {
      "cell_type": "markdown",
      "metadata": {
        "id": "hFC032sop1Zf"
      },
      "source": [
        "                                                  1. CREATING DATAFRAME  USING DIFFERENT METHODS"
      ]
    },
    {
      "cell_type": "markdown",
      "metadata": {
        "id": "zC6aFxnSxjmp"
      },
      "source": [
        "A Pandas DataFrame is a 2 dimensional data structure, like a 2 dimensional array, or a table with rows and columns.There are many ways of creating a dataframe. Few ways to create a dataframe are :"
      ]
    },
    {
      "cell_type": "markdown",
      "metadata": {
        "id": "q2i50PSIy9Jq"
      },
      "source": [
        "1. Create an empty DataFrame\n",
        "  \n",
        "    "
      ]
    },
    {
      "cell_type": "markdown",
      "metadata": {
        "id": "xxn3SUCGLfxr"
      },
      "source": [
        "    a) without any column name or indices and then appending columns one by one to it."
      ]
    },
    {
      "cell_type": "code",
      "metadata": {
        "colab": {
          "base_uri": "https://localhost:8080/",
          "height": 195
        },
        "id": "F59k1A6DxUKv",
        "outputId": "d16ec750-92bd-44bb-c6af-15bc3bbd02a3"
      },
      "source": [
        "# importing the pandas library  \n",
        "import pandas as pd  \n",
        "df = pd.DataFrame()  \n",
        "print (df)  \n",
        "df['Pokemon'] = ['Charmander', 'Pikachu', 'Squirtle']\n",
        "df['Type'] = ['Fire','Electric','Water']\n",
        "df['Hp'] = [58, 35, 44]\n",
        "df"
      ],
      "execution_count": 11,
      "outputs": [
        {
          "output_type": "stream",
          "text": [
            "Empty DataFrame\n",
            "Columns: []\n",
            "Index: []\n"
          ],
          "name": "stdout"
        },
        {
          "output_type": "execute_result",
          "data": {
            "text/html": [
              "<div>\n",
              "<style scoped>\n",
              "    .dataframe tbody tr th:only-of-type {\n",
              "        vertical-align: middle;\n",
              "    }\n",
              "\n",
              "    .dataframe tbody tr th {\n",
              "        vertical-align: top;\n",
              "    }\n",
              "\n",
              "    .dataframe thead th {\n",
              "        text-align: right;\n",
              "    }\n",
              "</style>\n",
              "<table border=\"1\" class=\"dataframe\">\n",
              "  <thead>\n",
              "    <tr style=\"text-align: right;\">\n",
              "      <th></th>\n",
              "      <th>Pokemon</th>\n",
              "      <th>Type</th>\n",
              "      <th>Hp</th>\n",
              "    </tr>\n",
              "  </thead>\n",
              "  <tbody>\n",
              "    <tr>\n",
              "      <th>0</th>\n",
              "      <td>Charmander</td>\n",
              "      <td>Fire</td>\n",
              "      <td>58</td>\n",
              "    </tr>\n",
              "    <tr>\n",
              "      <th>1</th>\n",
              "      <td>Pikachu</td>\n",
              "      <td>Electric</td>\n",
              "      <td>35</td>\n",
              "    </tr>\n",
              "    <tr>\n",
              "      <th>2</th>\n",
              "      <td>Squirtle</td>\n",
              "      <td>Water</td>\n",
              "      <td>44</td>\n",
              "    </tr>\n",
              "  </tbody>\n",
              "</table>\n",
              "</div>"
            ],
            "text/plain": [
              "      Pokemon      Type  Hp\n",
              "0  Charmander      Fire  58\n",
              "1     Pikachu  Electric  35\n",
              "2    Squirtle     Water  44"
            ]
          },
          "metadata": {
            "tags": []
          },
          "execution_count": 11
        }
      ]
    },
    {
      "cell_type": "markdown",
      "metadata": {
        "id": "mOdfe6eB3Vf8"
      },
      "source": [
        "    b) with columns name only  and then appending rows one by one to it using append() method"
      ]
    },
    {
      "cell_type": "code",
      "metadata": {
        "colab": {
          "base_uri": "https://localhost:8080/",
          "height": 195
        },
        "id": "VYDU91Hk4q2n",
        "outputId": "963d3746-9e4e-4b28-9829-d06515c45901"
      },
      "source": [
        "import pandas as pd\n",
        "# create an Empty DataFrame object With column names only\n",
        "df = pd.DataFrame(columns = ['Nam', 'Type', 'Total'])\n",
        "print(df)\n",
        "# append rows to an empty DataFrame\n",
        "df = df.append({'Nam':'Bulbasaur','Type':'Grass','Total':318},ignore_index = True)\n",
        "df = df.append({'Nam':'Ivysaur','Type':'Grass','Total':405},ignore_index = True)\n",
        "df = df.append({'Nam':' Venusaur','Type':'Grass','Total':525},ignore_index = True)\n",
        "df"
      ],
      "execution_count": 12,
      "outputs": [
        {
          "output_type": "stream",
          "text": [
            "Empty DataFrame\n",
            "Columns: [Nam, Type, Total]\n",
            "Index: []\n"
          ],
          "name": "stdout"
        },
        {
          "output_type": "execute_result",
          "data": {
            "text/html": [
              "<div>\n",
              "<style scoped>\n",
              "    .dataframe tbody tr th:only-of-type {\n",
              "        vertical-align: middle;\n",
              "    }\n",
              "\n",
              "    .dataframe tbody tr th {\n",
              "        vertical-align: top;\n",
              "    }\n",
              "\n",
              "    .dataframe thead th {\n",
              "        text-align: right;\n",
              "    }\n",
              "</style>\n",
              "<table border=\"1\" class=\"dataframe\">\n",
              "  <thead>\n",
              "    <tr style=\"text-align: right;\">\n",
              "      <th></th>\n",
              "      <th>Nam</th>\n",
              "      <th>Type</th>\n",
              "      <th>Total</th>\n",
              "    </tr>\n",
              "  </thead>\n",
              "  <tbody>\n",
              "    <tr>\n",
              "      <th>0</th>\n",
              "      <td>Bulbasaur</td>\n",
              "      <td>Grass</td>\n",
              "      <td>318</td>\n",
              "    </tr>\n",
              "    <tr>\n",
              "      <th>1</th>\n",
              "      <td>Ivysaur</td>\n",
              "      <td>Grass</td>\n",
              "      <td>405</td>\n",
              "    </tr>\n",
              "    <tr>\n",
              "      <th>2</th>\n",
              "      <td>Venusaur</td>\n",
              "      <td>Grass</td>\n",
              "      <td>525</td>\n",
              "    </tr>\n",
              "  </tbody>\n",
              "</table>\n",
              "</div>"
            ],
            "text/plain": [
              "         Nam   Type Total\n",
              "0  Bulbasaur  Grass   318\n",
              "1    Ivysaur  Grass   405\n",
              "2   Venusaur  Grass   525"
            ]
          },
          "metadata": {
            "tags": []
          },
          "execution_count": 12
        }
      ]
    },
    {
      "cell_type": "markdown",
      "metadata": {
        "id": "QFMFoA2d6sec"
      },
      "source": [
        "    c) with a column name and indices and then appending rows one by one to it using loc[] method"
      ]
    },
    {
      "cell_type": "code",
      "metadata": {
        "colab": {
          "base_uri": "https://localhost:8080/",
          "height": 230
        },
        "id": "x-_1BFfq6rRt",
        "outputId": "afe5df22-4158-484d-b314-d474dfd0b921"
      },
      "source": [
        "import pandas as pd\n",
        "# create an Empty DataFrame object With column names and indices \n",
        "df = pd.DataFrame(columns = ['Hero', 'Agility', 'Accelerated Healing'], index = ['a', 'b', 'c'])\n",
        "print(\"Empty DataFrame\\n\", df)\n",
        "# adding rows to an empty  dataframe at existing index\n",
        "df.loc['a'] = [' 3-D Man','True','False']\n",
        "df.loc['b'] = ['A-Bomb','False','True']\n",
        "df.loc['c'] = ['Abe Sapien','True','True']\n",
        "df\n"
      ],
      "execution_count": 13,
      "outputs": [
        {
          "output_type": "stream",
          "text": [
            "Empty DataFrame\n",
            "   Hero Agility Accelerated Healing\n",
            "a  NaN     NaN                 NaN\n",
            "b  NaN     NaN                 NaN\n",
            "c  NaN     NaN                 NaN\n"
          ],
          "name": "stdout"
        },
        {
          "output_type": "execute_result",
          "data": {
            "text/html": [
              "<div>\n",
              "<style scoped>\n",
              "    .dataframe tbody tr th:only-of-type {\n",
              "        vertical-align: middle;\n",
              "    }\n",
              "\n",
              "    .dataframe tbody tr th {\n",
              "        vertical-align: top;\n",
              "    }\n",
              "\n",
              "    .dataframe thead th {\n",
              "        text-align: right;\n",
              "    }\n",
              "</style>\n",
              "<table border=\"1\" class=\"dataframe\">\n",
              "  <thead>\n",
              "    <tr style=\"text-align: right;\">\n",
              "      <th></th>\n",
              "      <th>Hero</th>\n",
              "      <th>Agility</th>\n",
              "      <th>Accelerated Healing</th>\n",
              "    </tr>\n",
              "  </thead>\n",
              "  <tbody>\n",
              "    <tr>\n",
              "      <th>a</th>\n",
              "      <td>3-D Man</td>\n",
              "      <td>True</td>\n",
              "      <td>False</td>\n",
              "    </tr>\n",
              "    <tr>\n",
              "      <th>b</th>\n",
              "      <td>A-Bomb</td>\n",
              "      <td>False</td>\n",
              "      <td>True</td>\n",
              "    </tr>\n",
              "    <tr>\n",
              "      <th>c</th>\n",
              "      <td>Abe Sapien</td>\n",
              "      <td>True</td>\n",
              "      <td>True</td>\n",
              "    </tr>\n",
              "  </tbody>\n",
              "</table>\n",
              "</div>"
            ],
            "text/plain": [
              "         Hero Agility Accelerated Healing\n",
              "a     3-D Man    True               False\n",
              "b      A-Bomb   False                True\n",
              "c  Abe Sapien    True                True"
            ]
          },
          "metadata": {
            "tags": []
          },
          "execution_count": 13
        }
      ]
    },
    {
      "cell_type": "markdown",
      "metadata": {
        "id": "ZeOCr2Fn_tB1"
      },
      "source": [
        "2) Create DataFrame using List"
      ]
    },
    {
      "cell_type": "markdown",
      "metadata": {
        "id": "hWlv6hBhBole"
      },
      "source": [
        "    a) with index and column names.\n",
        "\n",
        "\n"
      ]
    },
    {
      "cell_type": "code",
      "metadata": {
        "colab": {
          "base_uri": "https://localhost:8080/",
          "height": 143
        },
        "id": "HO1IKHdCDrAL",
        "outputId": "d52ee00b-030c-4031-c011-50a9183e6bc5"
      },
      "source": [
        "import pandas as pd\n",
        "# list of strings\n",
        "lst = ['Snow White and the Seven Dwarfs','Pinocchio','Fantasia']\n",
        "# Calling DataFrame constructor on list  with indices and columns specified\n",
        "df = pd.DataFrame(lst, index =['1937-12-21', '1940-02-09',' 1940-11-13'],columns =['Movie'])\n",
        "df"
      ],
      "execution_count": 70,
      "outputs": [
        {
          "output_type": "execute_result",
          "data": {
            "text/html": [
              "<div>\n",
              "<style scoped>\n",
              "    .dataframe tbody tr th:only-of-type {\n",
              "        vertical-align: middle;\n",
              "    }\n",
              "\n",
              "    .dataframe tbody tr th {\n",
              "        vertical-align: top;\n",
              "    }\n",
              "\n",
              "    .dataframe thead th {\n",
              "        text-align: right;\n",
              "    }\n",
              "</style>\n",
              "<table border=\"1\" class=\"dataframe\">\n",
              "  <thead>\n",
              "    <tr style=\"text-align: right;\">\n",
              "      <th></th>\n",
              "      <th>Movie</th>\n",
              "    </tr>\n",
              "  </thead>\n",
              "  <tbody>\n",
              "    <tr>\n",
              "      <th>1937-12-21</th>\n",
              "      <td>Snow White and the Seven Dwarfs</td>\n",
              "    </tr>\n",
              "    <tr>\n",
              "      <th>1940-02-09</th>\n",
              "      <td>Pinocchio</td>\n",
              "    </tr>\n",
              "    <tr>\n",
              "      <th>1940-11-13</th>\n",
              "      <td>Fantasia</td>\n",
              "    </tr>\n",
              "  </tbody>\n",
              "</table>\n",
              "</div>"
            ],
            "text/plain": [
              "                                       Movie\n",
              "1937-12-21   Snow White and the Seven Dwarfs\n",
              "1940-02-09                         Pinocchio\n",
              " 1940-11-13                         Fantasia"
            ]
          },
          "metadata": {
            "tags": []
          },
          "execution_count": 70
        }
      ]
    },
    {
      "cell_type": "markdown",
      "metadata": {
        "id": "w7Ajgu2fEI04"
      },
      "source": [
        "    b) using multi-dimensional list"
      ]
    },
    {
      "cell_type": "code",
      "metadata": {
        "colab": {
          "base_uri": "https://localhost:8080/",
          "height": 175
        },
        "id": "dEapd7pcFYhK",
        "outputId": "f6cf009f-c668-4d2e-bcbf-c3cdffc2345c"
      },
      "source": [
        "import pandas as pd \n",
        "lst = [['The Light Between Oceans','Drama'], ['Queen of Katwe','Drama'],\n",
        "       ['Doctor Strange','Adventure'], ['Moana','Adventure']]\n",
        "df = pd.DataFrame(lst, columns =['Movie', 'Type'])\n",
        "df"
      ],
      "execution_count": 71,
      "outputs": [
        {
          "output_type": "execute_result",
          "data": {
            "text/html": [
              "<div>\n",
              "<style scoped>\n",
              "    .dataframe tbody tr th:only-of-type {\n",
              "        vertical-align: middle;\n",
              "    }\n",
              "\n",
              "    .dataframe tbody tr th {\n",
              "        vertical-align: top;\n",
              "    }\n",
              "\n",
              "    .dataframe thead th {\n",
              "        text-align: right;\n",
              "    }\n",
              "</style>\n",
              "<table border=\"1\" class=\"dataframe\">\n",
              "  <thead>\n",
              "    <tr style=\"text-align: right;\">\n",
              "      <th></th>\n",
              "      <th>Movie</th>\n",
              "      <th>Type</th>\n",
              "    </tr>\n",
              "  </thead>\n",
              "  <tbody>\n",
              "    <tr>\n",
              "      <th>0</th>\n",
              "      <td>The Light Between Oceans</td>\n",
              "      <td>Drama</td>\n",
              "    </tr>\n",
              "    <tr>\n",
              "      <th>1</th>\n",
              "      <td>Queen of Katwe</td>\n",
              "      <td>Drama</td>\n",
              "    </tr>\n",
              "    <tr>\n",
              "      <th>2</th>\n",
              "      <td>Doctor Strange</td>\n",
              "      <td>Adventure</td>\n",
              "    </tr>\n",
              "    <tr>\n",
              "      <th>3</th>\n",
              "      <td>Moana</td>\n",
              "      <td>Adventure</td>\n",
              "    </tr>\n",
              "  </tbody>\n",
              "</table>\n",
              "</div>"
            ],
            "text/plain": [
              "                      Movie       Type\n",
              "0  The Light Between Oceans      Drama\n",
              "1            Queen of Katwe      Drama\n",
              "2            Doctor Strange  Adventure\n",
              "3                     Moana  Adventure"
            ]
          },
          "metadata": {
            "tags": []
          },
          "execution_count": 71
        }
      ]
    },
    {
      "cell_type": "markdown",
      "metadata": {
        "id": "HoXNlhANGK5b"
      },
      "source": [
        "3) Create Dataframe from Numpy Array"
      ]
    },
    {
      "cell_type": "code",
      "metadata": {
        "colab": {
          "base_uri": "https://localhost:8080/",
          "height": 206
        },
        "id": "aMnC7mLRGs6O",
        "outputId": "fe4b260a-03d7-4ed6-bc7b-ba707c63684a"
      },
      "source": [
        "import pandas as pd\n",
        "import numpy as np\n",
        "# creating the Numpy array\n",
        "array = np.array([['Earth','Documentary'], ['Up','Adventure'],\n",
        "                  ['The Proposal','Romantic Comedy'], ['Toy Story 3D Double Feature','Adventure'], \n",
        "                  ['The Princess and the Frog','Adventure']])\n",
        "# creating a list of index names\n",
        "index_values = ['A', 'B', 'C', 'D', 'E']\n",
        "# creating a list of column names\n",
        "column_values = ['Movie', 'Age']\n",
        "# creating the dataframe\n",
        "df = pd.DataFrame(data = array,index = index_values, columns = column_values)\n",
        "df"
      ],
      "execution_count": 73,
      "outputs": [
        {
          "output_type": "execute_result",
          "data": {
            "text/html": [
              "<div>\n",
              "<style scoped>\n",
              "    .dataframe tbody tr th:only-of-type {\n",
              "        vertical-align: middle;\n",
              "    }\n",
              "\n",
              "    .dataframe tbody tr th {\n",
              "        vertical-align: top;\n",
              "    }\n",
              "\n",
              "    .dataframe thead th {\n",
              "        text-align: right;\n",
              "    }\n",
              "</style>\n",
              "<table border=\"1\" class=\"dataframe\">\n",
              "  <thead>\n",
              "    <tr style=\"text-align: right;\">\n",
              "      <th></th>\n",
              "      <th>Movie</th>\n",
              "      <th>Age</th>\n",
              "    </tr>\n",
              "  </thead>\n",
              "  <tbody>\n",
              "    <tr>\n",
              "      <th>A</th>\n",
              "      <td>Earth</td>\n",
              "      <td>Documentary</td>\n",
              "    </tr>\n",
              "    <tr>\n",
              "      <th>B</th>\n",
              "      <td>Up</td>\n",
              "      <td>Adventure</td>\n",
              "    </tr>\n",
              "    <tr>\n",
              "      <th>C</th>\n",
              "      <td>The Proposal</td>\n",
              "      <td>Romantic Comedy</td>\n",
              "    </tr>\n",
              "    <tr>\n",
              "      <th>D</th>\n",
              "      <td>Toy Story 3D Double Feature</td>\n",
              "      <td>Adventure</td>\n",
              "    </tr>\n",
              "    <tr>\n",
              "      <th>E</th>\n",
              "      <td>The Princess and the Frog</td>\n",
              "      <td>Adventure</td>\n",
              "    </tr>\n",
              "  </tbody>\n",
              "</table>\n",
              "</div>"
            ],
            "text/plain": [
              "                         Movie              Age\n",
              "A                        Earth      Documentary\n",
              "B                           Up        Adventure\n",
              "C                 The Proposal  Romantic Comedy\n",
              "D  Toy Story 3D Double Feature        Adventure\n",
              "E    The Princess and the Frog        Adventure"
            ]
          },
          "metadata": {
            "tags": []
          },
          "execution_count": 73
        }
      ]
    },
    {
      "cell_type": "markdown",
      "metadata": {
        "id": "haCGAHSEInDS"
      },
      "source": [
        "4) Create data frame using dictionary"
      ]
    },
    {
      "cell_type": "markdown",
      "metadata": {
        "id": "mxpQcgwfIx3J"
      },
      "source": [
        "    a) using default Constructor of pandas-Dataframe class"
      ]
    },
    {
      "cell_type": "code",
      "metadata": {
        "colab": {
          "base_uri": "https://localhost:8080/",
          "height": 143
        },
        "id": "D9QjFVWiI73D",
        "outputId": "a3aafe4a-9b38-46a9-a685-68ca150dd6eb"
      },
      "source": [
        "import pandas as pd\n",
        "# dictionary with list object in values\n",
        "details = {\n",
        "    'Title' : ['Fullmetal Alchemist: Brotherhood', 'your name', 'A Silent Voice'],\n",
        "    'Format' : ['Tv','Movie','Movie'],\n",
        "    'Episode' : [64,1,1],\n",
        "}\n",
        "# creating a Dataframe object \n",
        "df = pd.DataFrame(details,index = ['a', 'b', 'c'])\n",
        "df"
      ],
      "execution_count": 17,
      "outputs": [
        {
          "output_type": "execute_result",
          "data": {
            "text/html": [
              "<div>\n",
              "<style scoped>\n",
              "    .dataframe tbody tr th:only-of-type {\n",
              "        vertical-align: middle;\n",
              "    }\n",
              "\n",
              "    .dataframe tbody tr th {\n",
              "        vertical-align: top;\n",
              "    }\n",
              "\n",
              "    .dataframe thead th {\n",
              "        text-align: right;\n",
              "    }\n",
              "</style>\n",
              "<table border=\"1\" class=\"dataframe\">\n",
              "  <thead>\n",
              "    <tr style=\"text-align: right;\">\n",
              "      <th></th>\n",
              "      <th>Title</th>\n",
              "      <th>Format</th>\n",
              "      <th>Episode</th>\n",
              "    </tr>\n",
              "  </thead>\n",
              "  <tbody>\n",
              "    <tr>\n",
              "      <th>a</th>\n",
              "      <td>Fullmetal Alchemist: Brotherhood</td>\n",
              "      <td>Tv</td>\n",
              "      <td>64</td>\n",
              "    </tr>\n",
              "    <tr>\n",
              "      <th>b</th>\n",
              "      <td>your name</td>\n",
              "      <td>Movie</td>\n",
              "      <td>1</td>\n",
              "    </tr>\n",
              "    <tr>\n",
              "      <th>c</th>\n",
              "      <td>A Silent Voice</td>\n",
              "      <td>Movie</td>\n",
              "      <td>1</td>\n",
              "    </tr>\n",
              "  </tbody>\n",
              "</table>\n",
              "</div>"
            ],
            "text/plain": [
              "                              Title Format  Episode\n",
              "a  Fullmetal Alchemist: Brotherhood     Tv       64\n",
              "b                         your name  Movie        1\n",
              "c                    A Silent Voice  Movie        1"
            ]
          },
          "metadata": {
            "tags": []
          },
          "execution_count": 17
        }
      ]
    },
    {
      "cell_type": "markdown",
      "metadata": {
        "id": "H7bnwnqJLkGz"
      },
      "source": [
        "    b) from Dictionary with required columns only"
      ]
    },
    {
      "cell_type": "code",
      "metadata": {
        "colab": {
          "base_uri": "https://localhost:8080/",
          "height": 143
        },
        "id": "5281OhdJLv1U",
        "outputId": "f02c7548-3345-4932-e208-dfff8f9b10b1"
      },
      "source": [
        "import pandas as pd\n",
        "# dictionary with list object in values\n",
        "details = {\n",
        "    'Title' : ['Fullmetal Alchemist: Brotherhood', 'your name', 'A Silent Voice'],\n",
        "    'Format' : ['Tv','Movie','Movie'],\n",
        "    'Episode' : [64,1,1],\n",
        "}\n",
        "# creating a Dataframe object \n",
        "df = pd.DataFrame(details,index = ['a', 'b', 'c'],columns = ['Title', 'Format'])\n",
        "df"
      ],
      "execution_count": 18,
      "outputs": [
        {
          "output_type": "execute_result",
          "data": {
            "text/html": [
              "<div>\n",
              "<style scoped>\n",
              "    .dataframe tbody tr th:only-of-type {\n",
              "        vertical-align: middle;\n",
              "    }\n",
              "\n",
              "    .dataframe tbody tr th {\n",
              "        vertical-align: top;\n",
              "    }\n",
              "\n",
              "    .dataframe thead th {\n",
              "        text-align: right;\n",
              "    }\n",
              "</style>\n",
              "<table border=\"1\" class=\"dataframe\">\n",
              "  <thead>\n",
              "    <tr style=\"text-align: right;\">\n",
              "      <th></th>\n",
              "      <th>Title</th>\n",
              "      <th>Format</th>\n",
              "    </tr>\n",
              "  </thead>\n",
              "  <tbody>\n",
              "    <tr>\n",
              "      <th>a</th>\n",
              "      <td>Fullmetal Alchemist: Brotherhood</td>\n",
              "      <td>Tv</td>\n",
              "    </tr>\n",
              "    <tr>\n",
              "      <th>b</th>\n",
              "      <td>your name</td>\n",
              "      <td>Movie</td>\n",
              "    </tr>\n",
              "    <tr>\n",
              "      <th>c</th>\n",
              "      <td>A Silent Voice</td>\n",
              "      <td>Movie</td>\n",
              "    </tr>\n",
              "  </tbody>\n",
              "</table>\n",
              "</div>"
            ],
            "text/plain": [
              "                              Title Format\n",
              "a  Fullmetal Alchemist: Brotherhood     Tv\n",
              "b                         your name  Movie\n",
              "c                    A Silent Voice  Movie"
            ]
          },
          "metadata": {
            "tags": []
          },
          "execution_count": 18
        }
      ]
    },
    {
      "cell_type": "markdown",
      "metadata": {
        "id": "2CVIdWeuMH5j"
      },
      "source": [
        "    c) from dictionary with key and simple value"
      ]
    },
    {
      "cell_type": "code",
      "metadata": {
        "colab": {
          "base_uri": "https://localhost:8080/",
          "height": 175
        },
        "id": "A6I-0cZ9Mly1",
        "outputId": "4aa5248e-e1a9-4ff5-d722-a057b22721eb"
      },
      "source": [
        "import pandas as pd\n",
        "# dictionary\n",
        "details = {\n",
        "    'Inception' : 2010,\n",
        "    'Avengers: Infinity War' : 2018,\n",
        "    'Back to the Future' : 1985,\n",
        "    'Spider-Man: Into the Spider-Verse' :2018\n",
        "    }\n",
        "#creating a Dataframe object from a list of tuples of key, value pair\n",
        "df = pd.DataFrame(list(details.items()))  \n",
        "df"
      ],
      "execution_count": 19,
      "outputs": [
        {
          "output_type": "execute_result",
          "data": {
            "text/html": [
              "<div>\n",
              "<style scoped>\n",
              "    .dataframe tbody tr th:only-of-type {\n",
              "        vertical-align: middle;\n",
              "    }\n",
              "\n",
              "    .dataframe tbody tr th {\n",
              "        vertical-align: top;\n",
              "    }\n",
              "\n",
              "    .dataframe thead th {\n",
              "        text-align: right;\n",
              "    }\n",
              "</style>\n",
              "<table border=\"1\" class=\"dataframe\">\n",
              "  <thead>\n",
              "    <tr style=\"text-align: right;\">\n",
              "      <th></th>\n",
              "      <th>0</th>\n",
              "      <th>1</th>\n",
              "    </tr>\n",
              "  </thead>\n",
              "  <tbody>\n",
              "    <tr>\n",
              "      <th>0</th>\n",
              "      <td>Inception</td>\n",
              "      <td>2010</td>\n",
              "    </tr>\n",
              "    <tr>\n",
              "      <th>1</th>\n",
              "      <td>Avengers: Infinity War</td>\n",
              "      <td>2018</td>\n",
              "    </tr>\n",
              "    <tr>\n",
              "      <th>2</th>\n",
              "      <td>Back to the Future</td>\n",
              "      <td>1985</td>\n",
              "    </tr>\n",
              "    <tr>\n",
              "      <th>3</th>\n",
              "      <td>Spider-Man: Into the Spider-Verse</td>\n",
              "      <td>2018</td>\n",
              "    </tr>\n",
              "  </tbody>\n",
              "</table>\n",
              "</div>"
            ],
            "text/plain": [
              "                                   0     1\n",
              "0                          Inception  2010\n",
              "1             Avengers: Infinity War  2018\n",
              "2                 Back to the Future  1985\n",
              "3  Spider-Man: Into the Spider-Verse  2018"
            ]
          },
          "metadata": {
            "tags": []
          },
          "execution_count": 19
        }
      ]
    },
    {
      "cell_type": "markdown",
      "metadata": {
        "id": "GROx3kZDNPNO"
      },
      "source": [
        "    d) from nested Dictionary."
      ]
    },
    {
      "cell_type": "code",
      "metadata": {
        "colab": {
          "base_uri": "https://localhost:8080/",
          "height": 269
        },
        "id": "6hvgO0n1NTyF",
        "outputId": "92d83af0-736e-4943-d3bb-7ddf3b306d50"
      },
      "source": [
        "import pandas as pd\n",
        "# dictionary with dictionary object in values i.e. nested dictionary\n",
        "details = { \n",
        "    0 : {\n",
        "        'Title' :'Like Stars on Earth',\n",
        "        'Year' : 2007,\n",
        "        'IMDb rating' :8.4\n",
        "        },\n",
        "    1 : {\n",
        "       'Title' :'A Silent Voice',\n",
        "        'Year' :2016,\n",
        "        'IMDb rating' :8.2\n",
        "        },\n",
        "    2 : {\n",
        "         'Title' :'Bill Burr: Im Sorry You Feel That Way',\n",
        "        'Year' :2014 ,\n",
        "        'IMDb rating' :8.4\n",
        "        },\n",
        "    3:  {\n",
        "        'Title':'The Pianist'   ,\n",
        "         'Year' :2002   ,\n",
        "         'IMDb rating' : 8.5\n",
        "        },\n",
        "    4:  {\n",
        "        'Title':'Austin Powers: International Man of Mystery'    ,\n",
        "         'Year' : 1997   ,\n",
        "         'IMDb rating' : 7\n",
        "        },\n",
        "    5:  {\n",
        "        'Title':'Paper Tiger',\n",
        "         'Year' :2019,\n",
        "         'IMDb rating' : 8.2\n",
        "         },\n",
        "    6:  {\n",
        "        'Title':'Avengers: Infinity War',\n",
        "         'Year' : 2018   ,\n",
        "         'IMDb rating' : 8.5\n",
        "    },\n",
        "}\n",
        "  \n",
        "# creating a Dataframe object from nested dictionaryin which inside dictionary key is act as index valueand column value is 0, 1, 2...\n",
        "df = pd.DataFrame(details)\n",
        "# swap the columns with indexes\n",
        "df = df.transpose()\n",
        "df"
      ],
      "execution_count": 20,
      "outputs": [
        {
          "output_type": "execute_result",
          "data": {
            "text/html": [
              "<div>\n",
              "<style scoped>\n",
              "    .dataframe tbody tr th:only-of-type {\n",
              "        vertical-align: middle;\n",
              "    }\n",
              "\n",
              "    .dataframe tbody tr th {\n",
              "        vertical-align: top;\n",
              "    }\n",
              "\n",
              "    .dataframe thead th {\n",
              "        text-align: right;\n",
              "    }\n",
              "</style>\n",
              "<table border=\"1\" class=\"dataframe\">\n",
              "  <thead>\n",
              "    <tr style=\"text-align: right;\">\n",
              "      <th></th>\n",
              "      <th>Title</th>\n",
              "      <th>Year</th>\n",
              "      <th>IMDb rating</th>\n",
              "    </tr>\n",
              "  </thead>\n",
              "  <tbody>\n",
              "    <tr>\n",
              "      <th>0</th>\n",
              "      <td>Like Stars on Earth</td>\n",
              "      <td>2007</td>\n",
              "      <td>8.4</td>\n",
              "    </tr>\n",
              "    <tr>\n",
              "      <th>1</th>\n",
              "      <td>A Silent Voice</td>\n",
              "      <td>2016</td>\n",
              "      <td>8.2</td>\n",
              "    </tr>\n",
              "    <tr>\n",
              "      <th>2</th>\n",
              "      <td>Bill Burr: Im Sorry You Feel That Way</td>\n",
              "      <td>2014</td>\n",
              "      <td>8.4</td>\n",
              "    </tr>\n",
              "    <tr>\n",
              "      <th>3</th>\n",
              "      <td>The Pianist</td>\n",
              "      <td>2002</td>\n",
              "      <td>8.5</td>\n",
              "    </tr>\n",
              "    <tr>\n",
              "      <th>4</th>\n",
              "      <td>Austin Powers: International Man of Mystery</td>\n",
              "      <td>1997</td>\n",
              "      <td>7</td>\n",
              "    </tr>\n",
              "    <tr>\n",
              "      <th>5</th>\n",
              "      <td>Paper Tiger</td>\n",
              "      <td>2019</td>\n",
              "      <td>8.2</td>\n",
              "    </tr>\n",
              "    <tr>\n",
              "      <th>6</th>\n",
              "      <td>Avengers: Infinity War</td>\n",
              "      <td>2018</td>\n",
              "      <td>8.5</td>\n",
              "    </tr>\n",
              "  </tbody>\n",
              "</table>\n",
              "</div>"
            ],
            "text/plain": [
              "                                         Title  Year IMDb rating\n",
              "0                          Like Stars on Earth  2007         8.4\n",
              "1                               A Silent Voice  2016         8.2\n",
              "2        Bill Burr: Im Sorry You Feel That Way  2014         8.4\n",
              "3                                  The Pianist  2002         8.5\n",
              "4  Austin Powers: International Man of Mystery  1997           7\n",
              "5                                  Paper Tiger  2019         8.2\n",
              "6                       Avengers: Infinity War  2018         8.5"
            ]
          },
          "metadata": {
            "tags": []
          },
          "execution_count": 20
        }
      ]
    },
    {
      "cell_type": "markdown",
      "metadata": {
        "id": "3NYGmFiUOi9D"
      },
      "source": [
        " 5)  copying an existing dataframe"
      ]
    },
    {
      "cell_type": "code",
      "metadata": {
        "colab": {
          "base_uri": "https://localhost:8080/",
          "height": 143
        },
        "id": "fuXxO8AxOzQN",
        "outputId": "b65ad841-af00-44d5-fd97-56eeb14f0d76"
      },
      "source": [
        "df1 = df.head(3).copy()\n",
        "df1\n"
      ],
      "execution_count": 21,
      "outputs": [
        {
          "output_type": "execute_result",
          "data": {
            "text/html": [
              "<div>\n",
              "<style scoped>\n",
              "    .dataframe tbody tr th:only-of-type {\n",
              "        vertical-align: middle;\n",
              "    }\n",
              "\n",
              "    .dataframe tbody tr th {\n",
              "        vertical-align: top;\n",
              "    }\n",
              "\n",
              "    .dataframe thead th {\n",
              "        text-align: right;\n",
              "    }\n",
              "</style>\n",
              "<table border=\"1\" class=\"dataframe\">\n",
              "  <thead>\n",
              "    <tr style=\"text-align: right;\">\n",
              "      <th></th>\n",
              "      <th>Title</th>\n",
              "      <th>Year</th>\n",
              "      <th>IMDb rating</th>\n",
              "    </tr>\n",
              "  </thead>\n",
              "  <tbody>\n",
              "    <tr>\n",
              "      <th>0</th>\n",
              "      <td>Like Stars on Earth</td>\n",
              "      <td>2007</td>\n",
              "      <td>8.4</td>\n",
              "    </tr>\n",
              "    <tr>\n",
              "      <th>1</th>\n",
              "      <td>A Silent Voice</td>\n",
              "      <td>2016</td>\n",
              "      <td>8.2</td>\n",
              "    </tr>\n",
              "    <tr>\n",
              "      <th>2</th>\n",
              "      <td>Bill Burr: Im Sorry You Feel That Way</td>\n",
              "      <td>2014</td>\n",
              "      <td>8.4</td>\n",
              "    </tr>\n",
              "  </tbody>\n",
              "</table>\n",
              "</div>"
            ],
            "text/plain": [
              "                                   Title  Year IMDb rating\n",
              "0                    Like Stars on Earth  2007         8.4\n",
              "1                         A Silent Voice  2016         8.2\n",
              "2  Bill Burr: Im Sorry You Feel That Way  2014         8.4"
            ]
          },
          "metadata": {
            "tags": []
          },
          "execution_count": 21
        }
      ]
    },
    {
      "cell_type": "markdown",
      "metadata": {
        "id": "f8aeVkG_zfcb"
      },
      "source": [
        "\n",
        "\n",
        "---\n",
        "\n"
      ]
    },
    {
      "cell_type": "markdown",
      "metadata": {
        "id": "4EQxJFiGUp_7"
      },
      "source": [
        "                                                   2.  CREATE DATAFRAME FROM CSV FILE AND SAVE AS CSV FILE \n",
        "  "
      ]
    },
    {
      "cell_type": "markdown",
      "metadata": {
        "id": "PCQJHI-blq53"
      },
      "source": [
        "dataframe can be created from csv file using any of the following ways,"
      ]
    },
    {
      "cell_type": "markdown",
      "metadata": {
        "id": "i8HFji9BY59m"
      },
      "source": [
        "    a) Load data from local drive "
      ]
    },
    {
      "cell_type": "code",
      "metadata": {
        "colab": {
          "resources": {
            "http://localhost:8080/nbextensions/google.colab/files.js": {
              "data": "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",
              "ok": true,
              "headers": [
                [
                  "content-type",
                  "application/javascript"
                ]
              ],
              "status": 200,
              "status_text": ""
            }
          },
          "base_uri": "https://localhost:8080/",
          "height": 73
        },
        "id": "dKXAU9CtWrdP",
        "outputId": "67c1db23-a8bc-4991-d993-12e64c27e286"
      },
      "source": [
        "import pandas as pd\n",
        "\n",
        "from google.colab import files\n",
        "uploaded = files.upload()"
      ],
      "execution_count": 22,
      "outputs": [
        {
          "output_type": "display_data",
          "data": {
            "text/html": [
              "\n",
              "     <input type=\"file\" id=\"files-b870631c-92d7-448a-ac45-bf99bb7b9145\" name=\"files[]\" multiple disabled\n",
              "        style=\"border:none\" />\n",
              "     <output id=\"result-b870631c-92d7-448a-ac45-bf99bb7b9145\">\n",
              "      Upload widget is only available when the cell has been executed in the\n",
              "      current browser session. Please rerun this cell to enable.\n",
              "      </output>\n",
              "      <script src=\"/nbextensions/google.colab/files.js\"></script> "
            ],
            "text/plain": [
              "<IPython.core.display.HTML object>"
            ]
          },
          "metadata": {
            "tags": []
          }
        },
        {
          "output_type": "stream",
          "text": [
            "Saving superheroes_power_matrix.csv to superheroes_power_matrix.csv\n"
          ],
          "name": "stdout"
        }
      ]
    },
    {
      "cell_type": "code",
      "metadata": {
        "id": "sHisAbZdXIdX",
        "colab": {
          "base_uri": "https://localhost:8080/",
          "height": 231
        },
        "outputId": "37a6c2dd-005a-4f54-abfe-dfa37374f40e"
      },
      "source": [
        "import io\n",
        "superheroes_df = pd.read_csv(io.BytesIO(uploaded['superheroes_power_matrix.csv']))\n",
        "superheroes_df.head(2)"
      ],
      "execution_count": 23,
      "outputs": [
        {
          "output_type": "execute_result",
          "data": {
            "text/html": [
              "<div>\n",
              "<style scoped>\n",
              "    .dataframe tbody tr th:only-of-type {\n",
              "        vertical-align: middle;\n",
              "    }\n",
              "\n",
              "    .dataframe tbody tr th {\n",
              "        vertical-align: top;\n",
              "    }\n",
              "\n",
              "    .dataframe thead th {\n",
              "        text-align: right;\n",
              "    }\n",
              "</style>\n",
              "<table border=\"1\" class=\"dataframe\">\n",
              "  <thead>\n",
              "    <tr style=\"text-align: right;\">\n",
              "      <th></th>\n",
              "      <th>Name</th>\n",
              "      <th>Agility</th>\n",
              "      <th>Accelerated Healing</th>\n",
              "      <th>Lantern Power Ring</th>\n",
              "      <th>Dimensional Awareness</th>\n",
              "      <th>Cold Resistance</th>\n",
              "      <th>Durability</th>\n",
              "      <th>Stealth</th>\n",
              "      <th>Energy Absorption</th>\n",
              "      <th>Flight</th>\n",
              "      <th>Danger Sense</th>\n",
              "      <th>Underwater breathing</th>\n",
              "      <th>Marksmanship</th>\n",
              "      <th>Weapons Master</th>\n",
              "      <th>Power Augmentation</th>\n",
              "      <th>Animal Attributes</th>\n",
              "      <th>Longevity</th>\n",
              "      <th>Intelligence</th>\n",
              "      <th>Super Strength</th>\n",
              "      <th>Cryokinesis</th>\n",
              "      <th>Telepathy</th>\n",
              "      <th>Energy Armor</th>\n",
              "      <th>Energy Blasts</th>\n",
              "      <th>Duplication</th>\n",
              "      <th>Size Changing</th>\n",
              "      <th>Density Control</th>\n",
              "      <th>Stamina</th>\n",
              "      <th>Astral Travel</th>\n",
              "      <th>Audio Control</th>\n",
              "      <th>Dexterity</th>\n",
              "      <th>Omnitrix</th>\n",
              "      <th>Super Speed</th>\n",
              "      <th>Possession</th>\n",
              "      <th>Animal Oriented Powers</th>\n",
              "      <th>Weapon-based Powers</th>\n",
              "      <th>Electrokinesis</th>\n",
              "      <th>Darkforce Manipulation</th>\n",
              "      <th>Death Touch</th>\n",
              "      <th>Teleportation</th>\n",
              "      <th>Enhanced Senses</th>\n",
              "      <th>...</th>\n",
              "      <th>Mind Control Resistance</th>\n",
              "      <th>Plant Control</th>\n",
              "      <th>Sonar</th>\n",
              "      <th>Sonic Scream</th>\n",
              "      <th>Time Manipulation</th>\n",
              "      <th>Enhanced Touch</th>\n",
              "      <th>Magic Resistance</th>\n",
              "      <th>Invisibility</th>\n",
              "      <th>Sub-Mariner</th>\n",
              "      <th>Radiation Absorption</th>\n",
              "      <th>Intuitive aptitude</th>\n",
              "      <th>Vision - Microscopic</th>\n",
              "      <th>Melting</th>\n",
              "      <th>Wind Control</th>\n",
              "      <th>Super Breath</th>\n",
              "      <th>Wallcrawling</th>\n",
              "      <th>Vision - Night</th>\n",
              "      <th>Vision - Infrared</th>\n",
              "      <th>Grim Reaping</th>\n",
              "      <th>Matter Absorption</th>\n",
              "      <th>The Force</th>\n",
              "      <th>Resurrection</th>\n",
              "      <th>Terrakinesis</th>\n",
              "      <th>Vision - Heat</th>\n",
              "      <th>Vitakinesis</th>\n",
              "      <th>Radar Sense</th>\n",
              "      <th>Qwardian Power Ring</th>\n",
              "      <th>Weather Control</th>\n",
              "      <th>Vision - X-Ray</th>\n",
              "      <th>Vision - Thermal</th>\n",
              "      <th>Web Creation</th>\n",
              "      <th>Reality Warping</th>\n",
              "      <th>Odin Force</th>\n",
              "      <th>Symbiote Costume</th>\n",
              "      <th>Speed Force</th>\n",
              "      <th>Phoenix Force</th>\n",
              "      <th>Molecular Dissipation</th>\n",
              "      <th>Vision - Cryo</th>\n",
              "      <th>Omnipresent</th>\n",
              "      <th>Omniscient</th>\n",
              "    </tr>\n",
              "  </thead>\n",
              "  <tbody>\n",
              "    <tr>\n",
              "      <th>0</th>\n",
              "      <td>3-D Man</td>\n",
              "      <td>True</td>\n",
              "      <td>False</td>\n",
              "      <td>False</td>\n",
              "      <td>False</td>\n",
              "      <td>False</td>\n",
              "      <td>False</td>\n",
              "      <td>False</td>\n",
              "      <td>False</td>\n",
              "      <td>False</td>\n",
              "      <td>False</td>\n",
              "      <td>False</td>\n",
              "      <td>False</td>\n",
              "      <td>False</td>\n",
              "      <td>False</td>\n",
              "      <td>False</td>\n",
              "      <td>False</td>\n",
              "      <td>False</td>\n",
              "      <td>True</td>\n",
              "      <td>False</td>\n",
              "      <td>False</td>\n",
              "      <td>False</td>\n",
              "      <td>False</td>\n",
              "      <td>False</td>\n",
              "      <td>False</td>\n",
              "      <td>False</td>\n",
              "      <td>True</td>\n",
              "      <td>False</td>\n",
              "      <td>False</td>\n",
              "      <td>False</td>\n",
              "      <td>False</td>\n",
              "      <td>True</td>\n",
              "      <td>False</td>\n",
              "      <td>False</td>\n",
              "      <td>False</td>\n",
              "      <td>False</td>\n",
              "      <td>False</td>\n",
              "      <td>False</td>\n",
              "      <td>False</td>\n",
              "      <td>False</td>\n",
              "      <td>...</td>\n",
              "      <td>False</td>\n",
              "      <td>False</td>\n",
              "      <td>False</td>\n",
              "      <td>False</td>\n",
              "      <td>False</td>\n",
              "      <td>False</td>\n",
              "      <td>False</td>\n",
              "      <td>False</td>\n",
              "      <td>False</td>\n",
              "      <td>False</td>\n",
              "      <td>False</td>\n",
              "      <td>False</td>\n",
              "      <td>False</td>\n",
              "      <td>False</td>\n",
              "      <td>False</td>\n",
              "      <td>False</td>\n",
              "      <td>False</td>\n",
              "      <td>False</td>\n",
              "      <td>False</td>\n",
              "      <td>False</td>\n",
              "      <td>False</td>\n",
              "      <td>False</td>\n",
              "      <td>False</td>\n",
              "      <td>False</td>\n",
              "      <td>False</td>\n",
              "      <td>False</td>\n",
              "      <td>False</td>\n",
              "      <td>False</td>\n",
              "      <td>False</td>\n",
              "      <td>False</td>\n",
              "      <td>False</td>\n",
              "      <td>False</td>\n",
              "      <td>False</td>\n",
              "      <td>False</td>\n",
              "      <td>False</td>\n",
              "      <td>False</td>\n",
              "      <td>False</td>\n",
              "      <td>False</td>\n",
              "      <td>False</td>\n",
              "      <td>False</td>\n",
              "    </tr>\n",
              "    <tr>\n",
              "      <th>1</th>\n",
              "      <td>A-Bomb</td>\n",
              "      <td>False</td>\n",
              "      <td>True</td>\n",
              "      <td>False</td>\n",
              "      <td>False</td>\n",
              "      <td>False</td>\n",
              "      <td>True</td>\n",
              "      <td>False</td>\n",
              "      <td>False</td>\n",
              "      <td>False</td>\n",
              "      <td>False</td>\n",
              "      <td>False</td>\n",
              "      <td>False</td>\n",
              "      <td>False</td>\n",
              "      <td>False</td>\n",
              "      <td>False</td>\n",
              "      <td>True</td>\n",
              "      <td>False</td>\n",
              "      <td>True</td>\n",
              "      <td>False</td>\n",
              "      <td>False</td>\n",
              "      <td>False</td>\n",
              "      <td>False</td>\n",
              "      <td>False</td>\n",
              "      <td>False</td>\n",
              "      <td>False</td>\n",
              "      <td>True</td>\n",
              "      <td>False</td>\n",
              "      <td>False</td>\n",
              "      <td>False</td>\n",
              "      <td>False</td>\n",
              "      <td>False</td>\n",
              "      <td>False</td>\n",
              "      <td>False</td>\n",
              "      <td>False</td>\n",
              "      <td>False</td>\n",
              "      <td>False</td>\n",
              "      <td>False</td>\n",
              "      <td>False</td>\n",
              "      <td>False</td>\n",
              "      <td>...</td>\n",
              "      <td>False</td>\n",
              "      <td>False</td>\n",
              "      <td>False</td>\n",
              "      <td>False</td>\n",
              "      <td>False</td>\n",
              "      <td>False</td>\n",
              "      <td>False</td>\n",
              "      <td>False</td>\n",
              "      <td>False</td>\n",
              "      <td>False</td>\n",
              "      <td>False</td>\n",
              "      <td>False</td>\n",
              "      <td>False</td>\n",
              "      <td>False</td>\n",
              "      <td>False</td>\n",
              "      <td>False</td>\n",
              "      <td>False</td>\n",
              "      <td>False</td>\n",
              "      <td>False</td>\n",
              "      <td>False</td>\n",
              "      <td>False</td>\n",
              "      <td>False</td>\n",
              "      <td>False</td>\n",
              "      <td>False</td>\n",
              "      <td>False</td>\n",
              "      <td>False</td>\n",
              "      <td>False</td>\n",
              "      <td>False</td>\n",
              "      <td>False</td>\n",
              "      <td>False</td>\n",
              "      <td>False</td>\n",
              "      <td>False</td>\n",
              "      <td>False</td>\n",
              "      <td>False</td>\n",
              "      <td>False</td>\n",
              "      <td>False</td>\n",
              "      <td>False</td>\n",
              "      <td>False</td>\n",
              "      <td>False</td>\n",
              "      <td>False</td>\n",
              "    </tr>\n",
              "  </tbody>\n",
              "</table>\n",
              "<p>2 rows × 168 columns</p>\n",
              "</div>"
            ],
            "text/plain": [
              "      Name  Agility  ...  Omnipresent  Omniscient\n",
              "0  3-D Man     True  ...        False       False\n",
              "1   A-Bomb    False  ...        False       False\n",
              "\n",
              "[2 rows x 168 columns]"
            ]
          },
          "metadata": {
            "tags": []
          },
          "execution_count": 23
        }
      ]
    },
    {
      "cell_type": "markdown",
      "metadata": {
        "id": "CxEeC97oZUPP"
      },
      "source": [
        "    b) From Github"
      ]
    },
    {
      "cell_type": "markdown",
      "metadata": {
        "id": "59YyXwBDaei8"
      },
      "source": [
        "We can easily construct a python pandas dataframe from a csv file using pandas.read_csv()."
      ]
    },
    {
      "cell_type": "code",
      "metadata": {
        "id": "UK9-wrqVZ62h",
        "colab": {
          "base_uri": "https://localhost:8080/",
          "height": 269
        },
        "outputId": "6e54d9b2-d0ff-483c-d7dc-c6ad57fc9dbf"
      },
      "source": [
        "path='https://raw.githubusercontent.com/shruthi-jay/pandas/main/Pokemon.csv'\n",
        "pokemon_df = pd.read_csv(path,sep = ',', header = 'infer', index_col =None, usecols = ['Name','Type 1','Attack','Defense','Speed'])\n",
        "pokemon_df.head(7)"
      ],
      "execution_count": 24,
      "outputs": [
        {
          "output_type": "execute_result",
          "data": {
            "text/html": [
              "<div>\n",
              "<style scoped>\n",
              "    .dataframe tbody tr th:only-of-type {\n",
              "        vertical-align: middle;\n",
              "    }\n",
              "\n",
              "    .dataframe tbody tr th {\n",
              "        vertical-align: top;\n",
              "    }\n",
              "\n",
              "    .dataframe thead th {\n",
              "        text-align: right;\n",
              "    }\n",
              "</style>\n",
              "<table border=\"1\" class=\"dataframe\">\n",
              "  <thead>\n",
              "    <tr style=\"text-align: right;\">\n",
              "      <th></th>\n",
              "      <th>Name</th>\n",
              "      <th>Type 1</th>\n",
              "      <th>Attack</th>\n",
              "      <th>Defense</th>\n",
              "      <th>Speed</th>\n",
              "    </tr>\n",
              "  </thead>\n",
              "  <tbody>\n",
              "    <tr>\n",
              "      <th>0</th>\n",
              "      <td>Bulbasaur</td>\n",
              "      <td>Grass</td>\n",
              "      <td>49</td>\n",
              "      <td>49</td>\n",
              "      <td>45</td>\n",
              "    </tr>\n",
              "    <tr>\n",
              "      <th>1</th>\n",
              "      <td>Ivysaur</td>\n",
              "      <td>Grass</td>\n",
              "      <td>62</td>\n",
              "      <td>63</td>\n",
              "      <td>60</td>\n",
              "    </tr>\n",
              "    <tr>\n",
              "      <th>2</th>\n",
              "      <td>Venusaur</td>\n",
              "      <td>Grass</td>\n",
              "      <td>82</td>\n",
              "      <td>83</td>\n",
              "      <td>80</td>\n",
              "    </tr>\n",
              "    <tr>\n",
              "      <th>3</th>\n",
              "      <td>VenusaurMega Venusaur</td>\n",
              "      <td>Grass</td>\n",
              "      <td>100</td>\n",
              "      <td>123</td>\n",
              "      <td>80</td>\n",
              "    </tr>\n",
              "    <tr>\n",
              "      <th>4</th>\n",
              "      <td>Charmander</td>\n",
              "      <td>Fire</td>\n",
              "      <td>52</td>\n",
              "      <td>43</td>\n",
              "      <td>65</td>\n",
              "    </tr>\n",
              "    <tr>\n",
              "      <th>5</th>\n",
              "      <td>Charmeleon</td>\n",
              "      <td>Fire</td>\n",
              "      <td>64</td>\n",
              "      <td>58</td>\n",
              "      <td>80</td>\n",
              "    </tr>\n",
              "    <tr>\n",
              "      <th>6</th>\n",
              "      <td>Charizard</td>\n",
              "      <td>Fire</td>\n",
              "      <td>84</td>\n",
              "      <td>78</td>\n",
              "      <td>100</td>\n",
              "    </tr>\n",
              "  </tbody>\n",
              "</table>\n",
              "</div>"
            ],
            "text/plain": [
              "                    Name Type 1  Attack  Defense  Speed\n",
              "0              Bulbasaur  Grass      49       49     45\n",
              "1                Ivysaur  Grass      62       63     60\n",
              "2               Venusaur  Grass      82       83     80\n",
              "3  VenusaurMega Venusaur  Grass     100      123     80\n",
              "4             Charmander   Fire      52       43     65\n",
              "5             Charmeleon   Fire      64       58     80\n",
              "6              Charizard   Fire      84       78    100"
            ]
          },
          "metadata": {
            "tags": []
          },
          "execution_count": 24
        }
      ]
    },
    {
      "cell_type": "markdown",
      "metadata": {
        "id": "4QRlwAd5c0YK"
      },
      "source": [
        "2) Save Dataframe as CSV file using to_csv() method"
      ]
    },
    {
      "cell_type": "code",
      "metadata": {
        "id": "ygLvhkmsds02"
      },
      "source": [
        "data = {'Name':['Brad Pitt','Christopher Walken','Daniel Day-Lewis','Dustin Hoffman'],\n",
        "        'Oscar':[1,1,3,2],\n",
        "        'BAFTA':[1,1,4,4]}\n",
        "df = pd.DataFrame(data)\n",
        "df.to_csv('my_dataset.csv')"
      ],
      "execution_count": 91,
      "outputs": []
    },
    {
      "cell_type": "markdown",
      "metadata": {
        "id": "_REMJYcGzkWn"
      },
      "source": [
        "\n",
        "\n",
        "---\n",
        "\n"
      ]
    },
    {
      "cell_type": "markdown",
      "metadata": {
        "id": "ofqTUzL6jKrT"
      },
      "source": [
        "                                                       3. GROUP BY OPERATIONS IN DATAFRAME"
      ]
    },
    {
      "cell_type": "markdown",
      "metadata": {
        "id": "tEZSE7oMkAsH"
      },
      "source": [
        "Pandas dataframe.groupby() function is used to split the data into groups based on some criteria. pandas objects can be split on any of their axes.Some of the attributes and methods used to access DataFrameGroupBy are"
      ]
    },
    {
      "cell_type": "markdown",
      "metadata": {
        "id": "LGqXGGyE0Lxh"
      },
      "source": [
        "  1)   Splitting to groups "
      ]
    },
    {
      "cell_type": "code",
      "metadata": {
        "id": "fRPF7vfwkQXC",
        "colab": {
          "base_uri": "https://localhost:8080/",
          "height": 645
        },
        "outputId": "a19d134f-3678-47a0-9176-93e551f0011d"
      },
      "source": [
        "import pandas as pd \n",
        "df = pd.read_csv('https://raw.githubusercontent.com/shruthi-jay/pandas/main/Pokemon.csv')\n",
        "gk = df.groupby('Type 1')\n",
        "# Let's print the first entries in all the groups formed.\n",
        "gk.first()"
      ],
      "execution_count": 26,
      "outputs": [
        {
          "output_type": "execute_result",
          "data": {
            "text/html": [
              "<div>\n",
              "<style scoped>\n",
              "    .dataframe tbody tr th:only-of-type {\n",
              "        vertical-align: middle;\n",
              "    }\n",
              "\n",
              "    .dataframe tbody tr th {\n",
              "        vertical-align: top;\n",
              "    }\n",
              "\n",
              "    .dataframe thead th {\n",
              "        text-align: right;\n",
              "    }\n",
              "</style>\n",
              "<table border=\"1\" class=\"dataframe\">\n",
              "  <thead>\n",
              "    <tr style=\"text-align: right;\">\n",
              "      <th></th>\n",
              "      <th>#</th>\n",
              "      <th>Name</th>\n",
              "      <th>Type 2</th>\n",
              "      <th>Total</th>\n",
              "      <th>HP</th>\n",
              "      <th>Attack</th>\n",
              "      <th>Defense</th>\n",
              "      <th>Sp. Atk</th>\n",
              "      <th>Sp. Def</th>\n",
              "      <th>Speed</th>\n",
              "      <th>Generation</th>\n",
              "      <th>Legendary</th>\n",
              "    </tr>\n",
              "    <tr>\n",
              "      <th>Type 1</th>\n",
              "      <th></th>\n",
              "      <th></th>\n",
              "      <th></th>\n",
              "      <th></th>\n",
              "      <th></th>\n",
              "      <th></th>\n",
              "      <th></th>\n",
              "      <th></th>\n",
              "      <th></th>\n",
              "      <th></th>\n",
              "      <th></th>\n",
              "      <th></th>\n",
              "    </tr>\n",
              "  </thead>\n",
              "  <tbody>\n",
              "    <tr>\n",
              "      <th>Bug</th>\n",
              "      <td>10</td>\n",
              "      <td>Caterpie</td>\n",
              "      <td>Flying</td>\n",
              "      <td>195</td>\n",
              "      <td>45</td>\n",
              "      <td>30</td>\n",
              "      <td>35</td>\n",
              "      <td>20</td>\n",
              "      <td>20</td>\n",
              "      <td>45</td>\n",
              "      <td>1</td>\n",
              "      <td>False</td>\n",
              "    </tr>\n",
              "    <tr>\n",
              "      <th>Dark</th>\n",
              "      <td>197</td>\n",
              "      <td>Umbreon</td>\n",
              "      <td>Flying</td>\n",
              "      <td>525</td>\n",
              "      <td>95</td>\n",
              "      <td>65</td>\n",
              "      <td>110</td>\n",
              "      <td>60</td>\n",
              "      <td>130</td>\n",
              "      <td>65</td>\n",
              "      <td>2</td>\n",
              "      <td>False</td>\n",
              "    </tr>\n",
              "    <tr>\n",
              "      <th>Dragon</th>\n",
              "      <td>147</td>\n",
              "      <td>Dratini</td>\n",
              "      <td>Flying</td>\n",
              "      <td>300</td>\n",
              "      <td>41</td>\n",
              "      <td>64</td>\n",
              "      <td>45</td>\n",
              "      <td>50</td>\n",
              "      <td>50</td>\n",
              "      <td>50</td>\n",
              "      <td>1</td>\n",
              "      <td>False</td>\n",
              "    </tr>\n",
              "    <tr>\n",
              "      <th>Electric</th>\n",
              "      <td>25</td>\n",
              "      <td>Pikachu</td>\n",
              "      <td>Steel</td>\n",
              "      <td>320</td>\n",
              "      <td>35</td>\n",
              "      <td>55</td>\n",
              "      <td>40</td>\n",
              "      <td>50</td>\n",
              "      <td>50</td>\n",
              "      <td>90</td>\n",
              "      <td>1</td>\n",
              "      <td>False</td>\n",
              "    </tr>\n",
              "    <tr>\n",
              "      <th>Fairy</th>\n",
              "      <td>35</td>\n",
              "      <td>Clefairy</td>\n",
              "      <td>Flying</td>\n",
              "      <td>323</td>\n",
              "      <td>70</td>\n",
              "      <td>45</td>\n",
              "      <td>48</td>\n",
              "      <td>60</td>\n",
              "      <td>65</td>\n",
              "      <td>35</td>\n",
              "      <td>1</td>\n",
              "      <td>False</td>\n",
              "    </tr>\n",
              "    <tr>\n",
              "      <th>Fighting</th>\n",
              "      <td>56</td>\n",
              "      <td>Mankey</td>\n",
              "      <td>Psychic</td>\n",
              "      <td>305</td>\n",
              "      <td>40</td>\n",
              "      <td>80</td>\n",
              "      <td>35</td>\n",
              "      <td>35</td>\n",
              "      <td>45</td>\n",
              "      <td>70</td>\n",
              "      <td>1</td>\n",
              "      <td>False</td>\n",
              "    </tr>\n",
              "    <tr>\n",
              "      <th>Fire</th>\n",
              "      <td>4</td>\n",
              "      <td>Charmander</td>\n",
              "      <td>Flying</td>\n",
              "      <td>309</td>\n",
              "      <td>39</td>\n",
              "      <td>52</td>\n",
              "      <td>43</td>\n",
              "      <td>60</td>\n",
              "      <td>50</td>\n",
              "      <td>65</td>\n",
              "      <td>1</td>\n",
              "      <td>False</td>\n",
              "    </tr>\n",
              "    <tr>\n",
              "      <th>Flying</th>\n",
              "      <td>641</td>\n",
              "      <td>TornadusIncarnate Forme</td>\n",
              "      <td>Dragon</td>\n",
              "      <td>580</td>\n",
              "      <td>79</td>\n",
              "      <td>115</td>\n",
              "      <td>70</td>\n",
              "      <td>125</td>\n",
              "      <td>80</td>\n",
              "      <td>111</td>\n",
              "      <td>5</td>\n",
              "      <td>True</td>\n",
              "    </tr>\n",
              "    <tr>\n",
              "      <th>Ghost</th>\n",
              "      <td>92</td>\n",
              "      <td>Gastly</td>\n",
              "      <td>Poison</td>\n",
              "      <td>310</td>\n",
              "      <td>30</td>\n",
              "      <td>35</td>\n",
              "      <td>30</td>\n",
              "      <td>100</td>\n",
              "      <td>35</td>\n",
              "      <td>80</td>\n",
              "      <td>1</td>\n",
              "      <td>False</td>\n",
              "    </tr>\n",
              "    <tr>\n",
              "      <th>Grass</th>\n",
              "      <td>1</td>\n",
              "      <td>Bulbasaur</td>\n",
              "      <td>Poison</td>\n",
              "      <td>318</td>\n",
              "      <td>45</td>\n",
              "      <td>49</td>\n",
              "      <td>49</td>\n",
              "      <td>65</td>\n",
              "      <td>65</td>\n",
              "      <td>45</td>\n",
              "      <td>1</td>\n",
              "      <td>False</td>\n",
              "    </tr>\n",
              "    <tr>\n",
              "      <th>Ground</th>\n",
              "      <td>27</td>\n",
              "      <td>Sandshrew</td>\n",
              "      <td>Rock</td>\n",
              "      <td>300</td>\n",
              "      <td>50</td>\n",
              "      <td>75</td>\n",
              "      <td>85</td>\n",
              "      <td>20</td>\n",
              "      <td>30</td>\n",
              "      <td>40</td>\n",
              "      <td>1</td>\n",
              "      <td>False</td>\n",
              "    </tr>\n",
              "    <tr>\n",
              "      <th>Ice</th>\n",
              "      <td>124</td>\n",
              "      <td>Jynx</td>\n",
              "      <td>Psychic</td>\n",
              "      <td>455</td>\n",
              "      <td>65</td>\n",
              "      <td>50</td>\n",
              "      <td>35</td>\n",
              "      <td>115</td>\n",
              "      <td>95</td>\n",
              "      <td>95</td>\n",
              "      <td>1</td>\n",
              "      <td>False</td>\n",
              "    </tr>\n",
              "    <tr>\n",
              "      <th>Normal</th>\n",
              "      <td>16</td>\n",
              "      <td>Pidgey</td>\n",
              "      <td>Flying</td>\n",
              "      <td>251</td>\n",
              "      <td>40</td>\n",
              "      <td>45</td>\n",
              "      <td>40</td>\n",
              "      <td>35</td>\n",
              "      <td>35</td>\n",
              "      <td>56</td>\n",
              "      <td>1</td>\n",
              "      <td>False</td>\n",
              "    </tr>\n",
              "    <tr>\n",
              "      <th>Poison</th>\n",
              "      <td>23</td>\n",
              "      <td>Ekans</td>\n",
              "      <td>Ground</td>\n",
              "      <td>288</td>\n",
              "      <td>35</td>\n",
              "      <td>60</td>\n",
              "      <td>44</td>\n",
              "      <td>40</td>\n",
              "      <td>54</td>\n",
              "      <td>55</td>\n",
              "      <td>1</td>\n",
              "      <td>False</td>\n",
              "    </tr>\n",
              "    <tr>\n",
              "      <th>Psychic</th>\n",
              "      <td>63</td>\n",
              "      <td>Abra</td>\n",
              "      <td>Fairy</td>\n",
              "      <td>310</td>\n",
              "      <td>25</td>\n",
              "      <td>20</td>\n",
              "      <td>15</td>\n",
              "      <td>105</td>\n",
              "      <td>55</td>\n",
              "      <td>90</td>\n",
              "      <td>1</td>\n",
              "      <td>False</td>\n",
              "    </tr>\n",
              "    <tr>\n",
              "      <th>Rock</th>\n",
              "      <td>74</td>\n",
              "      <td>Geodude</td>\n",
              "      <td>Ground</td>\n",
              "      <td>300</td>\n",
              "      <td>40</td>\n",
              "      <td>80</td>\n",
              "      <td>100</td>\n",
              "      <td>30</td>\n",
              "      <td>30</td>\n",
              "      <td>20</td>\n",
              "      <td>1</td>\n",
              "      <td>False</td>\n",
              "    </tr>\n",
              "    <tr>\n",
              "      <th>Steel</th>\n",
              "      <td>208</td>\n",
              "      <td>Steelix</td>\n",
              "      <td>Ground</td>\n",
              "      <td>510</td>\n",
              "      <td>75</td>\n",
              "      <td>85</td>\n",
              "      <td>200</td>\n",
              "      <td>55</td>\n",
              "      <td>65</td>\n",
              "      <td>30</td>\n",
              "      <td>2</td>\n",
              "      <td>False</td>\n",
              "    </tr>\n",
              "    <tr>\n",
              "      <th>Water</th>\n",
              "      <td>7</td>\n",
              "      <td>Squirtle</td>\n",
              "      <td>Fighting</td>\n",
              "      <td>314</td>\n",
              "      <td>44</td>\n",
              "      <td>48</td>\n",
              "      <td>65</td>\n",
              "      <td>50</td>\n",
              "      <td>64</td>\n",
              "      <td>43</td>\n",
              "      <td>1</td>\n",
              "      <td>False</td>\n",
              "    </tr>\n",
              "  </tbody>\n",
              "</table>\n",
              "</div>"
            ],
            "text/plain": [
              "            #                     Name    Type 2  ...  Speed  Generation  Legendary\n",
              "Type 1                                            ...                              \n",
              "Bug        10                 Caterpie    Flying  ...     45           1      False\n",
              "Dark      197                  Umbreon    Flying  ...     65           2      False\n",
              "Dragon    147                  Dratini    Flying  ...     50           1      False\n",
              "Electric   25                  Pikachu     Steel  ...     90           1      False\n",
              "Fairy      35                 Clefairy    Flying  ...     35           1      False\n",
              "Fighting   56                   Mankey   Psychic  ...     70           1      False\n",
              "Fire        4               Charmander    Flying  ...     65           1      False\n",
              "Flying    641  TornadusIncarnate Forme    Dragon  ...    111           5       True\n",
              "Ghost      92                   Gastly    Poison  ...     80           1      False\n",
              "Grass       1                Bulbasaur    Poison  ...     45           1      False\n",
              "Ground     27                Sandshrew      Rock  ...     40           1      False\n",
              "Ice       124                     Jynx   Psychic  ...     95           1      False\n",
              "Normal     16                   Pidgey    Flying  ...     56           1      False\n",
              "Poison     23                    Ekans    Ground  ...     55           1      False\n",
              "Psychic    63                     Abra     Fairy  ...     90           1      False\n",
              "Rock       74                  Geodude    Ground  ...     20           1      False\n",
              "Steel     208                  Steelix    Ground  ...     30           2      False\n",
              "Water       7                 Squirtle  Fighting  ...     43           1      False\n",
              "\n",
              "[18 rows x 12 columns]"
            ]
          },
          "metadata": {
            "tags": []
          },
          "execution_count": 26
        }
      ]
    },
    {
      "cell_type": "code",
      "metadata": {
        "id": "wDPhPbh00LJS",
        "colab": {
          "base_uri": "https://localhost:8080/",
          "height": 645
        },
        "outputId": "f36789f7-ea3c-4118-84de-5d2be5df3a1e"
      },
      "source": [
        "gk.last()"
      ],
      "execution_count": 27,
      "outputs": [
        {
          "output_type": "execute_result",
          "data": {
            "text/html": [
              "<div>\n",
              "<style scoped>\n",
              "    .dataframe tbody tr th:only-of-type {\n",
              "        vertical-align: middle;\n",
              "    }\n",
              "\n",
              "    .dataframe tbody tr th {\n",
              "        vertical-align: top;\n",
              "    }\n",
              "\n",
              "    .dataframe thead th {\n",
              "        text-align: right;\n",
              "    }\n",
              "</style>\n",
              "<table border=\"1\" class=\"dataframe\">\n",
              "  <thead>\n",
              "    <tr style=\"text-align: right;\">\n",
              "      <th></th>\n",
              "      <th>#</th>\n",
              "      <th>Name</th>\n",
              "      <th>Type 2</th>\n",
              "      <th>Total</th>\n",
              "      <th>HP</th>\n",
              "      <th>Attack</th>\n",
              "      <th>Defense</th>\n",
              "      <th>Sp. Atk</th>\n",
              "      <th>Sp. Def</th>\n",
              "      <th>Speed</th>\n",
              "      <th>Generation</th>\n",
              "      <th>Legendary</th>\n",
              "    </tr>\n",
              "    <tr>\n",
              "      <th>Type 1</th>\n",
              "      <th></th>\n",
              "      <th></th>\n",
              "      <th></th>\n",
              "      <th></th>\n",
              "      <th></th>\n",
              "      <th></th>\n",
              "      <th></th>\n",
              "      <th></th>\n",
              "      <th></th>\n",
              "      <th></th>\n",
              "      <th></th>\n",
              "      <th></th>\n",
              "    </tr>\n",
              "  </thead>\n",
              "  <tbody>\n",
              "    <tr>\n",
              "      <th>Bug</th>\n",
              "      <td>666</td>\n",
              "      <td>Vivillon</td>\n",
              "      <td>Flying</td>\n",
              "      <td>411</td>\n",
              "      <td>80</td>\n",
              "      <td>52</td>\n",
              "      <td>50</td>\n",
              "      <td>90</td>\n",
              "      <td>50</td>\n",
              "      <td>89</td>\n",
              "      <td>6</td>\n",
              "      <td>False</td>\n",
              "    </tr>\n",
              "    <tr>\n",
              "      <th>Dark</th>\n",
              "      <td>717</td>\n",
              "      <td>Yveltal</td>\n",
              "      <td>Flying</td>\n",
              "      <td>680</td>\n",
              "      <td>126</td>\n",
              "      <td>131</td>\n",
              "      <td>95</td>\n",
              "      <td>131</td>\n",
              "      <td>98</td>\n",
              "      <td>99</td>\n",
              "      <td>6</td>\n",
              "      <td>True</td>\n",
              "    </tr>\n",
              "    <tr>\n",
              "      <th>Dragon</th>\n",
              "      <td>718</td>\n",
              "      <td>Zygarde50% Forme</td>\n",
              "      <td>Ground</td>\n",
              "      <td>600</td>\n",
              "      <td>108</td>\n",
              "      <td>100</td>\n",
              "      <td>121</td>\n",
              "      <td>81</td>\n",
              "      <td>95</td>\n",
              "      <td>95</td>\n",
              "      <td>6</td>\n",
              "      <td>True</td>\n",
              "    </tr>\n",
              "    <tr>\n",
              "      <th>Electric</th>\n",
              "      <td>702</td>\n",
              "      <td>Dedenne</td>\n",
              "      <td>Fairy</td>\n",
              "      <td>431</td>\n",
              "      <td>67</td>\n",
              "      <td>58</td>\n",
              "      <td>57</td>\n",
              "      <td>81</td>\n",
              "      <td>67</td>\n",
              "      <td>101</td>\n",
              "      <td>6</td>\n",
              "      <td>False</td>\n",
              "    </tr>\n",
              "    <tr>\n",
              "      <th>Fairy</th>\n",
              "      <td>716</td>\n",
              "      <td>Xerneas</td>\n",
              "      <td>Flying</td>\n",
              "      <td>680</td>\n",
              "      <td>126</td>\n",
              "      <td>131</td>\n",
              "      <td>95</td>\n",
              "      <td>131</td>\n",
              "      <td>98</td>\n",
              "      <td>99</td>\n",
              "      <td>6</td>\n",
              "      <td>True</td>\n",
              "    </tr>\n",
              "    <tr>\n",
              "      <th>Fighting</th>\n",
              "      <td>701</td>\n",
              "      <td>Hawlucha</td>\n",
              "      <td>Flying</td>\n",
              "      <td>500</td>\n",
              "      <td>78</td>\n",
              "      <td>92</td>\n",
              "      <td>75</td>\n",
              "      <td>74</td>\n",
              "      <td>63</td>\n",
              "      <td>118</td>\n",
              "      <td>6</td>\n",
              "      <td>False</td>\n",
              "    </tr>\n",
              "    <tr>\n",
              "      <th>Fire</th>\n",
              "      <td>721</td>\n",
              "      <td>Volcanion</td>\n",
              "      <td>Water</td>\n",
              "      <td>600</td>\n",
              "      <td>80</td>\n",
              "      <td>110</td>\n",
              "      <td>120</td>\n",
              "      <td>130</td>\n",
              "      <td>90</td>\n",
              "      <td>70</td>\n",
              "      <td>6</td>\n",
              "      <td>True</td>\n",
              "    </tr>\n",
              "    <tr>\n",
              "      <th>Flying</th>\n",
              "      <td>715</td>\n",
              "      <td>Noivern</td>\n",
              "      <td>Dragon</td>\n",
              "      <td>535</td>\n",
              "      <td>85</td>\n",
              "      <td>70</td>\n",
              "      <td>80</td>\n",
              "      <td>97</td>\n",
              "      <td>80</td>\n",
              "      <td>123</td>\n",
              "      <td>6</td>\n",
              "      <td>False</td>\n",
              "    </tr>\n",
              "    <tr>\n",
              "      <th>Ghost</th>\n",
              "      <td>711</td>\n",
              "      <td>GourgeistSuper Size</td>\n",
              "      <td>Grass</td>\n",
              "      <td>494</td>\n",
              "      <td>85</td>\n",
              "      <td>100</td>\n",
              "      <td>122</td>\n",
              "      <td>58</td>\n",
              "      <td>75</td>\n",
              "      <td>54</td>\n",
              "      <td>6</td>\n",
              "      <td>False</td>\n",
              "    </tr>\n",
              "    <tr>\n",
              "      <th>Grass</th>\n",
              "      <td>673</td>\n",
              "      <td>Gogoat</td>\n",
              "      <td>Fighting</td>\n",
              "      <td>531</td>\n",
              "      <td>123</td>\n",
              "      <td>100</td>\n",
              "      <td>62</td>\n",
              "      <td>97</td>\n",
              "      <td>81</td>\n",
              "      <td>68</td>\n",
              "      <td>6</td>\n",
              "      <td>False</td>\n",
              "    </tr>\n",
              "    <tr>\n",
              "      <th>Ground</th>\n",
              "      <td>645</td>\n",
              "      <td>LandorusTherian Forme</td>\n",
              "      <td>Flying</td>\n",
              "      <td>600</td>\n",
              "      <td>89</td>\n",
              "      <td>145</td>\n",
              "      <td>90</td>\n",
              "      <td>105</td>\n",
              "      <td>80</td>\n",
              "      <td>91</td>\n",
              "      <td>5</td>\n",
              "      <td>True</td>\n",
              "    </tr>\n",
              "    <tr>\n",
              "      <th>Ice</th>\n",
              "      <td>713</td>\n",
              "      <td>Avalugg</td>\n",
              "      <td>Ghost</td>\n",
              "      <td>514</td>\n",
              "      <td>95</td>\n",
              "      <td>117</td>\n",
              "      <td>184</td>\n",
              "      <td>44</td>\n",
              "      <td>46</td>\n",
              "      <td>28</td>\n",
              "      <td>6</td>\n",
              "      <td>False</td>\n",
              "    </tr>\n",
              "    <tr>\n",
              "      <th>Normal</th>\n",
              "      <td>676</td>\n",
              "      <td>Furfrou</td>\n",
              "      <td>Flying</td>\n",
              "      <td>472</td>\n",
              "      <td>75</td>\n",
              "      <td>80</td>\n",
              "      <td>60</td>\n",
              "      <td>65</td>\n",
              "      <td>90</td>\n",
              "      <td>102</td>\n",
              "      <td>6</td>\n",
              "      <td>False</td>\n",
              "    </tr>\n",
              "    <tr>\n",
              "      <th>Poison</th>\n",
              "      <td>691</td>\n",
              "      <td>Dragalge</td>\n",
              "      <td>Dragon</td>\n",
              "      <td>494</td>\n",
              "      <td>65</td>\n",
              "      <td>75</td>\n",
              "      <td>90</td>\n",
              "      <td>97</td>\n",
              "      <td>123</td>\n",
              "      <td>44</td>\n",
              "      <td>6</td>\n",
              "      <td>False</td>\n",
              "    </tr>\n",
              "    <tr>\n",
              "      <th>Psychic</th>\n",
              "      <td>720</td>\n",
              "      <td>HoopaHoopa Unbound</td>\n",
              "      <td>Dark</td>\n",
              "      <td>680</td>\n",
              "      <td>80</td>\n",
              "      <td>160</td>\n",
              "      <td>60</td>\n",
              "      <td>170</td>\n",
              "      <td>130</td>\n",
              "      <td>80</td>\n",
              "      <td>6</td>\n",
              "      <td>True</td>\n",
              "    </tr>\n",
              "    <tr>\n",
              "      <th>Rock</th>\n",
              "      <td>719</td>\n",
              "      <td>DiancieMega Diancie</td>\n",
              "      <td>Fairy</td>\n",
              "      <td>700</td>\n",
              "      <td>50</td>\n",
              "      <td>160</td>\n",
              "      <td>110</td>\n",
              "      <td>160</td>\n",
              "      <td>110</td>\n",
              "      <td>110</td>\n",
              "      <td>6</td>\n",
              "      <td>True</td>\n",
              "    </tr>\n",
              "    <tr>\n",
              "      <th>Steel</th>\n",
              "      <td>707</td>\n",
              "      <td>Klefki</td>\n",
              "      <td>Fairy</td>\n",
              "      <td>470</td>\n",
              "      <td>57</td>\n",
              "      <td>80</td>\n",
              "      <td>91</td>\n",
              "      <td>80</td>\n",
              "      <td>87</td>\n",
              "      <td>75</td>\n",
              "      <td>6</td>\n",
              "      <td>False</td>\n",
              "    </tr>\n",
              "    <tr>\n",
              "      <th>Water</th>\n",
              "      <td>693</td>\n",
              "      <td>Clawitzer</td>\n",
              "      <td>Dark</td>\n",
              "      <td>500</td>\n",
              "      <td>71</td>\n",
              "      <td>73</td>\n",
              "      <td>88</td>\n",
              "      <td>120</td>\n",
              "      <td>89</td>\n",
              "      <td>59</td>\n",
              "      <td>6</td>\n",
              "      <td>False</td>\n",
              "    </tr>\n",
              "  </tbody>\n",
              "</table>\n",
              "</div>"
            ],
            "text/plain": [
              "            #                   Name    Type 2  ...  Speed  Generation  Legendary\n",
              "Type 1                                          ...                              \n",
              "Bug       666               Vivillon    Flying  ...     89           6      False\n",
              "Dark      717                Yveltal    Flying  ...     99           6       True\n",
              "Dragon    718       Zygarde50% Forme    Ground  ...     95           6       True\n",
              "Electric  702                Dedenne     Fairy  ...    101           6      False\n",
              "Fairy     716                Xerneas    Flying  ...     99           6       True\n",
              "Fighting  701               Hawlucha    Flying  ...    118           6      False\n",
              "Fire      721              Volcanion     Water  ...     70           6       True\n",
              "Flying    715                Noivern    Dragon  ...    123           6      False\n",
              "Ghost     711    GourgeistSuper Size     Grass  ...     54           6      False\n",
              "Grass     673                 Gogoat  Fighting  ...     68           6      False\n",
              "Ground    645  LandorusTherian Forme    Flying  ...     91           5       True\n",
              "Ice       713                Avalugg     Ghost  ...     28           6      False\n",
              "Normal    676                Furfrou    Flying  ...    102           6      False\n",
              "Poison    691               Dragalge    Dragon  ...     44           6      False\n",
              "Psychic   720     HoopaHoopa Unbound      Dark  ...     80           6       True\n",
              "Rock      719    DiancieMega Diancie     Fairy  ...    110           6       True\n",
              "Steel     707                 Klefki     Fairy  ...     75           6      False\n",
              "Water     693              Clawitzer      Dark  ...     59           6      False\n",
              "\n",
              "[18 rows x 12 columns]"
            ]
          },
          "metadata": {
            "tags": []
          },
          "execution_count": 27
        }
      ]
    },
    {
      "cell_type": "markdown",
      "metadata": {
        "id": "qHENZDHl0d7H"
      },
      "source": [
        " 2) Select a Group\n",
        "\n"
      ]
    },
    {
      "cell_type": "code",
      "metadata": {
        "id": "ORTgYlWxl7lI",
        "colab": {
          "base_uri": "https://localhost:8080/",
          "height": 206
        },
        "outputId": "2a988232-0bd8-4e2b-e98a-0fe1c66bc053"
      },
      "source": [
        "gk.get_group('Water').head(5)"
      ],
      "execution_count": 28,
      "outputs": [
        {
          "output_type": "execute_result",
          "data": {
            "text/html": [
              "<div>\n",
              "<style scoped>\n",
              "    .dataframe tbody tr th:only-of-type {\n",
              "        vertical-align: middle;\n",
              "    }\n",
              "\n",
              "    .dataframe tbody tr th {\n",
              "        vertical-align: top;\n",
              "    }\n",
              "\n",
              "    .dataframe thead th {\n",
              "        text-align: right;\n",
              "    }\n",
              "</style>\n",
              "<table border=\"1\" class=\"dataframe\">\n",
              "  <thead>\n",
              "    <tr style=\"text-align: right;\">\n",
              "      <th></th>\n",
              "      <th>#</th>\n",
              "      <th>Name</th>\n",
              "      <th>Type 2</th>\n",
              "      <th>Total</th>\n",
              "      <th>HP</th>\n",
              "      <th>Attack</th>\n",
              "      <th>Defense</th>\n",
              "      <th>Sp. Atk</th>\n",
              "      <th>Sp. Def</th>\n",
              "      <th>Speed</th>\n",
              "      <th>Generation</th>\n",
              "      <th>Legendary</th>\n",
              "    </tr>\n",
              "  </thead>\n",
              "  <tbody>\n",
              "    <tr>\n",
              "      <th>9</th>\n",
              "      <td>7</td>\n",
              "      <td>Squirtle</td>\n",
              "      <td>NaN</td>\n",
              "      <td>314</td>\n",
              "      <td>44</td>\n",
              "      <td>48</td>\n",
              "      <td>65</td>\n",
              "      <td>50</td>\n",
              "      <td>64</td>\n",
              "      <td>43</td>\n",
              "      <td>1</td>\n",
              "      <td>False</td>\n",
              "    </tr>\n",
              "    <tr>\n",
              "      <th>10</th>\n",
              "      <td>8</td>\n",
              "      <td>Wartortle</td>\n",
              "      <td>NaN</td>\n",
              "      <td>405</td>\n",
              "      <td>59</td>\n",
              "      <td>63</td>\n",
              "      <td>80</td>\n",
              "      <td>65</td>\n",
              "      <td>80</td>\n",
              "      <td>58</td>\n",
              "      <td>1</td>\n",
              "      <td>False</td>\n",
              "    </tr>\n",
              "    <tr>\n",
              "      <th>11</th>\n",
              "      <td>9</td>\n",
              "      <td>Blastoise</td>\n",
              "      <td>NaN</td>\n",
              "      <td>530</td>\n",
              "      <td>79</td>\n",
              "      <td>83</td>\n",
              "      <td>100</td>\n",
              "      <td>85</td>\n",
              "      <td>105</td>\n",
              "      <td>78</td>\n",
              "      <td>1</td>\n",
              "      <td>False</td>\n",
              "    </tr>\n",
              "    <tr>\n",
              "      <th>12</th>\n",
              "      <td>9</td>\n",
              "      <td>BlastoiseMega Blastoise</td>\n",
              "      <td>NaN</td>\n",
              "      <td>630</td>\n",
              "      <td>79</td>\n",
              "      <td>103</td>\n",
              "      <td>120</td>\n",
              "      <td>135</td>\n",
              "      <td>115</td>\n",
              "      <td>78</td>\n",
              "      <td>1</td>\n",
              "      <td>False</td>\n",
              "    </tr>\n",
              "    <tr>\n",
              "      <th>59</th>\n",
              "      <td>54</td>\n",
              "      <td>Psyduck</td>\n",
              "      <td>NaN</td>\n",
              "      <td>320</td>\n",
              "      <td>50</td>\n",
              "      <td>52</td>\n",
              "      <td>48</td>\n",
              "      <td>65</td>\n",
              "      <td>50</td>\n",
              "      <td>55</td>\n",
              "      <td>1</td>\n",
              "      <td>False</td>\n",
              "    </tr>\n",
              "  </tbody>\n",
              "</table>\n",
              "</div>"
            ],
            "text/plain": [
              "     #                     Name Type 2  ...  Speed  Generation  Legendary\n",
              "9    7                 Squirtle    NaN  ...     43           1      False\n",
              "10   8                Wartortle    NaN  ...     58           1      False\n",
              "11   9                Blastoise    NaN  ...     78           1      False\n",
              "12   9  BlastoiseMega Blastoise    NaN  ...     78           1      False\n",
              "59  54                  Psyduck    NaN  ...     55           1      False\n",
              "\n",
              "[5 rows x 12 columns]"
            ]
          },
          "metadata": {
            "tags": []
          },
          "execution_count": 28
        }
      ]
    },
    {
      "cell_type": "markdown",
      "metadata": {
        "id": "mxj3XtHEbdJv"
      },
      "source": [
        "3) ngroups"
      ]
    },
    {
      "cell_type": "markdown",
      "metadata": {
        "id": "obGY3E7ScYCF"
      },
      "source": [
        "return number of groups"
      ]
    },
    {
      "cell_type": "code",
      "metadata": {
        "colab": {
          "base_uri": "https://localhost:8080/"
        },
        "id": "upR6rILEbhqi",
        "outputId": "43c6c781-da0a-4de0-82ac-a1d168633157"
      },
      "source": [
        "gk.ngroups"
      ],
      "execution_count": 29,
      "outputs": [
        {
          "output_type": "execute_result",
          "data": {
            "text/plain": [
              "18"
            ]
          },
          "metadata": {
            "tags": []
          },
          "execution_count": 29
        }
      ]
    },
    {
      "cell_type": "markdown",
      "metadata": {
        "id": "No8XTqfGchyn"
      },
      "source": [
        "4)  groups"
      ]
    },
    {
      "cell_type": "markdown",
      "metadata": {
        "id": "cAT1mh59clyx"
      },
      "source": [
        "returns groupwise row number"
      ]
    },
    {
      "cell_type": "code",
      "metadata": {
        "colab": {
          "base_uri": "https://localhost:8080/"
        },
        "id": "anE0L7kocnex",
        "outputId": "4b5fa16d-f190-4696-bffd-90c2826b1c29"
      },
      "source": [
        "gk.groups"
      ],
      "execution_count": 30,
      "outputs": [
        {
          "output_type": "execute_result",
          "data": {
            "text/plain": [
              "{'Bug': [13, 14, 15, 16, 17, 18, 19, 51, 52, 53, 54, 132, 136, 137, 179, 180, 181, 182, 208, 219, 220, 228, 229, 230, 231, 232, 288, 289, 290, 291, 292, 307, 308, 314, 315, 316, 342, 343, 446, 447, 457, 458, 459, 460, 461, 462, 463, 520, 600, 601, 602, 603, 604, 605, 618, 619, 649, 650, 656, 657, 677, 678, 693, 697, 698, 717, 732, 733, 734], 'Dark': [212, 213, 233, 246, 247, 248, 284, 285, 326, 327, 392, 393, 478, 512, 549, 568, 569, 620, 621, 631, 632, 685, 686, 690, 691, 694, 695, 696, 756, 757, 793], 'Dragon': [159, 160, 161, 365, 366, 406, 407, 408, 409, 417, 418, 419, 420, 425, 426, 491, 492, 493, 494, 671, 672, 673, 682, 706, 707, 710, 711, 712, 774, 775, 776, 794], 'Electric': [30, 31, 88, 89, 108, 109, 134, 146, 157, 186, 193, 194, 195, 196, 258, 262, 337, 338, 339, 340, 341, 448, 449, 450, 464, 513, 517, 531, 532, 533, 534, 535, 536, 581, 582, 648, 663, 664, 665, 704, 705, 764, 765, 772], 'Fairy': [40, 41, 187, 189, 190, 225, 226, 519, 737, 738, 739, 752, 753, 754, 755, 770, 792], 'Fighting': [61, 62, 72, 73, 74, 114, 115, 255, 256, 320, 321, 334, 335, 336, 496, 497, 498, 592, 593, 594, 598, 599, 680, 681, 742, 743, 771], 'Fire': [4, 5, 6, 7, 8, 42, 43, 63, 64, 83, 84, 135, 147, 158, 169, 170, 171, 236, 237, 259, 263, 270, 276, 277, 278, 279, 352, 353, 354, 355, 435, 436, 437, 518, 542, 557, 558, 559, 572, 573, 614, 615, 616, 692, 721, 722, 723, 730, 731, 735, 736, 799], 'Flying': [702, 703, 790, 791], 'Ghost': [99, 100, 101, 102, 215, 385, 386, 387, 388, 389, 472, 473, 477, 490, 529, 544, 545, 623, 624, 668, 669, 670, 778, 779, 780, 781, 782, 783, 784, 785, 786, 787], 'Grass': [0, 1, 2, 3, 48, 49, 50, 75, 76, 77, 110, 111, 122, 166, 167, 168, 197, 202, 203, 204, 206, 207, 272, 273, 274, 275, 296, 297, 298, 309, 310, 344, 362, 363, 390, 432, 433, 434, 451, 452, 467, 468, 505, 509, 510, 511, 516, 521, 550, 551, 554, 555, 556, 570, 571, 606, 607, 608, 609, 617, 651, 652, 658, 659, 701, 718, 719, 720, 740, 741], 'Ground': [32, 33, 55, 56, 112, 113, 119, 120, 222, 250, 251, 359, 360, 361, 375, 376, 423, 424, 499, 500, 515, 523, 588, 589, 611, 612, 613, 679, 683, 684, 708, 709], 'Ice': [133, 156, 238, 239, 243, 257, 395, 396, 397, 398, 399, 400, 415, 522, 524, 530, 643, 644, 645, 674, 675, 676, 788, 789], 'Normal': [20, 21, 22, 23, 24, 25, 26, 27, 44, 45, 57, 58, 90, 91, 92, 116, 121, 123, 124, 138, 143, 144, 148, 155, 175, 176, 177, 178, 188, 205, 218, 221, 234, 235, 252, 253, 254, 260, 261, 286, 287, 299, 300, 311, 312, 313, 317, 318, 319, 322, 324, 325, 358, 364, 367, 383, 384, 441, 442, 443, 444, 445, 471, 474, 475, 476, 479, 480, 488, 489, 495, 514, 525, 543, 552, 563, 564, 565, 566, 567, 578, 579, 580, 590, 591, 633, 634, 646, 647, 687, 688, 689, 715, 716, 727, 728, 729, 744], 'Poison': [28, 29, 34, 35, 36, 37, 38, 39, 46, 47, 95, 96, 117, 118, 183, 345, 346, 368, 482, 483, 501, 502, 503, 504, 629, 630, 760, 761], 'Psychic': [68, 69, 70, 71, 104, 105, 131, 162, 163, 164, 165, 191, 192, 211, 216, 217, 269, 271, 303, 304, 305, 306, 356, 357, 391, 394, 428, 429, 430, 431, 481, 487, 526, 527, 537, 538, 539, 546, 553, 576, 577, 586, 587, 622, 635, 636, 637, 638, 639, 640, 666, 667, 745, 746, 747, 797, 798], 'Rock': [80, 81, 82, 103, 149, 150, 151, 152, 153, 154, 200, 265, 266, 267, 268, 323, 369, 370, 377, 378, 379, 380, 414, 453, 454, 455, 456, 486, 528, 583, 584, 585, 627, 628, 700, 758, 759, 766, 767, 768, 769, 773, 795, 796], 'Steel': [223, 224, 245, 328, 329, 330, 331, 332, 333, 410, 411, 412, 413, 416, 427, 484, 485, 540, 660, 661, 662, 699, 748, 749, 750, 751, 777], 'Water': [9, 10, 11, 12, 59, 60, 65, 66, 67, 78, 79, 85, 86, 87, 93, 94, 97, 98, 106, 107, 125, 126, 127, 128, 129, 130, 139, 140, 141, 142, 145, 172, 173, 174, 184, 185, 198, 199, 201, 209, 210, 214, 227, 240, 241, 242, 244, 249, 264, 280, 281, 282, 283, 293, 294, 295, 301, 302, 347, 348, 349, 350, 351, 371, 372, 373, 374, 381, 382, 401, 402, 403, 404, 405, 421, 422, 438, 439, 440, 465, 466, 469, 470, 506, 507, 508, 541, 547, 548, 560, 561, 562, 574, 575, 595, 596, 597, 610, 625, 626, ...]}"
            ]
          },
          "metadata": {
            "tags": []
          },
          "execution_count": 30
        }
      ]
    },
    {
      "cell_type": "markdown",
      "metadata": {
        "id": "bzGS0yRhznGJ"
      },
      "source": [
        "\n",
        "\n",
        "---\n",
        "\n"
      ]
    },
    {
      "cell_type": "markdown",
      "metadata": {
        "id": "aLkyyk4bctnS"
      },
      "source": [
        "5) size()"
      ]
    },
    {
      "cell_type": "markdown",
      "metadata": {
        "id": "nRC266MAcxXA"
      },
      "source": [
        "display group sizes"
      ]
    },
    {
      "cell_type": "code",
      "metadata": {
        "colab": {
          "base_uri": "https://localhost:8080/"
        },
        "id": "ZM2w4rWIcylz",
        "outputId": "1033a317-e17f-4300-ee6b-64fd1cefc3c0"
      },
      "source": [
        "gk.size()"
      ],
      "execution_count": 31,
      "outputs": [
        {
          "output_type": "execute_result",
          "data": {
            "text/plain": [
              "Type 1\n",
              "Bug          69\n",
              "Dark         31\n",
              "Dragon       32\n",
              "Electric     44\n",
              "Fairy        17\n",
              "Fighting     27\n",
              "Fire         52\n",
              "Flying        4\n",
              "Ghost        32\n",
              "Grass        70\n",
              "Ground       32\n",
              "Ice          24\n",
              "Normal       98\n",
              "Poison       28\n",
              "Psychic      57\n",
              "Rock         44\n",
              "Steel        27\n",
              "Water       112\n",
              "dtype: int64"
            ]
          },
          "metadata": {
            "tags": []
          },
          "execution_count": 31
        }
      ]
    },
    {
      "cell_type": "markdown",
      "metadata": {
        "id": "2-66peIInifJ"
      },
      "source": [
        "                                                         4.  COMBINING AND MERGING DATASETS"
      ]
    },
    {
      "cell_type": "markdown",
      "metadata": {
        "id": "19HCabkEs_ZN"
      },
      "source": [
        "a) Concatenating DataFrame"
      ]
    },
    {
      "cell_type": "markdown",
      "metadata": {
        "id": "ZKTxhrcayDkS"
      },
      "source": [
        "    1) using concat() only"
      ]
    },
    {
      "cell_type": "code",
      "metadata": {
        "id": "R_90I1srpt0V",
        "colab": {
          "base_uri": "https://localhost:8080/",
          "height": 300
        },
        "outputId": "8aa60335-bb61-4f5f-faf9-c1eb7aff90d2"
      },
      "source": [
        "#to concat a dataframe, we use .concat() function .this function concat a dataframe and returns a new dataframe.\n",
        "import pandas as pd \n",
        "data1 = {'Movie':['Ice Princess', 'The Princess Diaries', 'Monsters, Inc.', 'The Jungle Book 2'], \n",
        "        'Year':[2005, 2001, 2001, 2003], \n",
        "        'Genre':['Comedy','Comedy', 'Adventure', 'Adventure']} \n",
        "   \n",
        "# Define dictionary \n",
        "data2 = {'Movie':['Monsters University', 'Frozen', 'Thor: The Dark World', 'Into the Woods'], \n",
        "        'Year':[2013,2013, 2013,2014], \n",
        "        'Genre':['Adventure', 'Adventure', 'Adventure', 'Musical']} \n",
        "\n",
        " \n",
        "# Convert the dictionarys into DataFrames  \n",
        "df1= pd.DataFrame(data1,index=[0, 1, 2, 3])\n",
        "df2 = pd.DataFrame(data2, index=[4, 5, 6, 7])\n",
        "frames = [df1, df2]\n",
        "final_1 = pd.concat(frames)\n",
        "final_1\n"
      ],
      "execution_count": 32,
      "outputs": [
        {
          "output_type": "execute_result",
          "data": {
            "text/html": [
              "<div>\n",
              "<style scoped>\n",
              "    .dataframe tbody tr th:only-of-type {\n",
              "        vertical-align: middle;\n",
              "    }\n",
              "\n",
              "    .dataframe tbody tr th {\n",
              "        vertical-align: top;\n",
              "    }\n",
              "\n",
              "    .dataframe thead th {\n",
              "        text-align: right;\n",
              "    }\n",
              "</style>\n",
              "<table border=\"1\" class=\"dataframe\">\n",
              "  <thead>\n",
              "    <tr style=\"text-align: right;\">\n",
              "      <th></th>\n",
              "      <th>Movie</th>\n",
              "      <th>Year</th>\n",
              "      <th>Genre</th>\n",
              "    </tr>\n",
              "  </thead>\n",
              "  <tbody>\n",
              "    <tr>\n",
              "      <th>0</th>\n",
              "      <td>Ice Princess</td>\n",
              "      <td>2005</td>\n",
              "      <td>Comedy</td>\n",
              "    </tr>\n",
              "    <tr>\n",
              "      <th>1</th>\n",
              "      <td>The Princess Diaries</td>\n",
              "      <td>2001</td>\n",
              "      <td>Comedy</td>\n",
              "    </tr>\n",
              "    <tr>\n",
              "      <th>2</th>\n",
              "      <td>Monsters, Inc.</td>\n",
              "      <td>2001</td>\n",
              "      <td>Adventure</td>\n",
              "    </tr>\n",
              "    <tr>\n",
              "      <th>3</th>\n",
              "      <td>The Jungle Book 2</td>\n",
              "      <td>2003</td>\n",
              "      <td>Adventure</td>\n",
              "    </tr>\n",
              "    <tr>\n",
              "      <th>4</th>\n",
              "      <td>Monsters University</td>\n",
              "      <td>2013</td>\n",
              "      <td>Adventure</td>\n",
              "    </tr>\n",
              "    <tr>\n",
              "      <th>5</th>\n",
              "      <td>Frozen</td>\n",
              "      <td>2013</td>\n",
              "      <td>Adventure</td>\n",
              "    </tr>\n",
              "    <tr>\n",
              "      <th>6</th>\n",
              "      <td>Thor: The Dark World</td>\n",
              "      <td>2013</td>\n",
              "      <td>Adventure</td>\n",
              "    </tr>\n",
              "    <tr>\n",
              "      <th>7</th>\n",
              "      <td>Into the Woods</td>\n",
              "      <td>2014</td>\n",
              "      <td>Musical</td>\n",
              "    </tr>\n",
              "  </tbody>\n",
              "</table>\n",
              "</div>"
            ],
            "text/plain": [
              "                  Movie  Year      Genre\n",
              "0          Ice Princess  2005     Comedy\n",
              "1  The Princess Diaries  2001     Comedy\n",
              "2        Monsters, Inc.  2001  Adventure\n",
              "3     The Jungle Book 2  2003  Adventure\n",
              "4   Monsters University  2013  Adventure\n",
              "5                Frozen  2013  Adventure\n",
              "6  Thor: The Dark World  2013  Adventure\n",
              "7        Into the Woods  2014    Musical"
            ]
          },
          "metadata": {
            "tags": []
          },
          "execution_count": 32
        }
      ]
    },
    {
      "cell_type": "markdown",
      "metadata": {
        "id": "JLEoA0vlyPgK"
      },
      "source": [
        "    2)  Setting axis along with concat() to get intersection of dataframe"
      ]
    },
    {
      "cell_type": "code",
      "metadata": {
        "id": "HhvmV8cAsXq7",
        "colab": {
          "base_uri": "https://localhost:8080/",
          "height": 112
        },
        "outputId": "cb228152-6391-4726-a99f-f1377d5584ee"
      },
      "source": [
        "# set axes join = inner   to get the intersection of dataframe\n",
        "data3 = {'Movie':['Monsters, Inc.', 'The Jungle Book 2', 'Thor: The Dark World', 'Into the Woods'], \n",
        "        'Year':[2001, 2003, 2013,2014], \n",
        "        'Genre':['Adventure', 'Adventure', 'Adventure', 'Musical']} \n",
        "df3 = pd.DataFrame(data3,index=[2, 3, 6, 7]) \n",
        "#set axes join = inner for intersection of dataframe\n",
        "final_2 = pd.concat([df1, df3], axis=1, join='inner')\n",
        "final_2"
      ],
      "execution_count": 33,
      "outputs": [
        {
          "output_type": "execute_result",
          "data": {
            "text/html": [
              "<div>\n",
              "<style scoped>\n",
              "    .dataframe tbody tr th:only-of-type {\n",
              "        vertical-align: middle;\n",
              "    }\n",
              "\n",
              "    .dataframe tbody tr th {\n",
              "        vertical-align: top;\n",
              "    }\n",
              "\n",
              "    .dataframe thead th {\n",
              "        text-align: right;\n",
              "    }\n",
              "</style>\n",
              "<table border=\"1\" class=\"dataframe\">\n",
              "  <thead>\n",
              "    <tr style=\"text-align: right;\">\n",
              "      <th></th>\n",
              "      <th>Movie</th>\n",
              "      <th>Year</th>\n",
              "      <th>Genre</th>\n",
              "      <th>Movie</th>\n",
              "      <th>Year</th>\n",
              "      <th>Genre</th>\n",
              "    </tr>\n",
              "  </thead>\n",
              "  <tbody>\n",
              "    <tr>\n",
              "      <th>2</th>\n",
              "      <td>Monsters, Inc.</td>\n",
              "      <td>2001</td>\n",
              "      <td>Adventure</td>\n",
              "      <td>Monsters, Inc.</td>\n",
              "      <td>2001</td>\n",
              "      <td>Adventure</td>\n",
              "    </tr>\n",
              "    <tr>\n",
              "      <th>3</th>\n",
              "      <td>The Jungle Book 2</td>\n",
              "      <td>2003</td>\n",
              "      <td>Adventure</td>\n",
              "      <td>The Jungle Book 2</td>\n",
              "      <td>2003</td>\n",
              "      <td>Adventure</td>\n",
              "    </tr>\n",
              "  </tbody>\n",
              "</table>\n",
              "</div>"
            ],
            "text/plain": [
              "               Movie  Year      Genre              Movie  Year      Genre\n",
              "2     Monsters, Inc.  2001  Adventure     Monsters, Inc.  2001  Adventure\n",
              "3  The Jungle Book 2  2003  Adventure  The Jungle Book 2  2003  Adventure"
            ]
          },
          "metadata": {
            "tags": []
          },
          "execution_count": 33
        }
      ]
    },
    {
      "cell_type": "markdown",
      "metadata": {
        "id": "cuT6Ix1ZtOXk"
      },
      "source": [
        "b) Merging DataFrame"
      ]
    },
    {
      "cell_type": "markdown",
      "metadata": {
        "id": "XXqK-HjmdHQP"
      },
      "source": [
        "Merging two dataset can be done in dataframes with common column name\n",
        "and  with different column name"
      ]
    },
    {
      "cell_type": "markdown",
      "metadata": {
        "id": "wypfHPtYvs-2"
      },
      "source": [
        "    1)  Merge Two DataFrames on a Key"
      ]
    },
    {
      "cell_type": "code",
      "metadata": {
        "id": "yAlsRLv-uHxS",
        "colab": {
          "base_uri": "https://localhost:8080/",
          "height": 206
        },
        "outputId": "c23d6222-74c7-4215-da29-a46ae48b121d"
      },
      "source": [
        "# import the pandas library\n",
        "import pandas as pd\n",
        "left = pd.DataFrame({\n",
        "   'id':[1,2,3,4,5],\n",
        "   'Name': ['Bulbasaur', 'Wartortle', 'Flareon', 'Kakuna', 'Pikachu'],\n",
        "   'type':['Grass','Water','Fire','Bug','Electric']})\n",
        "right = pd.DataFrame(\n",
        "   {'id':[1,2,3,4,5],\n",
        "   'Name': ['Lapras', 'Magmar', 'Arbok', 'Beedrill', 'Raichu'],\n",
        "   'type':['Water','Fire','Poison','Bug','Electric']})\n",
        "pd.merge(left,right,on='id')"
      ],
      "execution_count": 34,
      "outputs": [
        {
          "output_type": "execute_result",
          "data": {
            "text/html": [
              "<div>\n",
              "<style scoped>\n",
              "    .dataframe tbody tr th:only-of-type {\n",
              "        vertical-align: middle;\n",
              "    }\n",
              "\n",
              "    .dataframe tbody tr th {\n",
              "        vertical-align: top;\n",
              "    }\n",
              "\n",
              "    .dataframe thead th {\n",
              "        text-align: right;\n",
              "    }\n",
              "</style>\n",
              "<table border=\"1\" class=\"dataframe\">\n",
              "  <thead>\n",
              "    <tr style=\"text-align: right;\">\n",
              "      <th></th>\n",
              "      <th>id</th>\n",
              "      <th>Name_x</th>\n",
              "      <th>type_x</th>\n",
              "      <th>Name_y</th>\n",
              "      <th>type_y</th>\n",
              "    </tr>\n",
              "  </thead>\n",
              "  <tbody>\n",
              "    <tr>\n",
              "      <th>0</th>\n",
              "      <td>1</td>\n",
              "      <td>Bulbasaur</td>\n",
              "      <td>Grass</td>\n",
              "      <td>Lapras</td>\n",
              "      <td>Water</td>\n",
              "    </tr>\n",
              "    <tr>\n",
              "      <th>1</th>\n",
              "      <td>2</td>\n",
              "      <td>Wartortle</td>\n",
              "      <td>Water</td>\n",
              "      <td>Magmar</td>\n",
              "      <td>Fire</td>\n",
              "    </tr>\n",
              "    <tr>\n",
              "      <th>2</th>\n",
              "      <td>3</td>\n",
              "      <td>Flareon</td>\n",
              "      <td>Fire</td>\n",
              "      <td>Arbok</td>\n",
              "      <td>Poison</td>\n",
              "    </tr>\n",
              "    <tr>\n",
              "      <th>3</th>\n",
              "      <td>4</td>\n",
              "      <td>Kakuna</td>\n",
              "      <td>Bug</td>\n",
              "      <td>Beedrill</td>\n",
              "      <td>Bug</td>\n",
              "    </tr>\n",
              "    <tr>\n",
              "      <th>4</th>\n",
              "      <td>5</td>\n",
              "      <td>Pikachu</td>\n",
              "      <td>Electric</td>\n",
              "      <td>Raichu</td>\n",
              "      <td>Electric</td>\n",
              "    </tr>\n",
              "  </tbody>\n",
              "</table>\n",
              "</div>"
            ],
            "text/plain": [
              "   id     Name_x    type_x    Name_y    type_y\n",
              "0   1  Bulbasaur     Grass    Lapras     Water\n",
              "1   2  Wartortle     Water    Magmar      Fire\n",
              "2   3    Flareon      Fire     Arbok    Poison\n",
              "3   4     Kakuna       Bug  Beedrill       Bug\n",
              "4   5    Pikachu  Electric    Raichu  Electric"
            ]
          },
          "metadata": {
            "tags": []
          },
          "execution_count": 34
        }
      ]
    },
    {
      "cell_type": "markdown",
      "metadata": {
        "id": "i4UBHVzyv0ow"
      },
      "source": [
        "    2)  Merge Two DataFrames on Multiple Keys"
      ]
    },
    {
      "cell_type": "code",
      "metadata": {
        "id": "NeDTHgduv_Ys",
        "colab": {
          "base_uri": "https://localhost:8080/",
          "height": 112
        },
        "outputId": "89e28b9c-9520-445c-cf3e-429db634e09e"
      },
      "source": [
        "import pandas as pd\n",
        "left = pd.DataFrame({\n",
        "   'id':[1,2,3,4,5],\n",
        "   'Name': ['Bulbasaur', 'Wartortle', 'Flareon', 'Kakuna', 'Pikachu'],\n",
        "   'type':['Grass','Water','Fire','Bug','Electric']})\n",
        "right = pd.DataFrame(\n",
        "   {'id':[1,2,3,4,5],\n",
        "   'Name': ['Lapras', 'Magmar', 'Arbok', 'Beedrill', 'Raichu'],\n",
        "   'type':['Water','Fire','Poison','Bug','Electric']})\n",
        "pd.merge(left,right,on=['id','type'])"
      ],
      "execution_count": 35,
      "outputs": [
        {
          "output_type": "execute_result",
          "data": {
            "text/html": [
              "<div>\n",
              "<style scoped>\n",
              "    .dataframe tbody tr th:only-of-type {\n",
              "        vertical-align: middle;\n",
              "    }\n",
              "\n",
              "    .dataframe tbody tr th {\n",
              "        vertical-align: top;\n",
              "    }\n",
              "\n",
              "    .dataframe thead th {\n",
              "        text-align: right;\n",
              "    }\n",
              "</style>\n",
              "<table border=\"1\" class=\"dataframe\">\n",
              "  <thead>\n",
              "    <tr style=\"text-align: right;\">\n",
              "      <th></th>\n",
              "      <th>id</th>\n",
              "      <th>Name_x</th>\n",
              "      <th>type</th>\n",
              "      <th>Name_y</th>\n",
              "    </tr>\n",
              "  </thead>\n",
              "  <tbody>\n",
              "    <tr>\n",
              "      <th>0</th>\n",
              "      <td>4</td>\n",
              "      <td>Kakuna</td>\n",
              "      <td>Bug</td>\n",
              "      <td>Beedrill</td>\n",
              "    </tr>\n",
              "    <tr>\n",
              "      <th>1</th>\n",
              "      <td>5</td>\n",
              "      <td>Pikachu</td>\n",
              "      <td>Electric</td>\n",
              "      <td>Raichu</td>\n",
              "    </tr>\n",
              "  </tbody>\n",
              "</table>\n",
              "</div>"
            ],
            "text/plain": [
              "   id   Name_x      type    Name_y\n",
              "0   4   Kakuna       Bug  Beedrill\n",
              "1   5  Pikachu  Electric    Raichu"
            ]
          },
          "metadata": {
            "tags": []
          },
          "execution_count": 35
        }
      ]
    },
    {
      "cell_type": "markdown",
      "metadata": {
        "id": "UdPh7Aj0whO6"
      },
      "source": [
        "    3)  Merge Using 'how' Argument \n"
      ]
    },
    {
      "cell_type": "code",
      "metadata": {
        "id": "OkyYE1DUw0Tc",
        "colab": {
          "base_uri": "https://localhost:8080/",
          "height": 206
        },
        "outputId": "affbd3be-df87-4f9f-9470-1e6bb20b71d1"
      },
      "source": [
        "#left join\n",
        "pd.merge(left, right, on='type', how='left')"
      ],
      "execution_count": 36,
      "outputs": [
        {
          "output_type": "execute_result",
          "data": {
            "text/html": [
              "<div>\n",
              "<style scoped>\n",
              "    .dataframe tbody tr th:only-of-type {\n",
              "        vertical-align: middle;\n",
              "    }\n",
              "\n",
              "    .dataframe tbody tr th {\n",
              "        vertical-align: top;\n",
              "    }\n",
              "\n",
              "    .dataframe thead th {\n",
              "        text-align: right;\n",
              "    }\n",
              "</style>\n",
              "<table border=\"1\" class=\"dataframe\">\n",
              "  <thead>\n",
              "    <tr style=\"text-align: right;\">\n",
              "      <th></th>\n",
              "      <th>id_x</th>\n",
              "      <th>Name_x</th>\n",
              "      <th>type</th>\n",
              "      <th>id_y</th>\n",
              "      <th>Name_y</th>\n",
              "    </tr>\n",
              "  </thead>\n",
              "  <tbody>\n",
              "    <tr>\n",
              "      <th>0</th>\n",
              "      <td>1</td>\n",
              "      <td>Bulbasaur</td>\n",
              "      <td>Grass</td>\n",
              "      <td>NaN</td>\n",
              "      <td>NaN</td>\n",
              "    </tr>\n",
              "    <tr>\n",
              "      <th>1</th>\n",
              "      <td>2</td>\n",
              "      <td>Wartortle</td>\n",
              "      <td>Water</td>\n",
              "      <td>1.0</td>\n",
              "      <td>Lapras</td>\n",
              "    </tr>\n",
              "    <tr>\n",
              "      <th>2</th>\n",
              "      <td>3</td>\n",
              "      <td>Flareon</td>\n",
              "      <td>Fire</td>\n",
              "      <td>2.0</td>\n",
              "      <td>Magmar</td>\n",
              "    </tr>\n",
              "    <tr>\n",
              "      <th>3</th>\n",
              "      <td>4</td>\n",
              "      <td>Kakuna</td>\n",
              "      <td>Bug</td>\n",
              "      <td>4.0</td>\n",
              "      <td>Beedrill</td>\n",
              "    </tr>\n",
              "    <tr>\n",
              "      <th>4</th>\n",
              "      <td>5</td>\n",
              "      <td>Pikachu</td>\n",
              "      <td>Electric</td>\n",
              "      <td>5.0</td>\n",
              "      <td>Raichu</td>\n",
              "    </tr>\n",
              "  </tbody>\n",
              "</table>\n",
              "</div>"
            ],
            "text/plain": [
              "   id_x     Name_x      type  id_y    Name_y\n",
              "0     1  Bulbasaur     Grass   NaN       NaN\n",
              "1     2  Wartortle     Water   1.0    Lapras\n",
              "2     3    Flareon      Fire   2.0    Magmar\n",
              "3     4     Kakuna       Bug   4.0  Beedrill\n",
              "4     5    Pikachu  Electric   5.0    Raichu"
            ]
          },
          "metadata": {
            "tags": []
          },
          "execution_count": 36
        }
      ]
    },
    {
      "cell_type": "code",
      "metadata": {
        "id": "m-46Gg_gxZqn",
        "colab": {
          "base_uri": "https://localhost:8080/",
          "height": 206
        },
        "outputId": "654b7195-3649-4506-f7d5-20d7bb91caa1"
      },
      "source": [
        "#right join\n",
        "pd.merge(left, right, on='type', how='right')"
      ],
      "execution_count": 37,
      "outputs": [
        {
          "output_type": "execute_result",
          "data": {
            "text/html": [
              "<div>\n",
              "<style scoped>\n",
              "    .dataframe tbody tr th:only-of-type {\n",
              "        vertical-align: middle;\n",
              "    }\n",
              "\n",
              "    .dataframe tbody tr th {\n",
              "        vertical-align: top;\n",
              "    }\n",
              "\n",
              "    .dataframe thead th {\n",
              "        text-align: right;\n",
              "    }\n",
              "</style>\n",
              "<table border=\"1\" class=\"dataframe\">\n",
              "  <thead>\n",
              "    <tr style=\"text-align: right;\">\n",
              "      <th></th>\n",
              "      <th>id_x</th>\n",
              "      <th>Name_x</th>\n",
              "      <th>type</th>\n",
              "      <th>id_y</th>\n",
              "      <th>Name_y</th>\n",
              "    </tr>\n",
              "  </thead>\n",
              "  <tbody>\n",
              "    <tr>\n",
              "      <th>0</th>\n",
              "      <td>2.0</td>\n",
              "      <td>Wartortle</td>\n",
              "      <td>Water</td>\n",
              "      <td>1</td>\n",
              "      <td>Lapras</td>\n",
              "    </tr>\n",
              "    <tr>\n",
              "      <th>1</th>\n",
              "      <td>3.0</td>\n",
              "      <td>Flareon</td>\n",
              "      <td>Fire</td>\n",
              "      <td>2</td>\n",
              "      <td>Magmar</td>\n",
              "    </tr>\n",
              "    <tr>\n",
              "      <th>2</th>\n",
              "      <td>NaN</td>\n",
              "      <td>NaN</td>\n",
              "      <td>Poison</td>\n",
              "      <td>3</td>\n",
              "      <td>Arbok</td>\n",
              "    </tr>\n",
              "    <tr>\n",
              "      <th>3</th>\n",
              "      <td>4.0</td>\n",
              "      <td>Kakuna</td>\n",
              "      <td>Bug</td>\n",
              "      <td>4</td>\n",
              "      <td>Beedrill</td>\n",
              "    </tr>\n",
              "    <tr>\n",
              "      <th>4</th>\n",
              "      <td>5.0</td>\n",
              "      <td>Pikachu</td>\n",
              "      <td>Electric</td>\n",
              "      <td>5</td>\n",
              "      <td>Raichu</td>\n",
              "    </tr>\n",
              "  </tbody>\n",
              "</table>\n",
              "</div>"
            ],
            "text/plain": [
              "   id_x     Name_x      type  id_y    Name_y\n",
              "0   2.0  Wartortle     Water     1    Lapras\n",
              "1   3.0    Flareon      Fire     2    Magmar\n",
              "2   NaN        NaN    Poison     3     Arbok\n",
              "3   4.0     Kakuna       Bug     4  Beedrill\n",
              "4   5.0    Pikachu  Electric     5    Raichu"
            ]
          },
          "metadata": {
            "tags": []
          },
          "execution_count": 37
        }
      ]
    },
    {
      "cell_type": "code",
      "metadata": {
        "id": "sFY2IoxoxqNe",
        "colab": {
          "base_uri": "https://localhost:8080/",
          "height": 237
        },
        "outputId": "0e0517b9-93b5-4247-d71a-e9f789fb68d7"
      },
      "source": [
        "#outer join\n",
        "pd.merge(left, right, on='type', how='outer')"
      ],
      "execution_count": 38,
      "outputs": [
        {
          "output_type": "execute_result",
          "data": {
            "text/html": [
              "<div>\n",
              "<style scoped>\n",
              "    .dataframe tbody tr th:only-of-type {\n",
              "        vertical-align: middle;\n",
              "    }\n",
              "\n",
              "    .dataframe tbody tr th {\n",
              "        vertical-align: top;\n",
              "    }\n",
              "\n",
              "    .dataframe thead th {\n",
              "        text-align: right;\n",
              "    }\n",
              "</style>\n",
              "<table border=\"1\" class=\"dataframe\">\n",
              "  <thead>\n",
              "    <tr style=\"text-align: right;\">\n",
              "      <th></th>\n",
              "      <th>id_x</th>\n",
              "      <th>Name_x</th>\n",
              "      <th>type</th>\n",
              "      <th>id_y</th>\n",
              "      <th>Name_y</th>\n",
              "    </tr>\n",
              "  </thead>\n",
              "  <tbody>\n",
              "    <tr>\n",
              "      <th>0</th>\n",
              "      <td>1.0</td>\n",
              "      <td>Bulbasaur</td>\n",
              "      <td>Grass</td>\n",
              "      <td>NaN</td>\n",
              "      <td>NaN</td>\n",
              "    </tr>\n",
              "    <tr>\n",
              "      <th>1</th>\n",
              "      <td>2.0</td>\n",
              "      <td>Wartortle</td>\n",
              "      <td>Water</td>\n",
              "      <td>1.0</td>\n",
              "      <td>Lapras</td>\n",
              "    </tr>\n",
              "    <tr>\n",
              "      <th>2</th>\n",
              "      <td>3.0</td>\n",
              "      <td>Flareon</td>\n",
              "      <td>Fire</td>\n",
              "      <td>2.0</td>\n",
              "      <td>Magmar</td>\n",
              "    </tr>\n",
              "    <tr>\n",
              "      <th>3</th>\n",
              "      <td>4.0</td>\n",
              "      <td>Kakuna</td>\n",
              "      <td>Bug</td>\n",
              "      <td>4.0</td>\n",
              "      <td>Beedrill</td>\n",
              "    </tr>\n",
              "    <tr>\n",
              "      <th>4</th>\n",
              "      <td>5.0</td>\n",
              "      <td>Pikachu</td>\n",
              "      <td>Electric</td>\n",
              "      <td>5.0</td>\n",
              "      <td>Raichu</td>\n",
              "    </tr>\n",
              "    <tr>\n",
              "      <th>5</th>\n",
              "      <td>NaN</td>\n",
              "      <td>NaN</td>\n",
              "      <td>Poison</td>\n",
              "      <td>3.0</td>\n",
              "      <td>Arbok</td>\n",
              "    </tr>\n",
              "  </tbody>\n",
              "</table>\n",
              "</div>"
            ],
            "text/plain": [
              "   id_x     Name_x      type  id_y    Name_y\n",
              "0   1.0  Bulbasaur     Grass   NaN       NaN\n",
              "1   2.0  Wartortle     Water   1.0    Lapras\n",
              "2   3.0    Flareon      Fire   2.0    Magmar\n",
              "3   4.0     Kakuna       Bug   4.0  Beedrill\n",
              "4   5.0    Pikachu  Electric   5.0    Raichu\n",
              "5   NaN        NaN    Poison   3.0     Arbok"
            ]
          },
          "metadata": {
            "tags": []
          },
          "execution_count": 38
        }
      ]
    },
    {
      "cell_type": "code",
      "metadata": {
        "id": "zSue4W5Xxyew",
        "colab": {
          "base_uri": "https://localhost:8080/",
          "height": 175
        },
        "outputId": "1fbd2d70-d4bf-4c7f-ba06-fee71f131555"
      },
      "source": [
        "#inner join\n",
        "pd.merge(left, right, on='type', how='inner')"
      ],
      "execution_count": 39,
      "outputs": [
        {
          "output_type": "execute_result",
          "data": {
            "text/html": [
              "<div>\n",
              "<style scoped>\n",
              "    .dataframe tbody tr th:only-of-type {\n",
              "        vertical-align: middle;\n",
              "    }\n",
              "\n",
              "    .dataframe tbody tr th {\n",
              "        vertical-align: top;\n",
              "    }\n",
              "\n",
              "    .dataframe thead th {\n",
              "        text-align: right;\n",
              "    }\n",
              "</style>\n",
              "<table border=\"1\" class=\"dataframe\">\n",
              "  <thead>\n",
              "    <tr style=\"text-align: right;\">\n",
              "      <th></th>\n",
              "      <th>id_x</th>\n",
              "      <th>Name_x</th>\n",
              "      <th>type</th>\n",
              "      <th>id_y</th>\n",
              "      <th>Name_y</th>\n",
              "    </tr>\n",
              "  </thead>\n",
              "  <tbody>\n",
              "    <tr>\n",
              "      <th>0</th>\n",
              "      <td>2</td>\n",
              "      <td>Wartortle</td>\n",
              "      <td>Water</td>\n",
              "      <td>1</td>\n",
              "      <td>Lapras</td>\n",
              "    </tr>\n",
              "    <tr>\n",
              "      <th>1</th>\n",
              "      <td>3</td>\n",
              "      <td>Flareon</td>\n",
              "      <td>Fire</td>\n",
              "      <td>2</td>\n",
              "      <td>Magmar</td>\n",
              "    </tr>\n",
              "    <tr>\n",
              "      <th>2</th>\n",
              "      <td>4</td>\n",
              "      <td>Kakuna</td>\n",
              "      <td>Bug</td>\n",
              "      <td>4</td>\n",
              "      <td>Beedrill</td>\n",
              "    </tr>\n",
              "    <tr>\n",
              "      <th>3</th>\n",
              "      <td>5</td>\n",
              "      <td>Pikachu</td>\n",
              "      <td>Electric</td>\n",
              "      <td>5</td>\n",
              "      <td>Raichu</td>\n",
              "    </tr>\n",
              "  </tbody>\n",
              "</table>\n",
              "</div>"
            ],
            "text/plain": [
              "   id_x     Name_x      type  id_y    Name_y\n",
              "0     2  Wartortle     Water     1    Lapras\n",
              "1     3    Flareon      Fire     2    Magmar\n",
              "2     4     Kakuna       Bug     4  Beedrill\n",
              "3     5    Pikachu  Electric     5    Raichu"
            ]
          },
          "metadata": {
            "tags": []
          },
          "execution_count": 39
        }
      ]
    },
    {
      "cell_type": "markdown",
      "metadata": {
        "id": "MWZefKV0zQEl"
      },
      "source": [
        "3)  Join\n",
        "  \n",
        "   Both join and merge can be used to combines two dataframes but the join method combines two dataframes on the basis of their indexes whereas the merge method is more versatile and allows us to specify columns beside the index to join on for both dataframes."
      ]
    },
    {
      "cell_type": "code",
      "metadata": {
        "colab": {
          "base_uri": "https://localhost:8080/",
          "height": 206
        },
        "id": "pCySA4ftdmaS",
        "outputId": "54a44734-07a4-4edf-c39b-dc3a489aecc2"
      },
      "source": [
        "left = pd.DataFrame({\n",
        "   'id':[1,2,3,4,5],\n",
        "   'Name': ['Bulbasaur', 'Wartortle', 'Flareon', 'Kakuna', 'Pikachu'],\n",
        "   'type':['Grass','Water','Fire','Bug','Electric']})\n",
        "right = pd.DataFrame(\n",
        "   {'id':[1,2,3,4,5],\n",
        "   'Name': ['Lapras', 'Magmar', 'Arbok', 'Beedrill', 'Raichu'],\n",
        "   'type':['Water','Fire','Poison','Bug','Electric']})\n",
        "left.join(right,lsuffix = '_l',rsuffix = '_r')"
      ],
      "execution_count": 40,
      "outputs": [
        {
          "output_type": "execute_result",
          "data": {
            "text/html": [
              "<div>\n",
              "<style scoped>\n",
              "    .dataframe tbody tr th:only-of-type {\n",
              "        vertical-align: middle;\n",
              "    }\n",
              "\n",
              "    .dataframe tbody tr th {\n",
              "        vertical-align: top;\n",
              "    }\n",
              "\n",
              "    .dataframe thead th {\n",
              "        text-align: right;\n",
              "    }\n",
              "</style>\n",
              "<table border=\"1\" class=\"dataframe\">\n",
              "  <thead>\n",
              "    <tr style=\"text-align: right;\">\n",
              "      <th></th>\n",
              "      <th>id_l</th>\n",
              "      <th>Name_l</th>\n",
              "      <th>type_l</th>\n",
              "      <th>id_r</th>\n",
              "      <th>Name_r</th>\n",
              "      <th>type_r</th>\n",
              "    </tr>\n",
              "  </thead>\n",
              "  <tbody>\n",
              "    <tr>\n",
              "      <th>0</th>\n",
              "      <td>1</td>\n",
              "      <td>Bulbasaur</td>\n",
              "      <td>Grass</td>\n",
              "      <td>1</td>\n",
              "      <td>Lapras</td>\n",
              "      <td>Water</td>\n",
              "    </tr>\n",
              "    <tr>\n",
              "      <th>1</th>\n",
              "      <td>2</td>\n",
              "      <td>Wartortle</td>\n",
              "      <td>Water</td>\n",
              "      <td>2</td>\n",
              "      <td>Magmar</td>\n",
              "      <td>Fire</td>\n",
              "    </tr>\n",
              "    <tr>\n",
              "      <th>2</th>\n",
              "      <td>3</td>\n",
              "      <td>Flareon</td>\n",
              "      <td>Fire</td>\n",
              "      <td>3</td>\n",
              "      <td>Arbok</td>\n",
              "      <td>Poison</td>\n",
              "    </tr>\n",
              "    <tr>\n",
              "      <th>3</th>\n",
              "      <td>4</td>\n",
              "      <td>Kakuna</td>\n",
              "      <td>Bug</td>\n",
              "      <td>4</td>\n",
              "      <td>Beedrill</td>\n",
              "      <td>Bug</td>\n",
              "    </tr>\n",
              "    <tr>\n",
              "      <th>4</th>\n",
              "      <td>5</td>\n",
              "      <td>Pikachu</td>\n",
              "      <td>Electric</td>\n",
              "      <td>5</td>\n",
              "      <td>Raichu</td>\n",
              "      <td>Electric</td>\n",
              "    </tr>\n",
              "  </tbody>\n",
              "</table>\n",
              "</div>"
            ],
            "text/plain": [
              "   id_l     Name_l    type_l  id_r    Name_r    type_r\n",
              "0     1  Bulbasaur     Grass     1    Lapras     Water\n",
              "1     2  Wartortle     Water     2    Magmar      Fire\n",
              "2     3    Flareon      Fire     3     Arbok    Poison\n",
              "3     4     Kakuna       Bug     4  Beedrill       Bug\n",
              "4     5    Pikachu  Electric     5    Raichu  Electric"
            ]
          },
          "metadata": {
            "tags": []
          },
          "execution_count": 40
        }
      ]
    },
    {
      "cell_type": "markdown",
      "metadata": {
        "id": "F0aT_6Qszuno"
      },
      "source": [
        "\n",
        "\n",
        "---\n",
        "\n"
      ]
    },
    {
      "cell_type": "markdown",
      "metadata": {
        "id": "OP_Nqyir4Yzb"
      },
      "source": [
        "                                                         5. TYPES  OF INDEXING IN DATA FRAME"
      ]
    },
    {
      "cell_type": "markdown",
      "metadata": {
        "id": "HeAGP9m94yoG"
      },
      "source": [
        "Indexing in pandas means simply selecting particular rows and columns of data from a DataFrame.Indexing can also be known as Subset Selection."
      ]
    },
    {
      "cell_type": "markdown",
      "metadata": {
        "id": "9HKnStXL-9Cf"
      },
      "source": [
        "    1)  Indexing a Dataframe using indexing operator [] :"
      ]
    },
    {
      "cell_type": "code",
      "metadata": {
        "id": "rcsqtNsM5ozw",
        "colab": {
          "base_uri": "https://localhost:8080/"
        },
        "outputId": "46e0a0ab-05a1-461a-e0b2-a609bd96e814"
      },
      "source": [
        "# retrieving columns by indexing operator\n",
        "first = pokemon_df[\"Name\"]\n",
        "first.head(7)\n",
        " "
      ],
      "execution_count": 41,
      "outputs": [
        {
          "output_type": "execute_result",
          "data": {
            "text/plain": [
              "0                Bulbasaur\n",
              "1                  Ivysaur\n",
              "2                 Venusaur\n",
              "3    VenusaurMega Venusaur\n",
              "4               Charmander\n",
              "5               Charmeleon\n",
              "6                Charizard\n",
              "Name: Name, dtype: object"
            ]
          },
          "metadata": {
            "tags": []
          },
          "execution_count": 41
        }
      ]
    },
    {
      "cell_type": "code",
      "metadata": {
        "id": "R2eAes1v9x6I",
        "colab": {
          "base_uri": "https://localhost:8080/",
          "height": 237
        },
        "outputId": "90823156-7015-4cfe-b3ce-2488f166012c"
      },
      "source": [
        "#In order to select multiple columns, we have to pass a list of columns in an indexing operator.\n",
        "first = pokemon_df[[\"Attack\", \"Speed\"]]\n",
        "first.sample(6)"
      ],
      "execution_count": 52,
      "outputs": [
        {
          "output_type": "execute_result",
          "data": {
            "text/html": [
              "<div>\n",
              "<style scoped>\n",
              "    .dataframe tbody tr th:only-of-type {\n",
              "        vertical-align: middle;\n",
              "    }\n",
              "\n",
              "    .dataframe tbody tr th {\n",
              "        vertical-align: top;\n",
              "    }\n",
              "\n",
              "    .dataframe thead th {\n",
              "        text-align: right;\n",
              "    }\n",
              "</style>\n",
              "<table border=\"1\" class=\"dataframe\">\n",
              "  <thead>\n",
              "    <tr style=\"text-align: right;\">\n",
              "      <th></th>\n",
              "      <th>Attack</th>\n",
              "      <th>Speed</th>\n",
              "    </tr>\n",
              "  </thead>\n",
              "  <tbody>\n",
              "    <tr>\n",
              "      <th>618</th>\n",
              "      <td>65</td>\n",
              "      <td>55</td>\n",
              "    </tr>\n",
              "    <tr>\n",
              "      <th>457</th>\n",
              "      <td>29</td>\n",
              "      <td>36</td>\n",
              "    </tr>\n",
              "    <tr>\n",
              "      <th>276</th>\n",
              "      <td>60</td>\n",
              "      <td>45</td>\n",
              "    </tr>\n",
              "    <tr>\n",
              "      <th>584</th>\n",
              "      <td>105</td>\n",
              "      <td>20</td>\n",
              "    </tr>\n",
              "    <tr>\n",
              "      <th>441</th>\n",
              "      <td>55</td>\n",
              "      <td>60</td>\n",
              "    </tr>\n",
              "    <tr>\n",
              "      <th>463</th>\n",
              "      <td>80</td>\n",
              "      <td>40</td>\n",
              "    </tr>\n",
              "  </tbody>\n",
              "</table>\n",
              "</div>"
            ],
            "text/plain": [
              "     Attack  Speed\n",
              "618      65     55\n",
              "457      29     36\n",
              "276      60     45\n",
              "584     105     20\n",
              "441      55     60\n",
              "463      80     40"
            ]
          },
          "metadata": {
            "tags": []
          },
          "execution_count": 52
        }
      ]
    },
    {
      "cell_type": "markdown",
      "metadata": {
        "id": "y5B7TTOT_Anw"
      },
      "source": [
        "    2) indexing a DataFrame using .loc[ ] :"
      ]
    },
    {
      "cell_type": "code",
      "metadata": {
        "id": "eOhJ-yBe_XO4",
        "colab": {
          "base_uri": "https://localhost:8080/"
        },
        "outputId": "d6219152-50d7-403a-b338-f14af2b4db1b"
      },
      "source": [
        "#In order to select a single row using .loc[], we put a single row label in a .loc function.\n",
        "path='https://raw.githubusercontent.com/shruthi-jay/pandas/main/Pokemon.csv'\n",
        "pokemon_d = pd.read_csv(path,sep = ',', header = 'infer',index_col =\"Name\", usecols = ['Name','Type 1','Attack','Defense','Speed'])\n",
        "first = pokemon_d.loc[\"Pikachu\"]\n",
        "second = pokemon_d.loc[\"Rattata\"]\n",
        "print(first,\"\\n-----------------------------\\n\",second)"
      ],
      "execution_count": 43,
      "outputs": [
        {
          "output_type": "stream",
          "text": [
            "Type 1     Electric\n",
            "Attack           55\n",
            "Defense          40\n",
            "Speed            90\n",
            "Name: Pikachu, dtype: object \n",
            "-----------------------------\n",
            " Type 1     Normal\n",
            "Attack         56\n",
            "Defense        35\n",
            "Speed          72\n",
            "Name: Rattata, dtype: object\n"
          ],
          "name": "stdout"
        }
      ]
    },
    {
      "cell_type": "code",
      "metadata": {
        "id": "-RndXJzv_oTv",
        "colab": {
          "base_uri": "https://localhost:8080/"
        },
        "outputId": "f7551e38-fdb3-4c2c-96aa-b38a15ec00d2"
      },
      "source": [
        "#In order to select multiple rows, we put all the row labels in a list and pass that to .loc function.\n",
        "# retrieving multiple rows by loc method\n",
        "first = pokemon_d.loc[[\"Squirtle\", \"Kakuna\"]]\n",
        "print(first)"
      ],
      "execution_count": 44,
      "outputs": [
        {
          "output_type": "stream",
          "text": [
            "         Type 1  Attack  Defense  Speed\n",
            "Name                                   \n",
            "Squirtle  Water      48       65     43\n",
            "Kakuna      Bug      25       50     35\n"
          ],
          "name": "stdout"
        }
      ]
    },
    {
      "cell_type": "code",
      "metadata": {
        "id": "6jHVf_zBAnGW",
        "colab": {
          "base_uri": "https://localhost:8080/",
          "height": 206
        },
        "outputId": "e9c9e45b-d10e-4d1d-cfb6-e6b7ae2dd140"
      },
      "source": [
        "# retrieving all rows and some columns by loc method\n",
        "first = pokemon_df.loc[:, [\"Name\", \"Attack\"]]\n",
        "first.head(5)"
      ],
      "execution_count": 45,
      "outputs": [
        {
          "output_type": "execute_result",
          "data": {
            "text/html": [
              "<div>\n",
              "<style scoped>\n",
              "    .dataframe tbody tr th:only-of-type {\n",
              "        vertical-align: middle;\n",
              "    }\n",
              "\n",
              "    .dataframe tbody tr th {\n",
              "        vertical-align: top;\n",
              "    }\n",
              "\n",
              "    .dataframe thead th {\n",
              "        text-align: right;\n",
              "    }\n",
              "</style>\n",
              "<table border=\"1\" class=\"dataframe\">\n",
              "  <thead>\n",
              "    <tr style=\"text-align: right;\">\n",
              "      <th></th>\n",
              "      <th>Name</th>\n",
              "      <th>Attack</th>\n",
              "    </tr>\n",
              "  </thead>\n",
              "  <tbody>\n",
              "    <tr>\n",
              "      <th>0</th>\n",
              "      <td>Bulbasaur</td>\n",
              "      <td>49</td>\n",
              "    </tr>\n",
              "    <tr>\n",
              "      <th>1</th>\n",
              "      <td>Ivysaur</td>\n",
              "      <td>62</td>\n",
              "    </tr>\n",
              "    <tr>\n",
              "      <th>2</th>\n",
              "      <td>Venusaur</td>\n",
              "      <td>82</td>\n",
              "    </tr>\n",
              "    <tr>\n",
              "      <th>3</th>\n",
              "      <td>VenusaurMega Venusaur</td>\n",
              "      <td>100</td>\n",
              "    </tr>\n",
              "    <tr>\n",
              "      <th>4</th>\n",
              "      <td>Charmander</td>\n",
              "      <td>52</td>\n",
              "    </tr>\n",
              "  </tbody>\n",
              "</table>\n",
              "</div>"
            ],
            "text/plain": [
              "                    Name  Attack\n",
              "0              Bulbasaur      49\n",
              "1                Ivysaur      62\n",
              "2               Venusaur      82\n",
              "3  VenusaurMega Venusaur     100\n",
              "4             Charmander      52"
            ]
          },
          "metadata": {
            "tags": []
          },
          "execution_count": 45
        }
      ]
    },
    {
      "cell_type": "markdown",
      "metadata": {
        "id": "66jjmkwWCB_9"
      },
      "source": [
        "    3)  Indexing a DataFrame using .iloc[ ] :"
      ]
    },
    {
      "cell_type": "code",
      "metadata": {
        "id": "1iVulRr6CLbh",
        "colab": {
          "base_uri": "https://localhost:8080/"
        },
        "outputId": "05594ba0-8700-4c69-cdce-9dd278a0b0aa"
      },
      "source": [
        "#Selecting a single row\n",
        "now = pokemon_df.iloc[3] \n",
        "print(now)"
      ],
      "execution_count": 46,
      "outputs": [
        {
          "output_type": "stream",
          "text": [
            "Name       VenusaurMega Venusaur\n",
            "Type 1                     Grass\n",
            "Attack                       100\n",
            "Defense                      123\n",
            "Speed                         80\n",
            "Name: 3, dtype: object\n"
          ],
          "name": "stdout"
        }
      ]
    },
    {
      "cell_type": "code",
      "metadata": {
        "id": "xOpiD-k6CQOj",
        "colab": {
          "base_uri": "https://localhost:8080/",
          "height": 143
        },
        "outputId": "97adeb29-dc1b-47a6-8e34-6af2596a2c74"
      },
      "source": [
        "#Selecting multiple \n",
        "now= pokemon_df.iloc [[3, 5, 7]]\n",
        "now"
      ],
      "execution_count": 47,
      "outputs": [
        {
          "output_type": "execute_result",
          "data": {
            "text/html": [
              "<div>\n",
              "<style scoped>\n",
              "    .dataframe tbody tr th:only-of-type {\n",
              "        vertical-align: middle;\n",
              "    }\n",
              "\n",
              "    .dataframe tbody tr th {\n",
              "        vertical-align: top;\n",
              "    }\n",
              "\n",
              "    .dataframe thead th {\n",
              "        text-align: right;\n",
              "    }\n",
              "</style>\n",
              "<table border=\"1\" class=\"dataframe\">\n",
              "  <thead>\n",
              "    <tr style=\"text-align: right;\">\n",
              "      <th></th>\n",
              "      <th>Name</th>\n",
              "      <th>Type 1</th>\n",
              "      <th>Attack</th>\n",
              "      <th>Defense</th>\n",
              "      <th>Speed</th>\n",
              "    </tr>\n",
              "  </thead>\n",
              "  <tbody>\n",
              "    <tr>\n",
              "      <th>3</th>\n",
              "      <td>VenusaurMega Venusaur</td>\n",
              "      <td>Grass</td>\n",
              "      <td>100</td>\n",
              "      <td>123</td>\n",
              "      <td>80</td>\n",
              "    </tr>\n",
              "    <tr>\n",
              "      <th>5</th>\n",
              "      <td>Charmeleon</td>\n",
              "      <td>Fire</td>\n",
              "      <td>64</td>\n",
              "      <td>58</td>\n",
              "      <td>80</td>\n",
              "    </tr>\n",
              "    <tr>\n",
              "      <th>7</th>\n",
              "      <td>CharizardMega Charizard X</td>\n",
              "      <td>Fire</td>\n",
              "      <td>130</td>\n",
              "      <td>111</td>\n",
              "      <td>100</td>\n",
              "    </tr>\n",
              "  </tbody>\n",
              "</table>\n",
              "</div>"
            ],
            "text/plain": [
              "                        Name Type 1  Attack  Defense  Speed\n",
              "3      VenusaurMega Venusaur  Grass     100      123     80\n",
              "5                 Charmeleon   Fire      64       58     80\n",
              "7  CharizardMega Charizard X   Fire     130      111    100"
            ]
          },
          "metadata": {
            "tags": []
          },
          "execution_count": 47
        }
      ]
    },
    {
      "cell_type": "code",
      "metadata": {
        "id": "xJai50IjCYha",
        "colab": {
          "base_uri": "https://localhost:8080/",
          "height": 206
        },
        "outputId": "153335ac-422d-45e2-fb84-ebb06faa651b"
      },
      "source": [
        "#Selecting all the rows and a some columns\n",
        "now = pokemon_df.iloc [:, [1, 2]]\n",
        "now.head(5)"
      ],
      "execution_count": 50,
      "outputs": [
        {
          "output_type": "execute_result",
          "data": {
            "text/html": [
              "<div>\n",
              "<style scoped>\n",
              "    .dataframe tbody tr th:only-of-type {\n",
              "        vertical-align: middle;\n",
              "    }\n",
              "\n",
              "    .dataframe tbody tr th {\n",
              "        vertical-align: top;\n",
              "    }\n",
              "\n",
              "    .dataframe thead th {\n",
              "        text-align: right;\n",
              "    }\n",
              "</style>\n",
              "<table border=\"1\" class=\"dataframe\">\n",
              "  <thead>\n",
              "    <tr style=\"text-align: right;\">\n",
              "      <th></th>\n",
              "      <th>Type 1</th>\n",
              "      <th>Attack</th>\n",
              "    </tr>\n",
              "  </thead>\n",
              "  <tbody>\n",
              "    <tr>\n",
              "      <th>0</th>\n",
              "      <td>Grass</td>\n",
              "      <td>49</td>\n",
              "    </tr>\n",
              "    <tr>\n",
              "      <th>1</th>\n",
              "      <td>Grass</td>\n",
              "      <td>62</td>\n",
              "    </tr>\n",
              "    <tr>\n",
              "      <th>2</th>\n",
              "      <td>Grass</td>\n",
              "      <td>82</td>\n",
              "    </tr>\n",
              "    <tr>\n",
              "      <th>3</th>\n",
              "      <td>Grass</td>\n",
              "      <td>100</td>\n",
              "    </tr>\n",
              "    <tr>\n",
              "      <th>4</th>\n",
              "      <td>Fire</td>\n",
              "      <td>52</td>\n",
              "    </tr>\n",
              "  </tbody>\n",
              "</table>\n",
              "</div>"
            ],
            "text/plain": [
              "  Type 1  Attack\n",
              "0  Grass      49\n",
              "1  Grass      62\n",
              "2  Grass      82\n",
              "3  Grass     100\n",
              "4   Fire      52"
            ]
          },
          "metadata": {
            "tags": []
          },
          "execution_count": 50
        }
      ]
    },
    {
      "cell_type": "markdown",
      "metadata": {
        "id": "_s51LFCPEj3e"
      },
      "source": [
        "\n",
        "\n",
        "---\n",
        "\n"
      ]
    },
    {
      "cell_type": "markdown",
      "metadata": {
        "id": "BNZ_tYG7EkKN"
      },
      "source": [
        "                                                        6. AGGREGATION FUNCTION IN DATA FRAME\n",
        "\n"
      ]
    },
    {
      "cell_type": "markdown",
      "metadata": {
        "id": "7MWWzJ38fvoe"
      },
      "source": [
        "Pandas provides some aggregate functions to do some operations on grouped dataframe. Some commonly used aggregation functions are"
      ]
    },
    {
      "cell_type": "markdown",
      "metadata": {
        "id": "08QDFpYNfzmn"
      },
      "source": [
        "1) mean()"
      ]
    },
    {
      "cell_type": "code",
      "metadata": {
        "id": "PAKjHkgn3Oup",
        "colab": {
          "base_uri": "https://localhost:8080/",
          "height": 175
        },
        "outputId": "b5ee5a0f-545c-4930-801f-d2264354eb3b"
      },
      "source": [
        "#Pandas groupby: mean()\n",
        "#The aggregate function mean() computes mean values for each group. Here, pandas groupby followed by mean will compute mean population for each continent.\n",
        "path='https://raw.githubusercontent.com/shruthi-jay/pandas/main/Pokemon.csv'\n",
        "pokemon_df = pd.read_csv(path,sep = ',', header = 'infer', index_col =None, usecols = ['Name','Type 1','Attack','Defense','Speed'])\n",
        "pokemon_df.groupby(\"Speed\").mean().head(3)\n"
      ],
      "execution_count": 51,
      "outputs": [
        {
          "output_type": "execute_result",
          "data": {
            "text/html": [
              "<div>\n",
              "<style scoped>\n",
              "    .dataframe tbody tr th:only-of-type {\n",
              "        vertical-align: middle;\n",
              "    }\n",
              "\n",
              "    .dataframe tbody tr th {\n",
              "        vertical-align: top;\n",
              "    }\n",
              "\n",
              "    .dataframe thead th {\n",
              "        text-align: right;\n",
              "    }\n",
              "</style>\n",
              "<table border=\"1\" class=\"dataframe\">\n",
              "  <thead>\n",
              "    <tr style=\"text-align: right;\">\n",
              "      <th></th>\n",
              "      <th>Attack</th>\n",
              "      <th>Defense</th>\n",
              "    </tr>\n",
              "    <tr>\n",
              "      <th>Speed</th>\n",
              "      <th></th>\n",
              "      <th></th>\n",
              "    </tr>\n",
              "  </thead>\n",
              "  <tbody>\n",
              "    <tr>\n",
              "      <th>5</th>\n",
              "      <td>47.500000</td>\n",
              "      <td>135.000000</td>\n",
              "    </tr>\n",
              "    <tr>\n",
              "      <th>10</th>\n",
              "      <td>76.666667</td>\n",
              "      <td>77.000000</td>\n",
              "    </tr>\n",
              "    <tr>\n",
              "      <th>15</th>\n",
              "      <td>47.777778</td>\n",
              "      <td>53.666667</td>\n",
              "    </tr>\n",
              "  </tbody>\n",
              "</table>\n",
              "</div>"
            ],
            "text/plain": [
              "          Attack     Defense\n",
              "Speed                       \n",
              "5      47.500000  135.000000\n",
              "10     76.666667   77.000000\n",
              "15     47.777778   53.666667"
            ]
          },
          "metadata": {
            "tags": []
          },
          "execution_count": 51
        }
      ]
    },
    {
      "cell_type": "markdown",
      "metadata": {
        "id": "lYjJA5Brf5oF"
      },
      "source": [
        "2) sum()"
      ]
    },
    {
      "cell_type": "markdown",
      "metadata": {
        "id": "9lvQZvfwf_Sk"
      },
      "source": [
        "\n",
        "The aggregating function sum() simply adds of values within each group."
      ]
    },
    {
      "cell_type": "code",
      "metadata": {
        "id": "YZ_5_LQ03klH",
        "colab": {
          "base_uri": "https://localhost:8080/",
          "height": 175
        },
        "outputId": "75963161-20a6-425d-a26e-22391c142566"
      },
      "source": [
        "pokemon_df.groupby(\"Type 1\").sum().head(3)"
      ],
      "execution_count": 53,
      "outputs": [
        {
          "output_type": "execute_result",
          "data": {
            "text/html": [
              "<div>\n",
              "<style scoped>\n",
              "    .dataframe tbody tr th:only-of-type {\n",
              "        vertical-align: middle;\n",
              "    }\n",
              "\n",
              "    .dataframe tbody tr th {\n",
              "        vertical-align: top;\n",
              "    }\n",
              "\n",
              "    .dataframe thead th {\n",
              "        text-align: right;\n",
              "    }\n",
              "</style>\n",
              "<table border=\"1\" class=\"dataframe\">\n",
              "  <thead>\n",
              "    <tr style=\"text-align: right;\">\n",
              "      <th></th>\n",
              "      <th>Attack</th>\n",
              "      <th>Defense</th>\n",
              "      <th>Speed</th>\n",
              "    </tr>\n",
              "    <tr>\n",
              "      <th>Type 1</th>\n",
              "      <th></th>\n",
              "      <th></th>\n",
              "      <th></th>\n",
              "    </tr>\n",
              "  </thead>\n",
              "  <tbody>\n",
              "    <tr>\n",
              "      <th>Bug</th>\n",
              "      <td>4897</td>\n",
              "      <td>4880</td>\n",
              "      <td>4256</td>\n",
              "    </tr>\n",
              "    <tr>\n",
              "      <th>Dark</th>\n",
              "      <td>2740</td>\n",
              "      <td>2177</td>\n",
              "      <td>2361</td>\n",
              "    </tr>\n",
              "    <tr>\n",
              "      <th>Dragon</th>\n",
              "      <td>3588</td>\n",
              "      <td>2764</td>\n",
              "      <td>2657</td>\n",
              "    </tr>\n",
              "  </tbody>\n",
              "</table>\n",
              "</div>"
            ],
            "text/plain": [
              "        Attack  Defense  Speed\n",
              "Type 1                        \n",
              "Bug       4897     4880   4256\n",
              "Dark      2740     2177   2361\n",
              "Dragon    3588     2764   2657"
            ]
          },
          "metadata": {
            "tags": []
          },
          "execution_count": 53
        }
      ]
    },
    {
      "cell_type": "markdown",
      "metadata": {
        "id": "1qr8i0XbgJgx"
      },
      "source": [
        "3) size\n"
      ]
    },
    {
      "cell_type": "markdown",
      "metadata": {
        "id": "95XPq_6QgNUQ"
      },
      "source": [
        "The aggregating function size() computes the size per each group."
      ]
    },
    {
      "cell_type": "code",
      "metadata": {
        "id": "kUnnLhbG34AY"
      },
      "source": [
        "pokemon_df.groupby(\"Type 1\").size()"
      ],
      "execution_count": null,
      "outputs": []
    },
    {
      "cell_type": "markdown",
      "metadata": {
        "id": "regmNVnagQZ4"
      },
      "source": [
        "4) count()"
      ]
    },
    {
      "cell_type": "markdown",
      "metadata": {
        "id": "RYjUGbOLgSPj"
      },
      "source": [
        "The aggregating function count() computes the number of values with in each group."
      ]
    },
    {
      "cell_type": "code",
      "metadata": {
        "id": "u5F1yLHP4JJp",
        "colab": {
          "base_uri": "https://localhost:8080/",
          "height": 645
        },
        "outputId": "8caf3628-670d-42d5-986a-e4d37cb583d4"
      },
      "source": [
        "pokemon_df.groupby(\"Type 1\").count()"
      ],
      "execution_count": 54,
      "outputs": [
        {
          "output_type": "execute_result",
          "data": {
            "text/html": [
              "<div>\n",
              "<style scoped>\n",
              "    .dataframe tbody tr th:only-of-type {\n",
              "        vertical-align: middle;\n",
              "    }\n",
              "\n",
              "    .dataframe tbody tr th {\n",
              "        vertical-align: top;\n",
              "    }\n",
              "\n",
              "    .dataframe thead th {\n",
              "        text-align: right;\n",
              "    }\n",
              "</style>\n",
              "<table border=\"1\" class=\"dataframe\">\n",
              "  <thead>\n",
              "    <tr style=\"text-align: right;\">\n",
              "      <th></th>\n",
              "      <th>Name</th>\n",
              "      <th>Attack</th>\n",
              "      <th>Defense</th>\n",
              "      <th>Speed</th>\n",
              "    </tr>\n",
              "    <tr>\n",
              "      <th>Type 1</th>\n",
              "      <th></th>\n",
              "      <th></th>\n",
              "      <th></th>\n",
              "      <th></th>\n",
              "    </tr>\n",
              "  </thead>\n",
              "  <tbody>\n",
              "    <tr>\n",
              "      <th>Bug</th>\n",
              "      <td>69</td>\n",
              "      <td>69</td>\n",
              "      <td>69</td>\n",
              "      <td>69</td>\n",
              "    </tr>\n",
              "    <tr>\n",
              "      <th>Dark</th>\n",
              "      <td>31</td>\n",
              "      <td>31</td>\n",
              "      <td>31</td>\n",
              "      <td>31</td>\n",
              "    </tr>\n",
              "    <tr>\n",
              "      <th>Dragon</th>\n",
              "      <td>32</td>\n",
              "      <td>32</td>\n",
              "      <td>32</td>\n",
              "      <td>32</td>\n",
              "    </tr>\n",
              "    <tr>\n",
              "      <th>Electric</th>\n",
              "      <td>44</td>\n",
              "      <td>44</td>\n",
              "      <td>44</td>\n",
              "      <td>44</td>\n",
              "    </tr>\n",
              "    <tr>\n",
              "      <th>Fairy</th>\n",
              "      <td>17</td>\n",
              "      <td>17</td>\n",
              "      <td>17</td>\n",
              "      <td>17</td>\n",
              "    </tr>\n",
              "    <tr>\n",
              "      <th>Fighting</th>\n",
              "      <td>27</td>\n",
              "      <td>27</td>\n",
              "      <td>27</td>\n",
              "      <td>27</td>\n",
              "    </tr>\n",
              "    <tr>\n",
              "      <th>Fire</th>\n",
              "      <td>52</td>\n",
              "      <td>52</td>\n",
              "      <td>52</td>\n",
              "      <td>52</td>\n",
              "    </tr>\n",
              "    <tr>\n",
              "      <th>Flying</th>\n",
              "      <td>4</td>\n",
              "      <td>4</td>\n",
              "      <td>4</td>\n",
              "      <td>4</td>\n",
              "    </tr>\n",
              "    <tr>\n",
              "      <th>Ghost</th>\n",
              "      <td>32</td>\n",
              "      <td>32</td>\n",
              "      <td>32</td>\n",
              "      <td>32</td>\n",
              "    </tr>\n",
              "    <tr>\n",
              "      <th>Grass</th>\n",
              "      <td>70</td>\n",
              "      <td>70</td>\n",
              "      <td>70</td>\n",
              "      <td>70</td>\n",
              "    </tr>\n",
              "    <tr>\n",
              "      <th>Ground</th>\n",
              "      <td>32</td>\n",
              "      <td>32</td>\n",
              "      <td>32</td>\n",
              "      <td>32</td>\n",
              "    </tr>\n",
              "    <tr>\n",
              "      <th>Ice</th>\n",
              "      <td>24</td>\n",
              "      <td>24</td>\n",
              "      <td>24</td>\n",
              "      <td>24</td>\n",
              "    </tr>\n",
              "    <tr>\n",
              "      <th>Normal</th>\n",
              "      <td>98</td>\n",
              "      <td>98</td>\n",
              "      <td>98</td>\n",
              "      <td>98</td>\n",
              "    </tr>\n",
              "    <tr>\n",
              "      <th>Poison</th>\n",
              "      <td>28</td>\n",
              "      <td>28</td>\n",
              "      <td>28</td>\n",
              "      <td>28</td>\n",
              "    </tr>\n",
              "    <tr>\n",
              "      <th>Psychic</th>\n",
              "      <td>57</td>\n",
              "      <td>57</td>\n",
              "      <td>57</td>\n",
              "      <td>57</td>\n",
              "    </tr>\n",
              "    <tr>\n",
              "      <th>Rock</th>\n",
              "      <td>44</td>\n",
              "      <td>44</td>\n",
              "      <td>44</td>\n",
              "      <td>44</td>\n",
              "    </tr>\n",
              "    <tr>\n",
              "      <th>Steel</th>\n",
              "      <td>27</td>\n",
              "      <td>27</td>\n",
              "      <td>27</td>\n",
              "      <td>27</td>\n",
              "    </tr>\n",
              "    <tr>\n",
              "      <th>Water</th>\n",
              "      <td>112</td>\n",
              "      <td>112</td>\n",
              "      <td>112</td>\n",
              "      <td>112</td>\n",
              "    </tr>\n",
              "  </tbody>\n",
              "</table>\n",
              "</div>"
            ],
            "text/plain": [
              "          Name  Attack  Defense  Speed\n",
              "Type 1                                \n",
              "Bug         69      69       69     69\n",
              "Dark        31      31       31     31\n",
              "Dragon      32      32       32     32\n",
              "Electric    44      44       44     44\n",
              "Fairy       17      17       17     17\n",
              "Fighting    27      27       27     27\n",
              "Fire        52      52       52     52\n",
              "Flying       4       4        4      4\n",
              "Ghost       32      32       32     32\n",
              "Grass       70      70       70     70\n",
              "Ground      32      32       32     32\n",
              "Ice         24      24       24     24\n",
              "Normal      98      98       98     98\n",
              "Poison      28      28       28     28\n",
              "Psychic     57      57       57     57\n",
              "Rock        44      44       44     44\n",
              "Steel       27      27       27     27\n",
              "Water      112     112      112    112"
            ]
          },
          "metadata": {
            "tags": []
          },
          "execution_count": 54
        }
      ]
    },
    {
      "cell_type": "markdown",
      "metadata": {
        "id": "LJkuv3_0ga7n"
      },
      "source": [
        "5) std()"
      ]
    },
    {
      "cell_type": "markdown",
      "metadata": {
        "id": "DWuSROOogfJp"
      },
      "source": [
        "The aggregating function std() computes standard deviation of the values within each group."
      ]
    },
    {
      "cell_type": "code",
      "metadata": {
        "id": "baO5V7J74gli",
        "colab": {
          "base_uri": "https://localhost:8080/",
          "height": 645
        },
        "outputId": "272fd50a-deef-4a51-a1b2-bcc84d5e2d90"
      },
      "source": [
        "pokemon_df.groupby(\"Type 1\").std()"
      ],
      "execution_count": 55,
      "outputs": [
        {
          "output_type": "execute_result",
          "data": {
            "text/html": [
              "<div>\n",
              "<style scoped>\n",
              "    .dataframe tbody tr th:only-of-type {\n",
              "        vertical-align: middle;\n",
              "    }\n",
              "\n",
              "    .dataframe tbody tr th {\n",
              "        vertical-align: top;\n",
              "    }\n",
              "\n",
              "    .dataframe thead th {\n",
              "        text-align: right;\n",
              "    }\n",
              "</style>\n",
              "<table border=\"1\" class=\"dataframe\">\n",
              "  <thead>\n",
              "    <tr style=\"text-align: right;\">\n",
              "      <th></th>\n",
              "      <th>Attack</th>\n",
              "      <th>Defense</th>\n",
              "      <th>Speed</th>\n",
              "    </tr>\n",
              "    <tr>\n",
              "      <th>Type 1</th>\n",
              "      <th></th>\n",
              "      <th></th>\n",
              "      <th></th>\n",
              "    </tr>\n",
              "  </thead>\n",
              "  <tbody>\n",
              "    <tr>\n",
              "      <th>Bug</th>\n",
              "      <td>37.040904</td>\n",
              "      <td>33.617609</td>\n",
              "      <td>33.227599</td>\n",
              "    </tr>\n",
              "    <tr>\n",
              "      <th>Dark</th>\n",
              "      <td>25.774247</td>\n",
              "      <td>25.121982</td>\n",
              "      <td>27.768203</td>\n",
              "    </tr>\n",
              "    <tr>\n",
              "      <th>Dragon</th>\n",
              "      <td>33.742622</td>\n",
              "      <td>24.102938</td>\n",
              "      <td>23.239961</td>\n",
              "    </tr>\n",
              "    <tr>\n",
              "      <th>Electric</th>\n",
              "      <td>23.764169</td>\n",
              "      <td>24.757033</td>\n",
              "      <td>26.691607</td>\n",
              "    </tr>\n",
              "    <tr>\n",
              "      <th>Fairy</th>\n",
              "      <td>29.751298</td>\n",
              "      <td>18.979478</td>\n",
              "      <td>23.305200</td>\n",
              "    </tr>\n",
              "    <tr>\n",
              "      <th>Fighting</th>\n",
              "      <td>28.290163</td>\n",
              "      <td>18.578163</td>\n",
              "      <td>26.054567</td>\n",
              "    </tr>\n",
              "    <tr>\n",
              "      <th>Fire</th>\n",
              "      <td>28.769275</td>\n",
              "      <td>23.658200</td>\n",
              "      <td>25.245783</td>\n",
              "    </tr>\n",
              "    <tr>\n",
              "      <th>Flying</th>\n",
              "      <td>37.500000</td>\n",
              "      <td>21.360009</td>\n",
              "      <td>32.098806</td>\n",
              "    </tr>\n",
              "    <tr>\n",
              "      <th>Ghost</th>\n",
              "      <td>29.629687</td>\n",
              "      <td>32.551138</td>\n",
              "      <td>28.020280</td>\n",
              "    </tr>\n",
              "    <tr>\n",
              "      <th>Grass</th>\n",
              "      <td>25.380520</td>\n",
              "      <td>24.485192</td>\n",
              "      <td>28.506456</td>\n",
              "    </tr>\n",
              "    <tr>\n",
              "      <th>Ground</th>\n",
              "      <td>33.059087</td>\n",
              "      <td>33.786912</td>\n",
              "      <td>27.450083</td>\n",
              "    </tr>\n",
              "    <tr>\n",
              "      <th>Ice</th>\n",
              "      <td>27.289511</td>\n",
              "      <td>34.387708</td>\n",
              "      <td>24.498410</td>\n",
              "    </tr>\n",
              "    <tr>\n",
              "      <th>Normal</th>\n",
              "      <td>30.295862</td>\n",
              "      <td>23.771833</td>\n",
              "      <td>28.406157</td>\n",
              "    </tr>\n",
              "    <tr>\n",
              "      <th>Poison</th>\n",
              "      <td>19.630010</td>\n",
              "      <td>21.066128</td>\n",
              "      <td>22.631392</td>\n",
              "    </tr>\n",
              "    <tr>\n",
              "      <th>Psychic</th>\n",
              "      <td>42.309265</td>\n",
              "      <td>28.359401</td>\n",
              "      <td>37.335412</td>\n",
              "    </tr>\n",
              "    <tr>\n",
              "      <th>Rock</th>\n",
              "      <td>35.325458</td>\n",
              "      <td>36.447209</td>\n",
              "      <td>29.903580</td>\n",
              "    </tr>\n",
              "    <tr>\n",
              "      <th>Steel</th>\n",
              "      <td>30.388276</td>\n",
              "      <td>44.806548</td>\n",
              "      <td>25.846578</td>\n",
              "    </tr>\n",
              "    <tr>\n",
              "      <th>Water</th>\n",
              "      <td>28.377192</td>\n",
              "      <td>27.773809</td>\n",
              "      <td>23.019353</td>\n",
              "    </tr>\n",
              "  </tbody>\n",
              "</table>\n",
              "</div>"
            ],
            "text/plain": [
              "             Attack    Defense      Speed\n",
              "Type 1                                   \n",
              "Bug       37.040904  33.617609  33.227599\n",
              "Dark      25.774247  25.121982  27.768203\n",
              "Dragon    33.742622  24.102938  23.239961\n",
              "Electric  23.764169  24.757033  26.691607\n",
              "Fairy     29.751298  18.979478  23.305200\n",
              "Fighting  28.290163  18.578163  26.054567\n",
              "Fire      28.769275  23.658200  25.245783\n",
              "Flying    37.500000  21.360009  32.098806\n",
              "Ghost     29.629687  32.551138  28.020280\n",
              "Grass     25.380520  24.485192  28.506456\n",
              "Ground    33.059087  33.786912  27.450083\n",
              "Ice       27.289511  34.387708  24.498410\n",
              "Normal    30.295862  23.771833  28.406157\n",
              "Poison    19.630010  21.066128  22.631392\n",
              "Psychic   42.309265  28.359401  37.335412\n",
              "Rock      35.325458  36.447209  29.903580\n",
              "Steel     30.388276  44.806548  25.846578\n",
              "Water     28.377192  27.773809  23.019353"
            ]
          },
          "metadata": {
            "tags": []
          },
          "execution_count": 55
        }
      ]
    },
    {
      "cell_type": "markdown",
      "metadata": {
        "id": "Ib6ViJNsgixM"
      },
      "source": [
        "6)var()"
      ]
    },
    {
      "cell_type": "markdown",
      "metadata": {
        "id": "tX9jnxOHgmgS"
      },
      "source": [
        "The aggregating function var() computes variance, an estimate of variability, for each column per group."
      ]
    },
    {
      "cell_type": "code",
      "metadata": {
        "id": "W3LzjpI85cye",
        "colab": {
          "base_uri": "https://localhost:8080/",
          "height": 645
        },
        "outputId": "0934dff7-e3e6-4771-96e9-9e454892f627"
      },
      "source": [
        "pokemon_df.groupby(\"Type 1\").var()"
      ],
      "execution_count": 56,
      "outputs": [
        {
          "output_type": "execute_result",
          "data": {
            "text/html": [
              "<div>\n",
              "<style scoped>\n",
              "    .dataframe tbody tr th:only-of-type {\n",
              "        vertical-align: middle;\n",
              "    }\n",
              "\n",
              "    .dataframe tbody tr th {\n",
              "        vertical-align: top;\n",
              "    }\n",
              "\n",
              "    .dataframe thead th {\n",
              "        text-align: right;\n",
              "    }\n",
              "</style>\n",
              "<table border=\"1\" class=\"dataframe\">\n",
              "  <thead>\n",
              "    <tr style=\"text-align: right;\">\n",
              "      <th></th>\n",
              "      <th>Attack</th>\n",
              "      <th>Defense</th>\n",
              "      <th>Speed</th>\n",
              "    </tr>\n",
              "    <tr>\n",
              "      <th>Type 1</th>\n",
              "      <th></th>\n",
              "      <th></th>\n",
              "      <th></th>\n",
              "    </tr>\n",
              "  </thead>\n",
              "  <tbody>\n",
              "    <tr>\n",
              "      <th>Bug</th>\n",
              "      <td>1372.028559</td>\n",
              "      <td>1130.143649</td>\n",
              "      <td>1104.073316</td>\n",
              "    </tr>\n",
              "    <tr>\n",
              "      <th>Dark</th>\n",
              "      <td>664.311828</td>\n",
              "      <td>631.113978</td>\n",
              "      <td>771.073118</td>\n",
              "    </tr>\n",
              "    <tr>\n",
              "      <th>Dragon</th>\n",
              "      <td>1138.564516</td>\n",
              "      <td>580.951613</td>\n",
              "      <td>540.095766</td>\n",
              "    </tr>\n",
              "    <tr>\n",
              "      <th>Electric</th>\n",
              "      <td>564.735729</td>\n",
              "      <td>612.910677</td>\n",
              "      <td>712.441860</td>\n",
              "    </tr>\n",
              "    <tr>\n",
              "      <th>Fairy</th>\n",
              "      <td>885.139706</td>\n",
              "      <td>360.220588</td>\n",
              "      <td>543.132353</td>\n",
              "    </tr>\n",
              "    <tr>\n",
              "      <th>Fighting</th>\n",
              "      <td>800.333333</td>\n",
              "      <td>345.148148</td>\n",
              "      <td>678.840456</td>\n",
              "    </tr>\n",
              "    <tr>\n",
              "      <th>Fire</th>\n",
              "      <td>827.671192</td>\n",
              "      <td>559.710407</td>\n",
              "      <td>637.349548</td>\n",
              "    </tr>\n",
              "    <tr>\n",
              "      <th>Flying</th>\n",
              "      <td>1406.250000</td>\n",
              "      <td>456.250000</td>\n",
              "      <td>1030.333333</td>\n",
              "    </tr>\n",
              "    <tr>\n",
              "      <th>Ghost</th>\n",
              "      <td>877.918347</td>\n",
              "      <td>1059.576613</td>\n",
              "      <td>785.136089</td>\n",
              "    </tr>\n",
              "    <tr>\n",
              "      <th>Grass</th>\n",
              "      <td>644.170807</td>\n",
              "      <td>599.524638</td>\n",
              "      <td>812.618012</td>\n",
              "    </tr>\n",
              "    <tr>\n",
              "      <th>Ground</th>\n",
              "      <td>1092.903226</td>\n",
              "      <td>1141.555444</td>\n",
              "      <td>753.507056</td>\n",
              "    </tr>\n",
              "    <tr>\n",
              "      <th>Ice</th>\n",
              "      <td>744.717391</td>\n",
              "      <td>1182.514493</td>\n",
              "      <td>600.172101</td>\n",
              "    </tr>\n",
              "    <tr>\n",
              "      <th>Normal</th>\n",
              "      <td>917.839259</td>\n",
              "      <td>565.100042</td>\n",
              "      <td>806.909741</td>\n",
              "    </tr>\n",
              "    <tr>\n",
              "      <th>Poison</th>\n",
              "      <td>385.337302</td>\n",
              "      <td>443.781746</td>\n",
              "      <td>512.179894</td>\n",
              "    </tr>\n",
              "    <tr>\n",
              "      <th>Psychic</th>\n",
              "      <td>1790.073935</td>\n",
              "      <td>804.255639</td>\n",
              "      <td>1393.932957</td>\n",
              "    </tr>\n",
              "    <tr>\n",
              "      <th>Rock</th>\n",
              "      <td>1247.887949</td>\n",
              "      <td>1328.399049</td>\n",
              "      <td>894.224101</td>\n",
              "    </tr>\n",
              "    <tr>\n",
              "      <th>Steel</th>\n",
              "      <td>923.447293</td>\n",
              "      <td>2007.626781</td>\n",
              "      <td>668.045584</td>\n",
              "    </tr>\n",
              "    <tr>\n",
              "      <th>Water</th>\n",
              "      <td>805.265042</td>\n",
              "      <td>771.384492</td>\n",
              "      <td>529.890605</td>\n",
              "    </tr>\n",
              "  </tbody>\n",
              "</table>\n",
              "</div>"
            ],
            "text/plain": [
              "               Attack      Defense        Speed\n",
              "Type 1                                         \n",
              "Bug       1372.028559  1130.143649  1104.073316\n",
              "Dark       664.311828   631.113978   771.073118\n",
              "Dragon    1138.564516   580.951613   540.095766\n",
              "Electric   564.735729   612.910677   712.441860\n",
              "Fairy      885.139706   360.220588   543.132353\n",
              "Fighting   800.333333   345.148148   678.840456\n",
              "Fire       827.671192   559.710407   637.349548\n",
              "Flying    1406.250000   456.250000  1030.333333\n",
              "Ghost      877.918347  1059.576613   785.136089\n",
              "Grass      644.170807   599.524638   812.618012\n",
              "Ground    1092.903226  1141.555444   753.507056\n",
              "Ice        744.717391  1182.514493   600.172101\n",
              "Normal     917.839259   565.100042   806.909741\n",
              "Poison     385.337302   443.781746   512.179894\n",
              "Psychic   1790.073935   804.255639  1393.932957\n",
              "Rock      1247.887949  1328.399049   894.224101\n",
              "Steel      923.447293  2007.626781   668.045584\n",
              "Water      805.265042   771.384492   529.890605"
            ]
          },
          "metadata": {
            "tags": []
          },
          "execution_count": 56
        }
      ]
    },
    {
      "cell_type": "markdown",
      "metadata": {
        "id": "4-VG-ym4gqX3"
      },
      "source": [
        "7) describe()"
      ]
    },
    {
      "cell_type": "markdown",
      "metadata": {
        "id": "OGsmvFatguvX"
      },
      "source": [
        "The aggregating function describe() computes a quick summary of values per group. It computes the number of values, mean, std, the minimum value, maximum value and value at multiple percentiles.\n"
      ]
    },
    {
      "cell_type": "code",
      "metadata": {
        "id": "pvbU9oqI5rpQ",
        "colab": {
          "base_uri": "https://localhost:8080/",
          "height": 696
        },
        "outputId": "0151d1e5-8d4a-4306-9fd5-1db507ebd2fe"
      },
      "source": [
        "pokemon_df.groupby(\"Type 1\").describe()"
      ],
      "execution_count": 57,
      "outputs": [
        {
          "output_type": "execute_result",
          "data": {
            "text/html": [
              "<div>\n",
              "<style scoped>\n",
              "    .dataframe tbody tr th:only-of-type {\n",
              "        vertical-align: middle;\n",
              "    }\n",
              "\n",
              "    .dataframe tbody tr th {\n",
              "        vertical-align: top;\n",
              "    }\n",
              "\n",
              "    .dataframe thead tr th {\n",
              "        text-align: left;\n",
              "    }\n",
              "\n",
              "    .dataframe thead tr:last-of-type th {\n",
              "        text-align: right;\n",
              "    }\n",
              "</style>\n",
              "<table border=\"1\" class=\"dataframe\">\n",
              "  <thead>\n",
              "    <tr>\n",
              "      <th></th>\n",
              "      <th colspan=\"8\" halign=\"left\">Attack</th>\n",
              "      <th colspan=\"8\" halign=\"left\">Defense</th>\n",
              "      <th colspan=\"8\" halign=\"left\">Speed</th>\n",
              "    </tr>\n",
              "    <tr>\n",
              "      <th></th>\n",
              "      <th>count</th>\n",
              "      <th>mean</th>\n",
              "      <th>std</th>\n",
              "      <th>min</th>\n",
              "      <th>25%</th>\n",
              "      <th>50%</th>\n",
              "      <th>75%</th>\n",
              "      <th>max</th>\n",
              "      <th>count</th>\n",
              "      <th>mean</th>\n",
              "      <th>std</th>\n",
              "      <th>min</th>\n",
              "      <th>25%</th>\n",
              "      <th>50%</th>\n",
              "      <th>75%</th>\n",
              "      <th>max</th>\n",
              "      <th>count</th>\n",
              "      <th>mean</th>\n",
              "      <th>std</th>\n",
              "      <th>min</th>\n",
              "      <th>25%</th>\n",
              "      <th>50%</th>\n",
              "      <th>75%</th>\n",
              "      <th>max</th>\n",
              "    </tr>\n",
              "    <tr>\n",
              "      <th>Type 1</th>\n",
              "      <th></th>\n",
              "      <th></th>\n",
              "      <th></th>\n",
              "      <th></th>\n",
              "      <th></th>\n",
              "      <th></th>\n",
              "      <th></th>\n",
              "      <th></th>\n",
              "      <th></th>\n",
              "      <th></th>\n",
              "      <th></th>\n",
              "      <th></th>\n",
              "      <th></th>\n",
              "      <th></th>\n",
              "      <th></th>\n",
              "      <th></th>\n",
              "      <th></th>\n",
              "      <th></th>\n",
              "      <th></th>\n",
              "      <th></th>\n",
              "      <th></th>\n",
              "      <th></th>\n",
              "      <th></th>\n",
              "      <th></th>\n",
              "    </tr>\n",
              "  </thead>\n",
              "  <tbody>\n",
              "    <tr>\n",
              "      <th>Bug</th>\n",
              "      <td>69.0</td>\n",
              "      <td>70.971014</td>\n",
              "      <td>37.040904</td>\n",
              "      <td>10.0</td>\n",
              "      <td>45.00</td>\n",
              "      <td>65.0</td>\n",
              "      <td>90.00</td>\n",
              "      <td>185.0</td>\n",
              "      <td>69.0</td>\n",
              "      <td>70.724638</td>\n",
              "      <td>33.617609</td>\n",
              "      <td>30.0</td>\n",
              "      <td>50.00</td>\n",
              "      <td>60.0</td>\n",
              "      <td>90.00</td>\n",
              "      <td>230.0</td>\n",
              "      <td>69.0</td>\n",
              "      <td>61.681159</td>\n",
              "      <td>33.227599</td>\n",
              "      <td>5.0</td>\n",
              "      <td>36.00</td>\n",
              "      <td>60.0</td>\n",
              "      <td>85.00</td>\n",
              "      <td>160.0</td>\n",
              "    </tr>\n",
              "    <tr>\n",
              "      <th>Dark</th>\n",
              "      <td>31.0</td>\n",
              "      <td>88.387097</td>\n",
              "      <td>25.774247</td>\n",
              "      <td>50.0</td>\n",
              "      <td>65.00</td>\n",
              "      <td>88.0</td>\n",
              "      <td>100.00</td>\n",
              "      <td>150.0</td>\n",
              "      <td>31.0</td>\n",
              "      <td>70.225806</td>\n",
              "      <td>25.121982</td>\n",
              "      <td>30.0</td>\n",
              "      <td>51.00</td>\n",
              "      <td>70.0</td>\n",
              "      <td>90.00</td>\n",
              "      <td>125.0</td>\n",
              "      <td>31.0</td>\n",
              "      <td>76.161290</td>\n",
              "      <td>27.768203</td>\n",
              "      <td>20.0</td>\n",
              "      <td>59.00</td>\n",
              "      <td>70.0</td>\n",
              "      <td>98.50</td>\n",
              "      <td>125.0</td>\n",
              "    </tr>\n",
              "    <tr>\n",
              "      <th>Dragon</th>\n",
              "      <td>32.0</td>\n",
              "      <td>112.125000</td>\n",
              "      <td>33.742622</td>\n",
              "      <td>50.0</td>\n",
              "      <td>86.25</td>\n",
              "      <td>113.5</td>\n",
              "      <td>134.25</td>\n",
              "      <td>180.0</td>\n",
              "      <td>32.0</td>\n",
              "      <td>86.375000</td>\n",
              "      <td>24.102938</td>\n",
              "      <td>35.0</td>\n",
              "      <td>68.75</td>\n",
              "      <td>90.0</td>\n",
              "      <td>100.00</td>\n",
              "      <td>130.0</td>\n",
              "      <td>32.0</td>\n",
              "      <td>83.031250</td>\n",
              "      <td>23.239961</td>\n",
              "      <td>40.0</td>\n",
              "      <td>65.25</td>\n",
              "      <td>90.0</td>\n",
              "      <td>97.75</td>\n",
              "      <td>120.0</td>\n",
              "    </tr>\n",
              "    <tr>\n",
              "      <th>Electric</th>\n",
              "      <td>44.0</td>\n",
              "      <td>69.090909</td>\n",
              "      <td>23.764169</td>\n",
              "      <td>30.0</td>\n",
              "      <td>53.75</td>\n",
              "      <td>65.0</td>\n",
              "      <td>85.00</td>\n",
              "      <td>123.0</td>\n",
              "      <td>44.0</td>\n",
              "      <td>66.295455</td>\n",
              "      <td>24.757033</td>\n",
              "      <td>15.0</td>\n",
              "      <td>49.75</td>\n",
              "      <td>65.0</td>\n",
              "      <td>80.00</td>\n",
              "      <td>115.0</td>\n",
              "      <td>44.0</td>\n",
              "      <td>84.500000</td>\n",
              "      <td>26.691607</td>\n",
              "      <td>35.0</td>\n",
              "      <td>60.00</td>\n",
              "      <td>88.0</td>\n",
              "      <td>101.50</td>\n",
              "      <td>140.0</td>\n",
              "    </tr>\n",
              "    <tr>\n",
              "      <th>Fairy</th>\n",
              "      <td>17.0</td>\n",
              "      <td>61.529412</td>\n",
              "      <td>29.751298</td>\n",
              "      <td>20.0</td>\n",
              "      <td>45.00</td>\n",
              "      <td>52.0</td>\n",
              "      <td>72.00</td>\n",
              "      <td>131.0</td>\n",
              "      <td>17.0</td>\n",
              "      <td>65.705882</td>\n",
              "      <td>18.979478</td>\n",
              "      <td>28.0</td>\n",
              "      <td>50.00</td>\n",
              "      <td>66.0</td>\n",
              "      <td>75.00</td>\n",
              "      <td>95.0</td>\n",
              "      <td>17.0</td>\n",
              "      <td>48.588235</td>\n",
              "      <td>23.305200</td>\n",
              "      <td>15.0</td>\n",
              "      <td>30.00</td>\n",
              "      <td>45.0</td>\n",
              "      <td>60.00</td>\n",
              "      <td>99.0</td>\n",
              "    </tr>\n",
              "    <tr>\n",
              "      <th>Fighting</th>\n",
              "      <td>27.0</td>\n",
              "      <td>96.777778</td>\n",
              "      <td>28.290163</td>\n",
              "      <td>35.0</td>\n",
              "      <td>80.00</td>\n",
              "      <td>100.0</td>\n",
              "      <td>120.00</td>\n",
              "      <td>145.0</td>\n",
              "      <td>27.0</td>\n",
              "      <td>65.925926</td>\n",
              "      <td>18.578163</td>\n",
              "      <td>30.0</td>\n",
              "      <td>54.00</td>\n",
              "      <td>70.0</td>\n",
              "      <td>79.50</td>\n",
              "      <td>95.0</td>\n",
              "      <td>27.0</td>\n",
              "      <td>66.074074</td>\n",
              "      <td>26.054567</td>\n",
              "      <td>25.0</td>\n",
              "      <td>45.00</td>\n",
              "      <td>60.0</td>\n",
              "      <td>86.00</td>\n",
              "      <td>118.0</td>\n",
              "    </tr>\n",
              "    <tr>\n",
              "      <th>Fire</th>\n",
              "      <td>52.0</td>\n",
              "      <td>84.769231</td>\n",
              "      <td>28.769275</td>\n",
              "      <td>30.0</td>\n",
              "      <td>62.25</td>\n",
              "      <td>84.5</td>\n",
              "      <td>101.00</td>\n",
              "      <td>160.0</td>\n",
              "      <td>52.0</td>\n",
              "      <td>67.769231</td>\n",
              "      <td>23.658200</td>\n",
              "      <td>37.0</td>\n",
              "      <td>51.00</td>\n",
              "      <td>64.0</td>\n",
              "      <td>78.00</td>\n",
              "      <td>140.0</td>\n",
              "      <td>52.0</td>\n",
              "      <td>74.442308</td>\n",
              "      <td>25.245783</td>\n",
              "      <td>20.0</td>\n",
              "      <td>60.00</td>\n",
              "      <td>78.5</td>\n",
              "      <td>96.25</td>\n",
              "      <td>126.0</td>\n",
              "    </tr>\n",
              "    <tr>\n",
              "      <th>Flying</th>\n",
              "      <td>4.0</td>\n",
              "      <td>78.750000</td>\n",
              "      <td>37.500000</td>\n",
              "      <td>30.0</td>\n",
              "      <td>60.00</td>\n",
              "      <td>85.0</td>\n",
              "      <td>103.75</td>\n",
              "      <td>115.0</td>\n",
              "      <td>4.0</td>\n",
              "      <td>66.250000</td>\n",
              "      <td>21.360009</td>\n",
              "      <td>35.0</td>\n",
              "      <td>61.25</td>\n",
              "      <td>75.0</td>\n",
              "      <td>80.00</td>\n",
              "      <td>80.0</td>\n",
              "      <td>4.0</td>\n",
              "      <td>102.500000</td>\n",
              "      <td>32.098806</td>\n",
              "      <td>55.0</td>\n",
              "      <td>97.00</td>\n",
              "      <td>116.0</td>\n",
              "      <td>121.50</td>\n",
              "      <td>123.0</td>\n",
              "    </tr>\n",
              "    <tr>\n",
              "      <th>Ghost</th>\n",
              "      <td>32.0</td>\n",
              "      <td>73.781250</td>\n",
              "      <td>29.629687</td>\n",
              "      <td>30.0</td>\n",
              "      <td>53.75</td>\n",
              "      <td>66.0</td>\n",
              "      <td>92.75</td>\n",
              "      <td>165.0</td>\n",
              "      <td>32.0</td>\n",
              "      <td>81.187500</td>\n",
              "      <td>32.551138</td>\n",
              "      <td>30.0</td>\n",
              "      <td>60.00</td>\n",
              "      <td>72.5</td>\n",
              "      <td>111.00</td>\n",
              "      <td>145.0</td>\n",
              "      <td>32.0</td>\n",
              "      <td>64.343750</td>\n",
              "      <td>28.020280</td>\n",
              "      <td>20.0</td>\n",
              "      <td>44.00</td>\n",
              "      <td>60.5</td>\n",
              "      <td>84.25</td>\n",
              "      <td>130.0</td>\n",
              "    </tr>\n",
              "    <tr>\n",
              "      <th>Grass</th>\n",
              "      <td>70.0</td>\n",
              "      <td>73.214286</td>\n",
              "      <td>25.380520</td>\n",
              "      <td>27.0</td>\n",
              "      <td>55.00</td>\n",
              "      <td>70.0</td>\n",
              "      <td>93.50</td>\n",
              "      <td>132.0</td>\n",
              "      <td>70.0</td>\n",
              "      <td>70.800000</td>\n",
              "      <td>24.485192</td>\n",
              "      <td>30.0</td>\n",
              "      <td>50.00</td>\n",
              "      <td>66.0</td>\n",
              "      <td>84.50</td>\n",
              "      <td>131.0</td>\n",
              "      <td>70.0</td>\n",
              "      <td>61.928571</td>\n",
              "      <td>28.506456</td>\n",
              "      <td>10.0</td>\n",
              "      <td>40.00</td>\n",
              "      <td>58.5</td>\n",
              "      <td>80.00</td>\n",
              "      <td>145.0</td>\n",
              "    </tr>\n",
              "    <tr>\n",
              "      <th>Ground</th>\n",
              "      <td>32.0</td>\n",
              "      <td>95.750000</td>\n",
              "      <td>33.059087</td>\n",
              "      <td>40.0</td>\n",
              "      <td>72.00</td>\n",
              "      <td>85.0</td>\n",
              "      <td>121.00</td>\n",
              "      <td>180.0</td>\n",
              "      <td>32.0</td>\n",
              "      <td>84.843750</td>\n",
              "      <td>33.786912</td>\n",
              "      <td>25.0</td>\n",
              "      <td>53.75</td>\n",
              "      <td>84.5</td>\n",
              "      <td>110.00</td>\n",
              "      <td>160.0</td>\n",
              "      <td>32.0</td>\n",
              "      <td>63.906250</td>\n",
              "      <td>27.450083</td>\n",
              "      <td>10.0</td>\n",
              "      <td>40.00</td>\n",
              "      <td>65.0</td>\n",
              "      <td>90.00</td>\n",
              "      <td>120.0</td>\n",
              "    </tr>\n",
              "    <tr>\n",
              "      <th>Ice</th>\n",
              "      <td>24.0</td>\n",
              "      <td>72.750000</td>\n",
              "      <td>27.289511</td>\n",
              "      <td>30.0</td>\n",
              "      <td>50.00</td>\n",
              "      <td>67.0</td>\n",
              "      <td>87.50</td>\n",
              "      <td>130.0</td>\n",
              "      <td>24.0</td>\n",
              "      <td>71.416667</td>\n",
              "      <td>34.387708</td>\n",
              "      <td>15.0</td>\n",
              "      <td>48.75</td>\n",
              "      <td>75.0</td>\n",
              "      <td>85.00</td>\n",
              "      <td>184.0</td>\n",
              "      <td>24.0</td>\n",
              "      <td>63.458333</td>\n",
              "      <td>24.498410</td>\n",
              "      <td>25.0</td>\n",
              "      <td>48.75</td>\n",
              "      <td>62.0</td>\n",
              "      <td>80.00</td>\n",
              "      <td>110.0</td>\n",
              "    </tr>\n",
              "    <tr>\n",
              "      <th>Normal</th>\n",
              "      <td>98.0</td>\n",
              "      <td>73.469388</td>\n",
              "      <td>30.295862</td>\n",
              "      <td>5.0</td>\n",
              "      <td>55.00</td>\n",
              "      <td>70.5</td>\n",
              "      <td>85.00</td>\n",
              "      <td>160.0</td>\n",
              "      <td>98.0</td>\n",
              "      <td>59.846939</td>\n",
              "      <td>23.771833</td>\n",
              "      <td>5.0</td>\n",
              "      <td>43.25</td>\n",
              "      <td>60.0</td>\n",
              "      <td>73.75</td>\n",
              "      <td>126.0</td>\n",
              "      <td>98.0</td>\n",
              "      <td>71.551020</td>\n",
              "      <td>28.406157</td>\n",
              "      <td>5.0</td>\n",
              "      <td>50.00</td>\n",
              "      <td>71.0</td>\n",
              "      <td>90.75</td>\n",
              "      <td>135.0</td>\n",
              "    </tr>\n",
              "    <tr>\n",
              "      <th>Poison</th>\n",
              "      <td>28.0</td>\n",
              "      <td>74.678571</td>\n",
              "      <td>19.630010</td>\n",
              "      <td>43.0</td>\n",
              "      <td>60.00</td>\n",
              "      <td>74.0</td>\n",
              "      <td>90.50</td>\n",
              "      <td>106.0</td>\n",
              "      <td>28.0</td>\n",
              "      <td>68.821429</td>\n",
              "      <td>21.066128</td>\n",
              "      <td>35.0</td>\n",
              "      <td>52.75</td>\n",
              "      <td>67.0</td>\n",
              "      <td>82.25</td>\n",
              "      <td>120.0</td>\n",
              "      <td>28.0</td>\n",
              "      <td>63.571429</td>\n",
              "      <td>22.631392</td>\n",
              "      <td>25.0</td>\n",
              "      <td>50.00</td>\n",
              "      <td>62.5</td>\n",
              "      <td>77.00</td>\n",
              "      <td>130.0</td>\n",
              "    </tr>\n",
              "    <tr>\n",
              "      <th>Psychic</th>\n",
              "      <td>57.0</td>\n",
              "      <td>71.456140</td>\n",
              "      <td>42.309265</td>\n",
              "      <td>20.0</td>\n",
              "      <td>45.00</td>\n",
              "      <td>57.0</td>\n",
              "      <td>95.00</td>\n",
              "      <td>190.0</td>\n",
              "      <td>57.0</td>\n",
              "      <td>67.684211</td>\n",
              "      <td>28.359401</td>\n",
              "      <td>15.0</td>\n",
              "      <td>48.00</td>\n",
              "      <td>65.0</td>\n",
              "      <td>80.00</td>\n",
              "      <td>160.0</td>\n",
              "      <td>57.0</td>\n",
              "      <td>81.491228</td>\n",
              "      <td>37.335412</td>\n",
              "      <td>20.0</td>\n",
              "      <td>50.00</td>\n",
              "      <td>80.0</td>\n",
              "      <td>104.00</td>\n",
              "      <td>180.0</td>\n",
              "    </tr>\n",
              "    <tr>\n",
              "      <th>Rock</th>\n",
              "      <td>44.0</td>\n",
              "      <td>92.863636</td>\n",
              "      <td>35.325458</td>\n",
              "      <td>40.0</td>\n",
              "      <td>59.75</td>\n",
              "      <td>95.0</td>\n",
              "      <td>120.25</td>\n",
              "      <td>165.0</td>\n",
              "      <td>44.0</td>\n",
              "      <td>100.795455</td>\n",
              "      <td>36.447209</td>\n",
              "      <td>40.0</td>\n",
              "      <td>71.50</td>\n",
              "      <td>100.0</td>\n",
              "      <td>120.50</td>\n",
              "      <td>200.0</td>\n",
              "      <td>44.0</td>\n",
              "      <td>55.909091</td>\n",
              "      <td>29.903580</td>\n",
              "      <td>10.0</td>\n",
              "      <td>35.00</td>\n",
              "      <td>50.0</td>\n",
              "      <td>70.00</td>\n",
              "      <td>150.0</td>\n",
              "    </tr>\n",
              "    <tr>\n",
              "      <th>Steel</th>\n",
              "      <td>27.0</td>\n",
              "      <td>92.703704</td>\n",
              "      <td>30.388276</td>\n",
              "      <td>24.0</td>\n",
              "      <td>77.50</td>\n",
              "      <td>89.0</td>\n",
              "      <td>110.00</td>\n",
              "      <td>150.0</td>\n",
              "      <td>27.0</td>\n",
              "      <td>126.370370</td>\n",
              "      <td>44.806548</td>\n",
              "      <td>50.0</td>\n",
              "      <td>97.50</td>\n",
              "      <td>120.0</td>\n",
              "      <td>150.00</td>\n",
              "      <td>230.0</td>\n",
              "      <td>27.0</td>\n",
              "      <td>55.259259</td>\n",
              "      <td>25.846578</td>\n",
              "      <td>23.0</td>\n",
              "      <td>31.50</td>\n",
              "      <td>50.0</td>\n",
              "      <td>70.00</td>\n",
              "      <td>110.0</td>\n",
              "    </tr>\n",
              "    <tr>\n",
              "      <th>Water</th>\n",
              "      <td>112.0</td>\n",
              "      <td>74.151786</td>\n",
              "      <td>28.377192</td>\n",
              "      <td>10.0</td>\n",
              "      <td>53.00</td>\n",
              "      <td>72.0</td>\n",
              "      <td>92.00</td>\n",
              "      <td>155.0</td>\n",
              "      <td>112.0</td>\n",
              "      <td>72.946429</td>\n",
              "      <td>27.773809</td>\n",
              "      <td>20.0</td>\n",
              "      <td>54.50</td>\n",
              "      <td>70.0</td>\n",
              "      <td>88.50</td>\n",
              "      <td>180.0</td>\n",
              "      <td>112.0</td>\n",
              "      <td>65.964286</td>\n",
              "      <td>23.019353</td>\n",
              "      <td>15.0</td>\n",
              "      <td>50.00</td>\n",
              "      <td>65.0</td>\n",
              "      <td>82.00</td>\n",
              "      <td>122.0</td>\n",
              "    </tr>\n",
              "  </tbody>\n",
              "</table>\n",
              "</div>"
            ],
            "text/plain": [
              "         Attack                               ...  Speed                      \n",
              "          count        mean        std   min  ...    25%    50%     75%    max\n",
              "Type 1                                        ...                             \n",
              "Bug        69.0   70.971014  37.040904  10.0  ...  36.00   60.0   85.00  160.0\n",
              "Dark       31.0   88.387097  25.774247  50.0  ...  59.00   70.0   98.50  125.0\n",
              "Dragon     32.0  112.125000  33.742622  50.0  ...  65.25   90.0   97.75  120.0\n",
              "Electric   44.0   69.090909  23.764169  30.0  ...  60.00   88.0  101.50  140.0\n",
              "Fairy      17.0   61.529412  29.751298  20.0  ...  30.00   45.0   60.00   99.0\n",
              "Fighting   27.0   96.777778  28.290163  35.0  ...  45.00   60.0   86.00  118.0\n",
              "Fire       52.0   84.769231  28.769275  30.0  ...  60.00   78.5   96.25  126.0\n",
              "Flying      4.0   78.750000  37.500000  30.0  ...  97.00  116.0  121.50  123.0\n",
              "Ghost      32.0   73.781250  29.629687  30.0  ...  44.00   60.5   84.25  130.0\n",
              "Grass      70.0   73.214286  25.380520  27.0  ...  40.00   58.5   80.00  145.0\n",
              "Ground     32.0   95.750000  33.059087  40.0  ...  40.00   65.0   90.00  120.0\n",
              "Ice        24.0   72.750000  27.289511  30.0  ...  48.75   62.0   80.00  110.0\n",
              "Normal     98.0   73.469388  30.295862   5.0  ...  50.00   71.0   90.75  135.0\n",
              "Poison     28.0   74.678571  19.630010  43.0  ...  50.00   62.5   77.00  130.0\n",
              "Psychic    57.0   71.456140  42.309265  20.0  ...  50.00   80.0  104.00  180.0\n",
              "Rock       44.0   92.863636  35.325458  40.0  ...  35.00   50.0   70.00  150.0\n",
              "Steel      27.0   92.703704  30.388276  24.0  ...  31.50   50.0   70.00  110.0\n",
              "Water     112.0   74.151786  28.377192  10.0  ...  50.00   65.0   82.00  122.0\n",
              "\n",
              "[18 rows x 24 columns]"
            ]
          },
          "metadata": {
            "tags": []
          },
          "execution_count": 57
        }
      ]
    },
    {
      "cell_type": "markdown",
      "metadata": {
        "id": "XXBZEGMKg2d-"
      },
      "source": [
        "8) groupby :n()"
      ]
    },
    {
      "cell_type": "markdown",
      "metadata": {
        "id": "pYYFNOGzg7i-"
      },
      "source": [
        "The aggregating function nth(), gives nth value, in each group."
      ]
    },
    {
      "cell_type": "code",
      "metadata": {
        "id": "BCF3Bcjx6Bfh",
        "colab": {
          "base_uri": "https://localhost:8080/",
          "height": 613
        },
        "outputId": "0416c6a3-dbf9-4cb5-c19a-2d7a1637a26e"
      },
      "source": [
        "pokemon_df.groupby(\"Type 1\").nth(10) "
      ],
      "execution_count": 58,
      "outputs": [
        {
          "output_type": "execute_result",
          "data": {
            "text/html": [
              "<div>\n",
              "<style scoped>\n",
              "    .dataframe tbody tr th:only-of-type {\n",
              "        vertical-align: middle;\n",
              "    }\n",
              "\n",
              "    .dataframe tbody tr th {\n",
              "        vertical-align: top;\n",
              "    }\n",
              "\n",
              "    .dataframe thead th {\n",
              "        text-align: right;\n",
              "    }\n",
              "</style>\n",
              "<table border=\"1\" class=\"dataframe\">\n",
              "  <thead>\n",
              "    <tr style=\"text-align: right;\">\n",
              "      <th></th>\n",
              "      <th>Name</th>\n",
              "      <th>Attack</th>\n",
              "      <th>Defense</th>\n",
              "      <th>Speed</th>\n",
              "    </tr>\n",
              "    <tr>\n",
              "      <th>Type 1</th>\n",
              "      <th></th>\n",
              "      <th></th>\n",
              "      <th></th>\n",
              "      <th></th>\n",
              "    </tr>\n",
              "  </thead>\n",
              "  <tbody>\n",
              "    <tr>\n",
              "      <th>Bug</th>\n",
              "      <td>Venomoth</td>\n",
              "      <td>65</td>\n",
              "      <td>60</td>\n",
              "      <td>90</td>\n",
              "    </tr>\n",
              "    <tr>\n",
              "      <th>Dark</th>\n",
              "      <td>Absol</td>\n",
              "      <td>130</td>\n",
              "      <td>60</td>\n",
              "      <td>75</td>\n",
              "    </tr>\n",
              "    <tr>\n",
              "      <th>Dragon</th>\n",
              "      <td>LatiasMega Latias</td>\n",
              "      <td>100</td>\n",
              "      <td>120</td>\n",
              "      <td>110</td>\n",
              "    </tr>\n",
              "    <tr>\n",
              "      <th>Electric</th>\n",
              "      <td>Mareep</td>\n",
              "      <td>40</td>\n",
              "      <td>40</td>\n",
              "      <td>35</td>\n",
              "    </tr>\n",
              "    <tr>\n",
              "      <th>Fairy</th>\n",
              "      <td>Florges</td>\n",
              "      <td>65</td>\n",
              "      <td>68</td>\n",
              "      <td>75</td>\n",
              "    </tr>\n",
              "    <tr>\n",
              "      <th>Fighting</th>\n",
              "      <td>Hariyama</td>\n",
              "      <td>120</td>\n",
              "      <td>60</td>\n",
              "      <td>50</td>\n",
              "    </tr>\n",
              "    <tr>\n",
              "      <th>Fire</th>\n",
              "      <td>Rapidash</td>\n",
              "      <td>100</td>\n",
              "      <td>70</td>\n",
              "      <td>105</td>\n",
              "    </tr>\n",
              "    <tr>\n",
              "      <th>Ghost</th>\n",
              "      <td>Drifloon</td>\n",
              "      <td>50</td>\n",
              "      <td>34</td>\n",
              "      <td>70</td>\n",
              "    </tr>\n",
              "    <tr>\n",
              "      <th>Grass</th>\n",
              "      <td>Exeggcute</td>\n",
              "      <td>40</td>\n",
              "      <td>80</td>\n",
              "      <td>40</td>\n",
              "    </tr>\n",
              "    <tr>\n",
              "      <th>Ground</th>\n",
              "      <td>Donphan</td>\n",
              "      <td>120</td>\n",
              "      <td>120</td>\n",
              "      <td>50</td>\n",
              "    </tr>\n",
              "    <tr>\n",
              "      <th>Ice</th>\n",
              "      <td>Sealeo</td>\n",
              "      <td>60</td>\n",
              "      <td>70</td>\n",
              "      <td>45</td>\n",
              "    </tr>\n",
              "    <tr>\n",
              "      <th>Normal</th>\n",
              "      <td>Meowth</td>\n",
              "      <td>45</td>\n",
              "      <td>35</td>\n",
              "      <td>90</td>\n",
              "    </tr>\n",
              "    <tr>\n",
              "      <th>Poison</th>\n",
              "      <td>Grimer</td>\n",
              "      <td>80</td>\n",
              "      <td>50</td>\n",
              "      <td>25</td>\n",
              "    </tr>\n",
              "    <tr>\n",
              "      <th>Psychic</th>\n",
              "      <td>Mew</td>\n",
              "      <td>100</td>\n",
              "      <td>100</td>\n",
              "      <td>100</td>\n",
              "    </tr>\n",
              "    <tr>\n",
              "      <th>Rock</th>\n",
              "      <td>Sudowoodo</td>\n",
              "      <td>100</td>\n",
              "      <td>115</td>\n",
              "      <td>30</td>\n",
              "    </tr>\n",
              "    <tr>\n",
              "      <th>Steel</th>\n",
              "      <td>Metang</td>\n",
              "      <td>75</td>\n",
              "      <td>100</td>\n",
              "      <td>50</td>\n",
              "    </tr>\n",
              "    <tr>\n",
              "      <th>Water</th>\n",
              "      <td>Tentacruel</td>\n",
              "      <td>70</td>\n",
              "      <td>65</td>\n",
              "      <td>100</td>\n",
              "    </tr>\n",
              "  </tbody>\n",
              "</table>\n",
              "</div>"
            ],
            "text/plain": [
              "                       Name  Attack  Defense  Speed\n",
              "Type 1                                             \n",
              "Bug                Venomoth      65       60     90\n",
              "Dark                  Absol     130       60     75\n",
              "Dragon    LatiasMega Latias     100      120    110\n",
              "Electric             Mareep      40       40     35\n",
              "Fairy               Florges      65       68     75\n",
              "Fighting           Hariyama     120       60     50\n",
              "Fire               Rapidash     100       70    105\n",
              "Ghost              Drifloon      50       34     70\n",
              "Grass             Exeggcute      40       80     40\n",
              "Ground              Donphan     120      120     50\n",
              "Ice                  Sealeo      60       70     45\n",
              "Normal               Meowth      45       35     90\n",
              "Poison               Grimer      80       50     25\n",
              "Psychic                 Mew     100      100    100\n",
              "Rock              Sudowoodo     100      115     30\n",
              "Steel                Metang      75      100     50\n",
              "Water            Tentacruel      70       65    100"
            ]
          },
          "metadata": {
            "tags": []
          },
          "execution_count": 58
        }
      ]
    },
    {
      "cell_type": "markdown",
      "metadata": {
        "id": "0prR9e_WhAFy"
      },
      "source": [
        "9) min() and max()"
      ]
    },
    {
      "cell_type": "markdown",
      "metadata": {
        "id": "l7F_Hz4ZhDsh"
      },
      "source": [
        "min() and max() function are used to get minimum and maximum value per group respectively."
      ]
    },
    {
      "cell_type": "code",
      "metadata": {
        "id": "PtKxGklS6Ysq",
        "colab": {
          "base_uri": "https://localhost:8080/",
          "height": 175
        },
        "outputId": "9e52294a-d6f0-49fb-9576-281e9f7f169b"
      },
      "source": [
        "pokemon_df.groupby(\"Type 1\").min().head(3)"
      ],
      "execution_count": 59,
      "outputs": [
        {
          "output_type": "execute_result",
          "data": {
            "text/html": [
              "<div>\n",
              "<style scoped>\n",
              "    .dataframe tbody tr th:only-of-type {\n",
              "        vertical-align: middle;\n",
              "    }\n",
              "\n",
              "    .dataframe tbody tr th {\n",
              "        vertical-align: top;\n",
              "    }\n",
              "\n",
              "    .dataframe thead th {\n",
              "        text-align: right;\n",
              "    }\n",
              "</style>\n",
              "<table border=\"1\" class=\"dataframe\">\n",
              "  <thead>\n",
              "    <tr style=\"text-align: right;\">\n",
              "      <th></th>\n",
              "      <th>Name</th>\n",
              "      <th>Attack</th>\n",
              "      <th>Defense</th>\n",
              "      <th>Speed</th>\n",
              "    </tr>\n",
              "    <tr>\n",
              "      <th>Type 1</th>\n",
              "      <th></th>\n",
              "      <th></th>\n",
              "      <th></th>\n",
              "      <th></th>\n",
              "    </tr>\n",
              "  </thead>\n",
              "  <tbody>\n",
              "    <tr>\n",
              "      <th>Bug</th>\n",
              "      <td>Accelgor</td>\n",
              "      <td>10</td>\n",
              "      <td>30</td>\n",
              "      <td>5</td>\n",
              "    </tr>\n",
              "    <tr>\n",
              "      <th>Dark</th>\n",
              "      <td>Absol</td>\n",
              "      <td>50</td>\n",
              "      <td>30</td>\n",
              "      <td>20</td>\n",
              "    </tr>\n",
              "    <tr>\n",
              "      <th>Dragon</th>\n",
              "      <td>Altaria</td>\n",
              "      <td>50</td>\n",
              "      <td>35</td>\n",
              "      <td>40</td>\n",
              "    </tr>\n",
              "  </tbody>\n",
              "</table>\n",
              "</div>"
            ],
            "text/plain": [
              "            Name  Attack  Defense  Speed\n",
              "Type 1                                  \n",
              "Bug     Accelgor      10       30      5\n",
              "Dark       Absol      50       30     20\n",
              "Dragon   Altaria      50       35     40"
            ]
          },
          "metadata": {
            "tags": []
          },
          "execution_count": 59
        }
      ]
    },
    {
      "cell_type": "code",
      "metadata": {
        "id": "3GpsG_4e63NY",
        "colab": {
          "base_uri": "https://localhost:8080/",
          "height": 143
        },
        "outputId": "6e59f80d-69b0-4d9e-c6aa-96196f5a8881"
      },
      "source": [
        "pokemon_df.groupby(\"Type 1\").max().head(2)"
      ],
      "execution_count": 60,
      "outputs": [
        {
          "output_type": "execute_result",
          "data": {
            "text/html": [
              "<div>\n",
              "<style scoped>\n",
              "    .dataframe tbody tr th:only-of-type {\n",
              "        vertical-align: middle;\n",
              "    }\n",
              "\n",
              "    .dataframe tbody tr th {\n",
              "        vertical-align: top;\n",
              "    }\n",
              "\n",
              "    .dataframe thead th {\n",
              "        text-align: right;\n",
              "    }\n",
              "</style>\n",
              "<table border=\"1\" class=\"dataframe\">\n",
              "  <thead>\n",
              "    <tr style=\"text-align: right;\">\n",
              "      <th></th>\n",
              "      <th>Name</th>\n",
              "      <th>Attack</th>\n",
              "      <th>Defense</th>\n",
              "      <th>Speed</th>\n",
              "    </tr>\n",
              "    <tr>\n",
              "      <th>Type 1</th>\n",
              "      <th></th>\n",
              "      <th></th>\n",
              "      <th></th>\n",
              "      <th></th>\n",
              "    </tr>\n",
              "  </thead>\n",
              "  <tbody>\n",
              "    <tr>\n",
              "      <th>Bug</th>\n",
              "      <td>Yanmega</td>\n",
              "      <td>185</td>\n",
              "      <td>230</td>\n",
              "      <td>160</td>\n",
              "    </tr>\n",
              "    <tr>\n",
              "      <th>Dark</th>\n",
              "      <td>Zweilous</td>\n",
              "      <td>150</td>\n",
              "      <td>125</td>\n",
              "      <td>125</td>\n",
              "    </tr>\n",
              "  </tbody>\n",
              "</table>\n",
              "</div>"
            ],
            "text/plain": [
              "            Name  Attack  Defense  Speed\n",
              "Type 1                                  \n",
              "Bug      Yanmega     185      230    160\n",
              "Dark    Zweilous     150      125    125"
            ]
          },
          "metadata": {
            "tags": []
          },
          "execution_count": 60
        }
      ]
    },
    {
      "cell_type": "markdown",
      "metadata": {
        "id": "UawUR4OI7f3K"
      },
      "source": [
        "\n",
        "\n",
        "---\n",
        "\n"
      ]
    },
    {
      "cell_type": "markdown",
      "metadata": {
        "id": "UEbn4aoi7Yiv"
      },
      "source": [
        "                                                     7. Appending rows and columns to the Data frame"
      ]
    },
    {
      "cell_type": "markdown",
      "metadata": {
        "id": "HhbBTwkb7vwp"
      },
      "source": [
        "dataframe.append() function is used to append rows of other dataframe to the end of the given dataframe, returning a new dataframe object. Columns not in the original dataframes are added as new columns and the new cells are populated with NaN value."
      ]
    },
    {
      "cell_type": "markdown",
      "metadata": {
        "id": "7iOzSCcq896n"
      },
      "source": [
        "    1) appending one dataframe to another \n",
        "\n"
      ]
    },
    {
      "cell_type": "code",
      "metadata": {
        "id": "cDxr8g8x-TRw"
      },
      "source": [
        "# Creating the first Dataframe using dictionary\n",
        "df1 = pd.DataFrame({\"movie\":[ 'Inception', 'Avengers: Infinity War','Back to the Future','Spider-Man: Into the Spider-Verse'],\n",
        "                         \"year\":[2010,2018,1985, 2018]})\n",
        "# Creating the Second Dataframe using dictionary\n",
        "df2 = pd.DataFrame({\"movie\":[ 'Like Stars on Earth','A Silent Voice','Bill Burr: Im Sorry You Feel That Way','The Pianist' ],\n",
        "                    \"year\":[2007,2016,2014,2002]})\n",
        "## to append df2 at the end of df1 dataframe\n",
        "df1.append(df2)\n",
        "df1"
      ],
      "execution_count": null,
      "outputs": []
    },
    {
      "cell_type": "markdown",
      "metadata": {
        "id": "Jk9d_rVg_zYF"
      },
      "source": [
        "    2) appending one dataframe to another with index value ignored"
      ]
    },
    {
      "cell_type": "code",
      "metadata": {
        "id": "GaQxoJXA_7d_"
      },
      "source": [
        "df1.append(df2, ignore_index = True)\n",
        "df1"
      ],
      "execution_count": null,
      "outputs": []
    },
    {
      "cell_type": "markdown",
      "metadata": {
        "id": "Yx5kBKGGAJrH"
      },
      "source": [
        "    3) Append dataframe of different shape"
      ]
    },
    {
      "cell_type": "code",
      "metadata": {
        "id": "YWzcKoGUAdlJ"
      },
      "source": [
        "left = pd.DataFrame({\n",
        "   'id':[1,2,3,4,5],\n",
        "   'Name': ['Bulbasaur', 'Wartortle', 'Flareon', 'Kakuna', 'Pikachu'],\n",
        "   'type':['Grass','Water','Fire','Bug','Electric']})\n",
        "right = pd.DataFrame(\n",
        "   {'id':[1,2,3,4,5],\n",
        "   'Name': ['Lapras', 'Magmar', 'Arbok', 'Beedrill', 'Raichu']})\n",
        "left.append(right, ignore_index = True)\n",
        "# the new cells are populated with NaN values."
      ],
      "execution_count": null,
      "outputs": []
    },
    {
      "cell_type": "markdown",
      "metadata": {
        "id": "Nnak1hmDBJlD"
      },
      "source": [
        "    3) Add a single row using DataFrame.loc "
      ]
    },
    {
      "cell_type": "code",
      "metadata": {
        "id": "zB-lB8_EBT-a"
      },
      "source": [
        "import pandas as pd\n",
        "from numpy.random import randint\n",
        "dict = {'Name': ['Bulbasaur', 'Wartortle', 'Flareon', 'Kakuna', 'Pikachu'],\n",
        "        'type':['Grass','Water','Fire','Bug','Electric']\n",
        "       }\n",
        "df = pd.DataFrame(dict)\n",
        "df.loc[len(df.index)] = ['Ratatta','Grass'] \n",
        "display(df)"
      ],
      "execution_count": null,
      "outputs": []
    },
    {
      "cell_type": "markdown",
      "metadata": {
        "id": "L3tjceXPEMlv"
      },
      "source": [
        "    4) Adding new column to existing DataFrame  by declaring a new list as a column"
      ]
    },
    {
      "cell_type": "code",
      "metadata": {
        "id": "s9vP_aknFlE0",
        "colab": {
          "base_uri": "https://localhost:8080/",
          "height": 175
        },
        "outputId": "662392e0-388a-4298-8ab5-b92f966b07ec"
      },
      "source": [
        "# Import pandas package \n",
        "import pandas as pd\n",
        "# Define a dictionary containing Students data\n",
        "movi= {'Name': ['Snow White and the Seven Dwarfs', 'Pinocchio', 'Cinderella', 'Born Yesterday'],\n",
        "        'Year': [1937,1940,1950,1993]}\n",
        "# Convert the dictionary into DataFrame\n",
        "df = pd.DataFrame(movi)\n",
        "# Declare a list that is to be converted into a column\n",
        "Genre = ['Musical', 'Adventure', 'Drama', 'Romantic Comedy']\n",
        "# Using 'Address' as the column name and equating it to the list\n",
        "df['Genre'] = Genre\n",
        "df"
      ],
      "execution_count": 61,
      "outputs": [
        {
          "output_type": "execute_result",
          "data": {
            "text/html": [
              "<div>\n",
              "<style scoped>\n",
              "    .dataframe tbody tr th:only-of-type {\n",
              "        vertical-align: middle;\n",
              "    }\n",
              "\n",
              "    .dataframe tbody tr th {\n",
              "        vertical-align: top;\n",
              "    }\n",
              "\n",
              "    .dataframe thead th {\n",
              "        text-align: right;\n",
              "    }\n",
              "</style>\n",
              "<table border=\"1\" class=\"dataframe\">\n",
              "  <thead>\n",
              "    <tr style=\"text-align: right;\">\n",
              "      <th></th>\n",
              "      <th>Name</th>\n",
              "      <th>Year</th>\n",
              "      <th>Genre</th>\n",
              "    </tr>\n",
              "  </thead>\n",
              "  <tbody>\n",
              "    <tr>\n",
              "      <th>0</th>\n",
              "      <td>Snow White and the Seven Dwarfs</td>\n",
              "      <td>1937</td>\n",
              "      <td>Musical</td>\n",
              "    </tr>\n",
              "    <tr>\n",
              "      <th>1</th>\n",
              "      <td>Pinocchio</td>\n",
              "      <td>1940</td>\n",
              "      <td>Adventure</td>\n",
              "    </tr>\n",
              "    <tr>\n",
              "      <th>2</th>\n",
              "      <td>Cinderella</td>\n",
              "      <td>1950</td>\n",
              "      <td>Drama</td>\n",
              "    </tr>\n",
              "    <tr>\n",
              "      <th>3</th>\n",
              "      <td>Born Yesterday</td>\n",
              "      <td>1993</td>\n",
              "      <td>Romantic Comedy</td>\n",
              "    </tr>\n",
              "  </tbody>\n",
              "</table>\n",
              "</div>"
            ],
            "text/plain": [
              "                              Name  Year            Genre\n",
              "0  Snow White and the Seven Dwarfs  1937          Musical\n",
              "1                        Pinocchio  1940        Adventure\n",
              "2                       Cinderella  1950            Drama\n",
              "3                   Born Yesterday  1993  Romantic Comedy"
            ]
          },
          "metadata": {
            "tags": []
          },
          "execution_count": 61
        }
      ]
    },
    {
      "cell_type": "markdown",
      "metadata": {
        "id": "Kcj-5H-rG84w"
      },
      "source": [
        "    5) Adding new column to existing DataFrame using DataFrame.insert()"
      ]
    },
    {
      "cell_type": "markdown",
      "metadata": {
        "id": "4FcZiZ-YHPZu"
      },
      "source": [
        "It gives the freedom to add a column at any position we like and not just at the end. It also provides different options for inserting the column values."
      ]
    },
    {
      "cell_type": "code",
      "metadata": {
        "id": "De5JzI5WH9v_"
      },
      "source": [
        "df.insert(2, \"Rating\", ['G','G','G','PG'], True)\n",
        "df"
      ],
      "execution_count": null,
      "outputs": []
    },
    {
      "cell_type": "markdown",
      "metadata": {
        "id": "NdReBKv5IUiN"
      },
      "source": [
        "    6)  Adding new column to existing DataFrame using  Dataframe.assign() method"
      ]
    },
    {
      "cell_type": "markdown",
      "metadata": {
        "id": "5slRuRSHIdTH"
      },
      "source": [
        "This method will create a new dataframe with new column added to the old dataframe.\n",
        "\n"
      ]
    },
    {
      "cell_type": "code",
      "metadata": {
        "id": "MWoUIi7ZIjqq"
      },
      "source": [
        "import pandas as pd\n",
        "movie= {'Name': ['Snow White and the Seven Dwarfs', 'Pinocchio', 'Cinderella', 'Born Yesterday'],\n",
        "        'Year': [1937,1940,1950,1993]}  \n",
        "df = pd.DataFrame(movie)\n",
        "# Using 'Genre' as the column name and equating it to the list\n",
        "df2 = df.assign(Genre = ['Musical', 'Adventure', 'Drama', 'Romantic Comedy'])\n",
        "   \n",
        "# Observe the result\n",
        "df2"
      ],
      "execution_count": null,
      "outputs": []
    },
    {
      "cell_type": "markdown",
      "metadata": {
        "id": "AZbhdCa8I_--"
      },
      "source": [
        "     7) Adding new column to existing DataFrame using Dictionary"
      ]
    },
    {
      "cell_type": "markdown",
      "metadata": {
        "id": "Jj9MFwm-JKTw"
      },
      "source": [
        "We can use a Python dictionary to add a new column in pandas DataFrame. Use an existing column as the key values and their respective values will be the values for new column."
      ]
    },
    {
      "cell_type": "code",
      "metadata": {
        "id": "m0c5RggWLeen",
        "colab": {
          "base_uri": "https://localhost:8080/",
          "height": 175
        },
        "outputId": "be784335-d2ca-4f66-faf5-972e2d523267"
      },
      "source": [
        "import pandas as pd\n",
        "data1 = {'Name': ['Hulk', 'Black Widow', 'Wanda', 'Vision']}\n",
        "# Define a dictionary with key values of an existing column and their respective value pairs as the # values for our new column.\n",
        "# Convert the dictionary into DataFrame\n",
        "actor= {'Mark Ruffalo': 'Hulk', 'Scarlett Johansson': 'Black Widow','Elizabeth Olsen':'Wanda', 'Paul Bettany':'Vision'} \n",
        "df = pd.DataFrame(data1)\n",
        "df['actor'] =actor\n",
        "df\n"
      ],
      "execution_count": 63,
      "outputs": [
        {
          "output_type": "execute_result",
          "data": {
            "text/html": [
              "<div>\n",
              "<style scoped>\n",
              "    .dataframe tbody tr th:only-of-type {\n",
              "        vertical-align: middle;\n",
              "    }\n",
              "\n",
              "    .dataframe tbody tr th {\n",
              "        vertical-align: top;\n",
              "    }\n",
              "\n",
              "    .dataframe thead th {\n",
              "        text-align: right;\n",
              "    }\n",
              "</style>\n",
              "<table border=\"1\" class=\"dataframe\">\n",
              "  <thead>\n",
              "    <tr style=\"text-align: right;\">\n",
              "      <th></th>\n",
              "      <th>Name</th>\n",
              "      <th>actor</th>\n",
              "    </tr>\n",
              "  </thead>\n",
              "  <tbody>\n",
              "    <tr>\n",
              "      <th>0</th>\n",
              "      <td>Hulk</td>\n",
              "      <td>Mark Ruffalo</td>\n",
              "    </tr>\n",
              "    <tr>\n",
              "      <th>1</th>\n",
              "      <td>Black Widow</td>\n",
              "      <td>Scarlett Johansson</td>\n",
              "    </tr>\n",
              "    <tr>\n",
              "      <th>2</th>\n",
              "      <td>Wanda</td>\n",
              "      <td>Elizabeth Olsen</td>\n",
              "    </tr>\n",
              "    <tr>\n",
              "      <th>3</th>\n",
              "      <td>Vision</td>\n",
              "      <td>Paul Bettany</td>\n",
              "    </tr>\n",
              "  </tbody>\n",
              "</table>\n",
              "</div>"
            ],
            "text/plain": [
              "          Name               actor\n",
              "0         Hulk        Mark Ruffalo\n",
              "1  Black Widow  Scarlett Johansson\n",
              "2        Wanda     Elizabeth Olsen\n",
              "3       Vision        Paul Bettany"
            ]
          },
          "metadata": {
            "tags": []
          },
          "execution_count": 63
        }
      ]
    },
    {
      "cell_type": "markdown",
      "metadata": {
        "id": "oe1Ea4QYmGIz"
      },
      "source": [
        "\n",
        "\n",
        "---\n",
        "\n"
      ]
    },
    {
      "cell_type": "markdown",
      "metadata": {
        "id": "Ln2n4A82MnQk"
      },
      "source": [
        "                                                       8. Pivoting operations with Data Frame"
      ]
    },
    {
      "cell_type": "markdown",
      "metadata": {
        "id": "d_9KsesjAm4e"
      },
      "source": [
        "The pivot() function is used to reshaped a given DataFrame organized by given index / column values."
      ]
    },
    {
      "cell_type": "markdown",
      "metadata": {
        "id": "PFW3Q-c3A6vS"
      },
      "source": [
        " 1) pivot()"
      ]
    },
    {
      "cell_type": "code",
      "metadata": {
        "id": "tU3grqodBQFG"
      },
      "source": [
        "pokemon_df.pivot(index ='Name',columns = 'Type 1',values = 'Speed' ).head(5)"
      ],
      "execution_count": null,
      "outputs": []
    },
    {
      "cell_type": "markdown",
      "metadata": {
        "id": "N5pg_s9BCAqM"
      },
      "source": [
        "2) pivot_table()"
      ]
    },
    {
      "cell_type": "markdown",
      "metadata": {
        "id": "MZFK_RMqJ9w6"
      },
      "source": [
        "It Creates a spreadsheet-style pivot table as a DataFrame.\n",
        "The levels in the pivot table will be stored in MultiIndex objects (hierarchical indexes) on the index and columns of the result DataFrame."
      ]
    },
    {
      "cell_type": "code",
      "metadata": {
        "colab": {
          "base_uri": "https://localhost:8080/",
          "height": 112
        },
        "id": "cKbeRXN2jgO7",
        "outputId": "51bbcccf-af94-463e-930c-24cc338f6c5b"
      },
      "source": [
        "\n",
        "df2 = pd.pivot_table(data = pokemon_df,index = 'Name',columns = 'Type 1',values ='Speed')\n",
        "df2.sample()"
      ],
      "execution_count": 67,
      "outputs": [
        {
          "output_type": "execute_result",
          "data": {
            "text/html": [
              "<div>\n",
              "<style scoped>\n",
              "    .dataframe tbody tr th:only-of-type {\n",
              "        vertical-align: middle;\n",
              "    }\n",
              "\n",
              "    .dataframe tbody tr th {\n",
              "        vertical-align: top;\n",
              "    }\n",
              "\n",
              "    .dataframe thead th {\n",
              "        text-align: right;\n",
              "    }\n",
              "</style>\n",
              "<table border=\"1\" class=\"dataframe\">\n",
              "  <thead>\n",
              "    <tr style=\"text-align: right;\">\n",
              "      <th>Type 1</th>\n",
              "      <th>Bug</th>\n",
              "      <th>Dark</th>\n",
              "      <th>Dragon</th>\n",
              "      <th>Electric</th>\n",
              "      <th>Fairy</th>\n",
              "      <th>Fighting</th>\n",
              "      <th>Fire</th>\n",
              "      <th>Flying</th>\n",
              "      <th>Ghost</th>\n",
              "      <th>Grass</th>\n",
              "      <th>Ground</th>\n",
              "      <th>Ice</th>\n",
              "      <th>Normal</th>\n",
              "      <th>Poison</th>\n",
              "      <th>Psychic</th>\n",
              "      <th>Rock</th>\n",
              "      <th>Steel</th>\n",
              "      <th>Water</th>\n",
              "    </tr>\n",
              "    <tr>\n",
              "      <th>Name</th>\n",
              "      <th></th>\n",
              "      <th></th>\n",
              "      <th></th>\n",
              "      <th></th>\n",
              "      <th></th>\n",
              "      <th></th>\n",
              "      <th></th>\n",
              "      <th></th>\n",
              "      <th></th>\n",
              "      <th></th>\n",
              "      <th></th>\n",
              "      <th></th>\n",
              "      <th></th>\n",
              "      <th></th>\n",
              "      <th></th>\n",
              "      <th></th>\n",
              "      <th></th>\n",
              "      <th></th>\n",
              "    </tr>\n",
              "  </thead>\n",
              "  <tbody>\n",
              "    <tr>\n",
              "      <th>Eelektrik</th>\n",
              "      <td>NaN</td>\n",
              "      <td>NaN</td>\n",
              "      <td>NaN</td>\n",
              "      <td>40.0</td>\n",
              "      <td>NaN</td>\n",
              "      <td>NaN</td>\n",
              "      <td>NaN</td>\n",
              "      <td>NaN</td>\n",
              "      <td>NaN</td>\n",
              "      <td>NaN</td>\n",
              "      <td>NaN</td>\n",
              "      <td>NaN</td>\n",
              "      <td>NaN</td>\n",
              "      <td>NaN</td>\n",
              "      <td>NaN</td>\n",
              "      <td>NaN</td>\n",
              "      <td>NaN</td>\n",
              "      <td>NaN</td>\n",
              "    </tr>\n",
              "  </tbody>\n",
              "</table>\n",
              "</div>"
            ],
            "text/plain": [
              "Type 1     Bug  Dark  Dragon  Electric  ...  Psychic  Rock  Steel  Water\n",
              "Name                                    ...                             \n",
              "Eelektrik  NaN   NaN     NaN      40.0  ...      NaN   NaN    NaN    NaN\n",
              "\n",
              "[1 rows x 18 columns]"
            ]
          },
          "metadata": {
            "tags": []
          },
          "execution_count": 67
        }
      ]
    },
    {
      "cell_type": "markdown",
      "metadata": {
        "id": "Glan1WhSOPrB"
      },
      "source": [
        "                                                       9.Different possible operations to a Data Frame\n"
      ]
    },
    {
      "cell_type": "markdown",
      "metadata": {
        "id": "hjWY1qOskV8h"
      },
      "source": [
        "some more methods which are useful for dataframe operations  are"
      ]
    },
    {
      "cell_type": "markdown",
      "metadata": {
        "id": "XKPYCgrMPD7P"
      },
      "source": [
        "1)  Slicing of rows\n",
        "    "
      ]
    },
    {
      "cell_type": "markdown",
      "metadata": {
        "id": "eHNSipJOPVIE"
      },
      "source": [
        "We can perform slicing operations to get the desired number of rows from within a given range.\n",
        "With the help of slicing, we can perform various operations only on the specific subset of the data"
      ]
    },
    {
      "cell_type": "code",
      "metadata": {
        "id": "doKgn5gXO4Xx"
      },
      "source": [
        "# slicing the number of rows \n",
        "df1 = pokemon_df[10:15]\n",
        "df1"
      ],
      "execution_count": null,
      "outputs": []
    },
    {
      "cell_type": "markdown",
      "metadata": {
        "id": "6-BgmpeyPawQ"
      },
      "source": [
        "2) Selecting specific columns"
      ]
    },
    {
      "cell_type": "markdown",
      "metadata": {
        "id": "f63H5HtTPeqO"
      },
      "source": [
        "To select a particular column or to select number of columns from the dataframe for further processing of data."
      ]
    },
    {
      "cell_type": "code",
      "metadata": {
        "id": "RycjbHhnPkyL"
      },
      "source": [
        "df2 = pokemon_df.loc[:, ['Name','Type 1']]\n",
        "df2.head(5)"
      ],
      "execution_count": null,
      "outputs": []
    },
    {
      "cell_type": "markdown",
      "metadata": {
        "id": "M3Dz1oMxP33i"
      },
      "source": [
        "3) Summarize the data"
      ]
    },
    {
      "cell_type": "markdown",
      "metadata": {
        "id": "NkZ-qZX4P95R"
      },
      "source": [
        "In order to get insights from data, we must have a statistical summary of data. To display a statistical summary of the data such as mean, median, mode, std etc."
      ]
    },
    {
      "cell_type": "code",
      "metadata": {
        "id": "6VAy_MMnQKEq",
        "colab": {
          "base_uri": "https://localhost:8080/",
          "height": 300
        },
        "outputId": "ae8a6b22-a2a6-4bce-c6c6-1460762e1e55"
      },
      "source": [
        "pokemon_df.describe()"
      ],
      "execution_count": 89,
      "outputs": [
        {
          "output_type": "execute_result",
          "data": {
            "text/html": [
              "<div>\n",
              "<style scoped>\n",
              "    .dataframe tbody tr th:only-of-type {\n",
              "        vertical-align: middle;\n",
              "    }\n",
              "\n",
              "    .dataframe tbody tr th {\n",
              "        vertical-align: top;\n",
              "    }\n",
              "\n",
              "    .dataframe thead th {\n",
              "        text-align: right;\n",
              "    }\n",
              "</style>\n",
              "<table border=\"1\" class=\"dataframe\">\n",
              "  <thead>\n",
              "    <tr style=\"text-align: right;\">\n",
              "      <th></th>\n",
              "      <th>Attack</th>\n",
              "      <th>Defense</th>\n",
              "      <th>Speed</th>\n",
              "    </tr>\n",
              "  </thead>\n",
              "  <tbody>\n",
              "    <tr>\n",
              "      <th>count</th>\n",
              "      <td>800.000000</td>\n",
              "      <td>800.000000</td>\n",
              "      <td>800.000000</td>\n",
              "    </tr>\n",
              "    <tr>\n",
              "      <th>mean</th>\n",
              "      <td>79.001250</td>\n",
              "      <td>73.842500</td>\n",
              "      <td>68.277500</td>\n",
              "    </tr>\n",
              "    <tr>\n",
              "      <th>std</th>\n",
              "      <td>32.457366</td>\n",
              "      <td>31.183501</td>\n",
              "      <td>29.060474</td>\n",
              "    </tr>\n",
              "    <tr>\n",
              "      <th>min</th>\n",
              "      <td>5.000000</td>\n",
              "      <td>5.000000</td>\n",
              "      <td>5.000000</td>\n",
              "    </tr>\n",
              "    <tr>\n",
              "      <th>25%</th>\n",
              "      <td>55.000000</td>\n",
              "      <td>50.000000</td>\n",
              "      <td>45.000000</td>\n",
              "    </tr>\n",
              "    <tr>\n",
              "      <th>50%</th>\n",
              "      <td>75.000000</td>\n",
              "      <td>70.000000</td>\n",
              "      <td>65.000000</td>\n",
              "    </tr>\n",
              "    <tr>\n",
              "      <th>75%</th>\n",
              "      <td>100.000000</td>\n",
              "      <td>90.000000</td>\n",
              "      <td>90.000000</td>\n",
              "    </tr>\n",
              "    <tr>\n",
              "      <th>max</th>\n",
              "      <td>190.000000</td>\n",
              "      <td>230.000000</td>\n",
              "      <td>180.000000</td>\n",
              "    </tr>\n",
              "  </tbody>\n",
              "</table>\n",
              "</div>"
            ],
            "text/plain": [
              "           Attack     Defense       Speed\n",
              "count  800.000000  800.000000  800.000000\n",
              "mean    79.001250   73.842500   68.277500\n",
              "std     32.457366   31.183501   29.060474\n",
              "min      5.000000    5.000000    5.000000\n",
              "25%     55.000000   50.000000   45.000000\n",
              "50%     75.000000   70.000000   65.000000\n",
              "75%    100.000000   90.000000   90.000000\n",
              "max    190.000000  230.000000  180.000000"
            ]
          },
          "metadata": {
            "tags": []
          },
          "execution_count": 89
        }
      ]
    },
    {
      "cell_type": "markdown",
      "metadata": {
        "id": "-89M9nwzQST-"
      },
      "source": [
        "4) Sort data with respect to a column"
      ]
    },
    {
      "cell_type": "code",
      "metadata": {
        "id": "DeI8Kd_fQXIn",
        "colab": {
          "base_uri": "https://localhost:8080/",
          "height": 206
        },
        "outputId": "16b0201b-ee11-4b01-e5ca-38c62a7713a5"
      },
      "source": [
        "pokemon_df.sort_values(by ='Speed').head()"
      ],
      "execution_count": 88,
      "outputs": [
        {
          "output_type": "execute_result",
          "data": {
            "text/html": [
              "<div>\n",
              "<style scoped>\n",
              "    .dataframe tbody tr th:only-of-type {\n",
              "        vertical-align: middle;\n",
              "    }\n",
              "\n",
              "    .dataframe tbody tr th {\n",
              "        vertical-align: top;\n",
              "    }\n",
              "\n",
              "    .dataframe thead th {\n",
              "        text-align: right;\n",
              "    }\n",
              "</style>\n",
              "<table border=\"1\" class=\"dataframe\">\n",
              "  <thead>\n",
              "    <tr style=\"text-align: right;\">\n",
              "      <th></th>\n",
              "      <th>Name</th>\n",
              "      <th>Type 1</th>\n",
              "      <th>Attack</th>\n",
              "      <th>Defense</th>\n",
              "      <th>Speed</th>\n",
              "    </tr>\n",
              "  </thead>\n",
              "  <tbody>\n",
              "    <tr>\n",
              "      <th>495</th>\n",
              "      <td>Munchlax</td>\n",
              "      <td>Normal</td>\n",
              "      <td>85</td>\n",
              "      <td>40</td>\n",
              "      <td>5</td>\n",
              "    </tr>\n",
              "    <tr>\n",
              "      <th>230</th>\n",
              "      <td>Shuckle</td>\n",
              "      <td>Bug</td>\n",
              "      <td>10</td>\n",
              "      <td>230</td>\n",
              "      <td>5</td>\n",
              "    </tr>\n",
              "    <tr>\n",
              "      <th>658</th>\n",
              "      <td>Ferroseed</td>\n",
              "      <td>Grass</td>\n",
              "      <td>50</td>\n",
              "      <td>91</td>\n",
              "      <td>10</td>\n",
              "    </tr>\n",
              "    <tr>\n",
              "      <th>486</th>\n",
              "      <td>Bonsly</td>\n",
              "      <td>Rock</td>\n",
              "      <td>80</td>\n",
              "      <td>95</td>\n",
              "      <td>10</td>\n",
              "    </tr>\n",
              "    <tr>\n",
              "      <th>359</th>\n",
              "      <td>Trapinch</td>\n",
              "      <td>Ground</td>\n",
              "      <td>100</td>\n",
              "      <td>45</td>\n",
              "      <td>10</td>\n",
              "    </tr>\n",
              "  </tbody>\n",
              "</table>\n",
              "</div>"
            ],
            "text/plain": [
              "          Name  Type 1  Attack  Defense  Speed\n",
              "495   Munchlax  Normal      85       40      5\n",
              "230    Shuckle     Bug      10      230      5\n",
              "658  Ferroseed   Grass      50       91     10\n",
              "486     Bonsly    Rock      80       95     10\n",
              "359   Trapinch  Ground     100       45     10"
            ]
          },
          "metadata": {
            "tags": []
          },
          "execution_count": 88
        }
      ]
    },
    {
      "cell_type": "markdown",
      "metadata": {
        "id": "2HaTeaKmQh0e"
      },
      "source": [
        "5) Display mean of each column"
      ]
    },
    {
      "cell_type": "code",
      "metadata": {
        "id": "u2YUzQ01QoTb",
        "colab": {
          "base_uri": "https://localhost:8080/"
        },
        "outputId": "6792ee0f-9e60-489c-f18b-00b695838e01"
      },
      "source": [
        "pokemon_df.mean()"
      ],
      "execution_count": 87,
      "outputs": [
        {
          "output_type": "execute_result",
          "data": {
            "text/plain": [
              "Attack     79.00125\n",
              "Defense    73.84250\n",
              "Speed      68.27750\n",
              "dtype: float64"
            ]
          },
          "metadata": {
            "tags": []
          },
          "execution_count": 87
        }
      ]
    },
    {
      "cell_type": "markdown",
      "metadata": {
        "id": "m9kkL_pCkv0Q"
      },
      "source": [
        "6) transpose( ) to to convert dataframe's index to column and columns to index"
      ]
    },
    {
      "cell_type": "code",
      "metadata": {
        "colab": {
          "base_uri": "https://localhost:8080/",
          "height": 112
        },
        "id": "gQWGf2tbk8_f",
        "outputId": "30cba310-e20a-4fe1-eec8-dc6bd2f6ef3a"
      },
      "source": [
        "df.transpose()"
      ],
      "execution_count": 69,
      "outputs": [
        {
          "output_type": "execute_result",
          "data": {
            "text/html": [
              "<div>\n",
              "<style scoped>\n",
              "    .dataframe tbody tr th:only-of-type {\n",
              "        vertical-align: middle;\n",
              "    }\n",
              "\n",
              "    .dataframe tbody tr th {\n",
              "        vertical-align: top;\n",
              "    }\n",
              "\n",
              "    .dataframe thead th {\n",
              "        text-align: right;\n",
              "    }\n",
              "</style>\n",
              "<table border=\"1\" class=\"dataframe\">\n",
              "  <thead>\n",
              "    <tr style=\"text-align: right;\">\n",
              "      <th></th>\n",
              "      <th>0</th>\n",
              "      <th>1</th>\n",
              "      <th>2</th>\n",
              "      <th>3</th>\n",
              "    </tr>\n",
              "  </thead>\n",
              "  <tbody>\n",
              "    <tr>\n",
              "      <th>Name</th>\n",
              "      <td>Hulk</td>\n",
              "      <td>Black Widow</td>\n",
              "      <td>Wanda</td>\n",
              "      <td>Vision</td>\n",
              "    </tr>\n",
              "    <tr>\n",
              "      <th>actor</th>\n",
              "      <td>Mark Ruffalo</td>\n",
              "      <td>Scarlett Johansson</td>\n",
              "      <td>Elizabeth Olsen</td>\n",
              "      <td>Paul Bettany</td>\n",
              "    </tr>\n",
              "  </tbody>\n",
              "</table>\n",
              "</div>"
            ],
            "text/plain": [
              "                  0                   1                2             3\n",
              "Name           Hulk         Black Widow            Wanda        Vision\n",
              "actor  Mark Ruffalo  Scarlett Johansson  Elizabeth Olsen  Paul Bettany"
            ]
          },
          "metadata": {
            "tags": []
          },
          "execution_count": 69
        }
      ]
    },
    {
      "cell_type": "markdown",
      "metadata": {
        "id": "7Gp6biz3mKul"
      },
      "source": [
        "\n",
        "\n",
        "---\n",
        "\n"
      ]
    },
    {
      "cell_type": "markdown",
      "metadata": {
        "id": "Tl1Nw0v8Q1GY"
      },
      "source": [
        "                                                         10. String Manipulations."
      ]
    },
    {
      "cell_type": "markdown",
      "metadata": {
        "id": "-zCv9n-lQ_VR"
      },
      "source": [
        "String manipulation is the process of changing, parsing, splicing, pasting, or analyzing strings"
      ]
    },
    {
      "cell_type": "code",
      "metadata": {
        "id": "TBYAQBTORaV6",
        "colab": {
          "base_uri": "https://localhost:8080/"
        },
        "outputId": "9fda9573-9d0e-4288-dfad-756ec19fcfd6"
      },
      "source": [
        "# python script for create a dataframe for string manipulations\n",
        "import pandas as pd\n",
        "import numpy as np\n",
        "  \n",
        "df = pd.Series(['A Far Off Place', ' Bound by Honor', ' The Three Musketeers','Cabin Boy'])\n",
        "df"
      ],
      "execution_count": 76,
      "outputs": [
        {
          "output_type": "execute_result",
          "data": {
            "text/plain": [
              "0          A Far Off Place\n",
              "1           Bound by Honor\n",
              "2     The Three Musketeers\n",
              "3                Cabin Boy\n",
              "dtype: object"
            ]
          },
          "metadata": {
            "tags": []
          },
          "execution_count": 76
        }
      ]
    },
    {
      "cell_type": "markdown",
      "metadata": {
        "id": "q-LBYZQaR4jU"
      },
      "source": [
        "1)lower()"
      ]
    },
    {
      "cell_type": "markdown",
      "metadata": {
        "id": "RmJrDkbjR8Ec"
      },
      "source": [
        " Converts all uppercase characters in strings in the DataFrame to lower case and returns the lowercase strings in the result."
      ]
    },
    {
      "cell_type": "code",
      "metadata": {
        "id": "R0Iv-Zv4R-2p",
        "colab": {
          "base_uri": "https://localhost:8080/"
        },
        "outputId": "de6b11b1-63fd-457e-865e-c54630d0a72a"
      },
      "source": [
        "df.str.lower()"
      ],
      "execution_count": 77,
      "outputs": [
        {
          "output_type": "execute_result",
          "data": {
            "text/plain": [
              "0          a far off place\n",
              "1           bound by honor\n",
              "2     the three musketeers\n",
              "3                cabin boy\n",
              "dtype: object"
            ]
          },
          "metadata": {
            "tags": []
          },
          "execution_count": 77
        }
      ]
    },
    {
      "cell_type": "markdown",
      "metadata": {
        "id": "gZYdkOgRSFQq"
      },
      "source": [
        "2) upper()"
      ]
    },
    {
      "cell_type": "markdown",
      "metadata": {
        "id": "qFIIGf5HSKZ4"
      },
      "source": [
        "Converts all lowercase characters in strings in the DataFrame to upper case and returns the uppercase strings in result."
      ]
    },
    {
      "cell_type": "code",
      "metadata": {
        "id": "RMregQaTSNj8",
        "colab": {
          "base_uri": "https://localhost:8080/"
        },
        "outputId": "d3d90a66-1b8e-4827-e99a-da6a1e14c29d"
      },
      "source": [
        "df.str.upper()"
      ],
      "execution_count": 78,
      "outputs": [
        {
          "output_type": "execute_result",
          "data": {
            "text/plain": [
              "0          A FAR OFF PLACE\n",
              "1           BOUND BY HONOR\n",
              "2     THE THREE MUSKETEERS\n",
              "3                CABIN BOY\n",
              "dtype: object"
            ]
          },
          "metadata": {
            "tags": []
          },
          "execution_count": 78
        }
      ]
    },
    {
      "cell_type": "markdown",
      "metadata": {
        "id": "mGXLNVydSTLc"
      },
      "source": [
        "3) strip()"
      ]
    },
    {
      "cell_type": "markdown",
      "metadata": {
        "id": "mBA15ocESVxw"
      },
      "source": [
        "If there are spaces at the beginning or end of a string, we should trim the strings to eliminate spaces using strip() or remove the extra spaces contained by a string in DataFrame"
      ]
    },
    {
      "cell_type": "code",
      "metadata": {
        "id": "b5YpcILcSaNl",
        "colab": {
          "base_uri": "https://localhost:8080/"
        },
        "outputId": "413f761e-e968-4899-865e-051b76edd7fe"
      },
      "source": [
        "df\n",
        "print('\\nAfter using the strip:')\n",
        "df.str.strip()"
      ],
      "execution_count": 80,
      "outputs": [
        {
          "output_type": "stream",
          "text": [
            "\n",
            "After using the strip:\n"
          ],
          "name": "stdout"
        },
        {
          "output_type": "execute_result",
          "data": {
            "text/plain": [
              "0         A Far Off Place\n",
              "1          Bound by Honor\n",
              "2    The Three Musketeers\n",
              "3               Cabin Boy\n",
              "dtype: object"
            ]
          },
          "metadata": {
            "tags": []
          },
          "execution_count": 80
        }
      ]
    },
    {
      "cell_type": "markdown",
      "metadata": {
        "id": "NW8zUwzDSk8Y"
      },
      "source": [
        "4) split(‘ ‘)"
      ]
    },
    {
      "cell_type": "markdown",
      "metadata": {
        "id": "04RkVbMMSnzK"
      },
      "source": [
        "Splits each string with the given pattern. Strings are split and the new elements after the performed split operation, are stored in a list."
      ]
    },
    {
      "cell_type": "code",
      "metadata": {
        "id": "-cXbZbK_StIT",
        "colab": {
          "base_uri": "https://localhost:8080/"
        },
        "outputId": "589ea275-7d5f-48f0-f140-db8d479a8311"
      },
      "source": [
        "\n",
        "# split(pattern)\n",
        "print(df)\n",
        "print('\\nAfter using the strip:')\n",
        "print(df.str.split(','))\n",
        "  \n",
        "# now we can use [] or get() to fetch \n",
        "# the index values\n",
        "print('\\nusing []:')\n",
        "print(df.str.split(',').str[0])\n",
        "  \n",
        "print('\\nusing get():')\n",
        "print(df.str.split(',').str.get(1))"
      ],
      "execution_count": 79,
      "outputs": [
        {
          "output_type": "stream",
          "text": [
            "0          A Far Off Place\n",
            "1           Bound by Honor\n",
            "2     The Three Musketeers\n",
            "3                Cabin Boy\n",
            "dtype: object\n",
            "\n",
            "After using the strip:\n",
            "0          [A Far Off Place]\n",
            "1          [ Bound by Honor]\n",
            "2    [ The Three Musketeers]\n",
            "3                [Cabin Boy]\n",
            "dtype: object\n",
            "\n",
            "using []:\n",
            "0          A Far Off Place\n",
            "1           Bound by Honor\n",
            "2     The Three Musketeers\n",
            "3                Cabin Boy\n",
            "dtype: object\n",
            "\n",
            "using get():\n",
            "0   NaN\n",
            "1   NaN\n",
            "2   NaN\n",
            "3   NaN\n",
            "dtype: float64\n"
          ],
          "name": "stdout"
        }
      ]
    },
    {
      "cell_type": "markdown",
      "metadata": {
        "id": "RES2Hs3dS2pW"
      },
      "source": [
        "5) len()"
      ]
    },
    {
      "cell_type": "markdown",
      "metadata": {
        "id": "C4LXU3yDS7aF"
      },
      "source": [
        "With the help of len() we can compute the length of each string in DataFrame & if there is empty data in DataFrame, it returns NaN."
      ]
    },
    {
      "cell_type": "code",
      "metadata": {
        "id": "29Nr0JE4S_ly",
        "colab": {
          "base_uri": "https://localhost:8080/"
        },
        "outputId": "a1082de1-70e6-4b2b-c72d-3fd69b338575"
      },
      "source": [
        "print(\"length of the dataframe: \", len(df))\n",
        "print(\"length of each value of dataframe:\")\n",
        "df.str.len()"
      ],
      "execution_count": 81,
      "outputs": [
        {
          "output_type": "stream",
          "text": [
            "length of the dataframe:  4\n",
            "length of each value of dataframe:\n"
          ],
          "name": "stdout"
        },
        {
          "output_type": "execute_result",
          "data": {
            "text/plain": [
              "0    15\n",
              "1    15\n",
              "2    21\n",
              "3     9\n",
              "dtype: int64"
            ]
          },
          "metadata": {
            "tags": []
          },
          "execution_count": 81
        }
      ]
    },
    {
      "cell_type": "markdown",
      "metadata": {
        "id": "kWasC0KuTIuK"
      },
      "source": [
        "6) cat(sep=’ ‘)\n"
      ]
    },
    {
      "cell_type": "markdown",
      "metadata": {
        "id": "rCM1M7W8TOC3"
      },
      "source": [
        " It concatenates the data-frame index elements or each string in DataFrame with given separator."
      ]
    },
    {
      "cell_type": "code",
      "metadata": {
        "id": "IOUjPJO3TQ1s",
        "colab": {
          "base_uri": "https://localhost:8080/"
        },
        "outputId": "e7ec6a4b-8cf4-4fa9-e493-d7cd42293557"
      },
      "source": [
        "print(df)\n",
        "  \n",
        "print(\"\\nafter using cat:\")\n",
        "print(df.str.cat(sep='_'))\n",
        "  \n",
        "print(\"\\nworking with NaN using cat:\")\n",
        "print(df.str.cat(sep='_', na_rep='#'))"
      ],
      "execution_count": 82,
      "outputs": [
        {
          "output_type": "stream",
          "text": [
            "0          A Far Off Place\n",
            "1           Bound by Honor\n",
            "2     The Three Musketeers\n",
            "3                Cabin Boy\n",
            "dtype: object\n",
            "\n",
            "after using cat:\n",
            "A Far Off Place_ Bound by Honor_ The Three Musketeers_Cabin Boy\n",
            "\n",
            "working with NaN using cat:\n",
            "A Far Off Place_ Bound by Honor_ The Three Musketeers_Cabin Boy\n"
          ],
          "name": "stdout"
        }
      ]
    },
    {
      "cell_type": "markdown",
      "metadata": {
        "id": "Kxin5ApuTcgX"
      },
      "source": [
        "7) repeat(value)"
      ]
    },
    {
      "cell_type": "markdown",
      "metadata": {
        "id": "iO37MI0iTiJv"
      },
      "source": [
        "It repeats each element with a given number of times like below in example, there are two appearances of each string in DataFrame."
      ]
    },
    {
      "cell_type": "code",
      "metadata": {
        "id": "BHXf1CnpTmZZ",
        "colab": {
          "base_uri": "https://localhost:8080/"
        },
        "outputId": "36a3bfdd-cacc-404d-f022-e64bba43fc3e"
      },
      "source": [
        "df.str.repeat(2)"
      ],
      "execution_count": 86,
      "outputs": [
        {
          "output_type": "execute_result",
          "data": {
            "text/plain": [
              "0                A Far Off PlaceA Far Off Place\n",
              "1                 Bound by Honor Bound by Honor\n",
              "2     The Three Musketeers The Three Musketeers\n",
              "3                            Cabin BoyCabin Boy\n",
              "dtype: object"
            ]
          },
          "metadata": {
            "tags": []
          },
          "execution_count": 86
        }
      ]
    },
    {
      "cell_type": "markdown",
      "metadata": {
        "id": "2CfYXs7yTteF"
      },
      "source": [
        "8) count(pattern)"
      ]
    },
    {
      "cell_type": "markdown",
      "metadata": {
        "id": "GXcHE6QqTyuR"
      },
      "source": [
        "It returns the count of the appearance of pattern in each element in Data-Frame like below in example it counts ‘n’ in each string of DataFrame and returns the total counts of ‘n’ in each string."
      ]
    },
    {
      "cell_type": "code",
      "metadata": {
        "id": "GEb3x7IJT2AX",
        "colab": {
          "base_uri": "https://localhost:8080/"
        },
        "outputId": "6803fb1c-1ac9-4022-91be-11f19be9a321"
      },
      "source": [
        "print(df.str.count('o'))"
      ],
      "execution_count": 83,
      "outputs": [
        {
          "output_type": "stream",
          "text": [
            "0    0\n",
            "1    3\n",
            "2    0\n",
            "3    1\n",
            "dtype: int64\n"
          ],
          "name": "stdout"
        }
      ]
    },
    {
      "cell_type": "markdown",
      "metadata": {
        "id": "-WNceeeDT-pk"
      },
      "source": [
        "9) isupper() and isnumeric()"
      ]
    },
    {
      "cell_type": "markdown",
      "metadata": {
        "id": "oDESuevvUB_m"
      },
      "source": [
        "isupper() checks whether all characters in each string in the Index of the Data-Frame in upper case or not, and returns a Boolean value.isnumeric() checks whether all characters in each string in the Index of the Data-Frame are numeric or not, and returns a Boolean value."
      ]
    },
    {
      "cell_type": "code",
      "metadata": {
        "id": "OF9LoNcPUTbE",
        "colab": {
          "base_uri": "https://localhost:8080/"
        },
        "outputId": "025c1718-f61b-4b1e-df62-f03ee7c67a54"
      },
      "source": [
        "print(df.str.isupper()) \n",
        "print(\"\\n-----------\\n\")\n",
        "print(df.str.isnumeric())"
      ],
      "execution_count": 84,
      "outputs": [
        {
          "output_type": "stream",
          "text": [
            "0    False\n",
            "1    False\n",
            "2    False\n",
            "3    False\n",
            "dtype: bool\n",
            "\n",
            "-----------\n",
            "\n",
            "0    False\n",
            "1    False\n",
            "2    False\n",
            "3    False\n",
            "dtype: bool\n"
          ],
          "name": "stdout"
        }
      ]
    },
    {
      "cell_type": "markdown",
      "metadata": {
        "id": "oOsMaQ1CUmQK"
      },
      "source": [
        "It swaps the case lower to upper and vice-versa"
      ]
    },
    {
      "cell_type": "code",
      "metadata": {
        "id": "tfmL1hdDUqf0"
      },
      "source": [
        "df.str.swapcase()"
      ],
      "execution_count": null,
      "outputs": []
    },
    {
      "cell_type": "markdown",
      "metadata": {
        "id": "YrvWdWwaU2l1"
      },
      "source": [
        "10) find(pattern) and findall(pattern)"
      ]
    },
    {
      "cell_type": "markdown",
      "metadata": {
        "id": "OSqtCu-EU-1t"
      },
      "source": [
        "find(pattern)returns first position of the first occurrence of the pattern.findall(pattern) returns a list of all occurrences of the pattern"
      ]
    },
    {
      "cell_type": "code",
      "metadata": {
        "id": "QLS9q5D1VaOW",
        "colab": {
          "base_uri": "https://localhost:8080/"
        },
        "outputId": "10cea4a2-54f1-48af-fdcf-b1113216220f"
      },
      "source": [
        "# find(pattern) in result '-1' indicates there is no value matching with given pattern in particular row\n",
        "print(df.str.find('n'))\n",
        "print(\"\\n-----------\\n\")\n",
        "# findall(pattern) in result [] indicates null list as  there is no value matching with given pattern in particular row\n",
        "print(df.str.findall('n'))"
      ],
      "execution_count": 85,
      "outputs": [
        {
          "output_type": "stream",
          "text": [
            "0   -1\n",
            "1    4\n",
            "2   -1\n",
            "3    4\n",
            "dtype: int64\n",
            "\n",
            "-----------\n",
            "\n",
            "0        []\n",
            "1    [n, n]\n",
            "2        []\n",
            "3       [n]\n",
            "dtype: object\n"
          ],
          "name": "stdout"
        }
      ]
    },
    {
      "cell_type": "markdown",
      "metadata": {
        "id": "vuEv_hpymQ1M"
      },
      "source": [
        "\n",
        "\n",
        "---\n",
        "\n"
      ]
    },
    {
      "cell_type": "markdown",
      "metadata": {
        "id": "ea5rxsmgmNC9"
      },
      "source": [
        "\n",
        "\n",
        "---\n",
        "\n"
      ]
    },
    {
      "cell_type": "markdown",
      "metadata": {
        "id": "teENnWsfmPB3"
      },
      "source": [
        "\n",
        "\n",
        "---\n",
        "\n"
      ]
    }
  ]
}